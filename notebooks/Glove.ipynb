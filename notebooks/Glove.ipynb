{
 "cells": [
  {
   "cell_type": "code",
   "execution_count": 1,
   "metadata": {
    "collapsed": true
   },
   "outputs": [],
   "source": [
    "from six.moves import cPickle as pickle\n",
    "import numpy as np\n",
    "import json\n",
    "from sklearn.neighbors import KDTree\n",
    "from collections import OrderedDict\n",
    "from sklearn.metrics.pairwise import cosine_similarity, cosine_distances\n",
    "import scipy\n",
    "import matplotlib.pyplot as plt\n",
    "from nltk.tokenize.moses import MosesTokenizer\n",
    "tokenizer = MosesTokenizer()\n"
   ]
  },
  {
   "cell_type": "code",
   "execution_count": 2,
   "metadata": {
    "collapsed": true
   },
   "outputs": [],
   "source": [
    "def get_pairwise_distances(G):\n",
    "    # G = pickle.load(open('data/Glove/cocotalk_glove_v2.pkl', 'r'))\n",
    "    eps = 1e-6\n",
    "    print(\"G shape:\", G.shape, len(G))\n",
    "    #  G[-1] = np.mean(G)\n",
    "    for i in range(len(G)):\n",
    "        if not np.sum(G[i] ** 2):\n",
    "            print('%d) norm(g) = 0' % i)\n",
    "            G[i] = eps + G[i]\n",
    "    Ds = scipy.spatial.distance.pdist(G, metric='cosine')\n",
    "    Ds = scipy.spatial.distance.squareform(Ds)\n",
    "    As = np.diag(Ds)\n",
    "    print(\"(scipy) sum:\", np.sum(As), \"min:\", np.min(Ds), np.min(As), \"max:\", np.max(Ds), np.max(As))\n",
    "    Ds = 1 - Ds / 2# map to [0,1]\n",
    "    print(\"Shapes:\", Ds.shape, np.min(Ds), np.max(Ds), np.diag(Ds))\n",
    "    return Ds\n",
    "\n",
    "\n",
    "def prepare_glove(ixtow, source, dim=300):\n",
    "    \"\"\"\n",
    "    inputs:\n",
    "        ixtow : index to word dictionnary of the vocab\n",
    "        source: dict of the glove vectors\n",
    "    \"\"\"\n",
    "    missing = []\n",
    "    G = np.zeros((len(ixtow), dim), dtype=\"float32\") # 300 in case of using glove\n",
    "    for i in range(len(ixtow)):\n",
    "        word = ixtow[i]\n",
    "        #  print \"word:\", word\n",
    "        if word in source:\n",
    "            G[i] = source[word]\n",
    "            if not np.sum(G[i] ** 2):\n",
    "                raise ValueError(\"Norm of glove embedding null token %d| word %s\" % (i, word) )\n",
    "        else:\n",
    "            missing.append(word)\n",
    "        \n",
    "    # pickle.dump(G, open('data/Glove/%s' % output, 'wb'), protocol=pickle.HIGHEST_PROTOCOL)\n",
    "    return G, missing  "
   ]
  },
  {
   "cell_type": "code",
   "execution_count": null,
   "metadata": {
    "collapsed": true
   },
   "outputs": [],
   "source": [
    "# pickle.dump(Glove, open('data/Glove/glove_dict.pkl', 'w'), protocol=pickle.HIGHEST_PROTOCOL)\n",
    "# Glove = pickle.load(open('data/Glove/glove_dict_fr.pkl', 'rb'))\n",
    "# Glove = pickle.load(open('data/embeddings/full_image.pkl', 'rb'), encoding='iso-8859-1')"
   ]
  },
  {
   "cell_type": "code",
   "execution_count": 16,
   "metadata": {},
   "outputs": [
    {
     "name": "stdout",
     "output_type": "stream",
     "text": [
      "Vocabulary size: 9488\n"
     ]
    }
   ],
   "source": [
    "#Load vocab\n",
    "# data = pickle.load(open('../seq2seq/data/WMT14/fr_trg.pkl', \"rb\"))\n",
    "itow = json.load(open('../data/coco/cocotalk.json', 'r'))['ix_to_word']\n",
    "itow = {int(k): v for k,v in itow.items()}\n",
    "itow[0] = 'EOS'\n",
    "print('Vocabulary size:', len(itow))"
   ]
  },
  {
   "cell_type": "code",
   "execution_count": 20,
   "metadata": {
    "collapsed": true
   },
   "outputs": [],
   "source": [
    "REF = \"glove_coco_d512_w10\" \n",
    "glove_dict = {}\n",
    "with open('../data/Glove/vectors.w10.d512.txt', 'r') as f:\n",
    "    for l in f.readlines():\n",
    "        l = l.strip().split()\n",
    "        word = l[0]\n",
    "        code = np.array(l[1:])\n",
    "        glove_dict[word] = code\n",
    "pickle.dump(glove_dict, open('../data/Glove/%s_dict.pkl' % REF, 'wb'))"
   ]
  },
  {
   "cell_type": "code",
   "execution_count": 21,
   "metadata": {},
   "outputs": [
    {
     "name": "stdout",
     "output_type": "stream",
     "text": [
      "Preparing Glove embeddings matrix\n",
      "missing words:  ['EOS', 'UNK']\n",
      "G shape: (9488, 512) 9488\n",
      "0) norm(g) = 0\n",
      "9487) norm(g) = 0\n",
      "(scipy) sum: 0.0 min: 0.0 0.0 max: 1.81367281115 0.0\n",
      "Shapes: (9488, 9488) 0.0931635944248 1.0 [ 1.  1.  1. ...,  1.  1.  1.]\n"
     ]
    }
   ],
   "source": [
    "print(\"Preparing Glove embeddings matrix\")\n",
    "glove_matrix, mis = prepare_glove(itow, glove_dict, dim=512)\n",
    "pickle.dump(glove_matrix, open('../data/Glove/%s_matrix.pkl' % REF, \"wb\"))\n",
    "print('missing words: ', mis)\n",
    "Sim = get_pairwise_distances(glove_matrix)\n",
    "Sim = np.float32(Sim)\n",
    "pickle.dump(Sim, open('../data/Glove/%s_similarities.pkl' % REF, 'wb'))"
   ]
  },
  {
   "cell_type": "code",
   "execution_count": null,
   "metadata": {
    "collapsed": true
   },
   "outputs": [],
   "source": []
  }
 ],
 "metadata": {
  "kernelspec": {
   "display_name": "Python 3",
   "language": "python",
   "name": "python3"
  },
  "language_info": {
   "codemirror_mode": {
    "name": "ipython",
    "version": 3
   },
   "file_extension": ".py",
   "mimetype": "text/x-python",
   "name": "python",
   "nbconvert_exporter": "python",
   "pygments_lexer": "ipython3",
   "version": "3.6.2"
  }
 },
 "nbformat": 4,
 "nbformat_minor": 2
}
