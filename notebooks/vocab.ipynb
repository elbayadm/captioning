{
 "cells": [
  {
   "cell_type": "code",
   "execution_count": 1,
   "metadata": {
    "collapsed": true
   },
   "outputs": [],
   "source": [
    "import random\n",
    "from six.moves import cPickle as pickle\n",
    "from scipy import stats\n",
    "import matplotlib.pyplot as plt\n",
    "from matplotlib import rc\n",
    "rc('text', usetex=True)\n",
    "from PIL import Image\n",
    "import numpy as np\n",
    "from scipy.misc import comb\n",
    "from math import log, exp, sqrt\n",
    "import seaborn as sns\n",
    "sns.set_context(\"paper\")\n",
    "# sns.set_context('talk')\n",
    "import string\n",
    "import json\n",
    "import pickle\n",
    "from mpl_toolkits.mplot3d import Axes3D\n",
    "%matplotlib inline"
   ]
  },
  {
   "cell_type": "markdown",
   "metadata": {
    "collapsed": true
   },
   "source": [
    "## word neighbors"
   ]
  },
  {
   "cell_type": "code",
   "execution_count": 2,
   "metadata": {
    "collapsed": true
   },
   "outputs": [],
   "source": [
    "# Constants\n",
    "itow = json.load(open('../data/coco/cocotalk.json', 'r'))['ix_to_word']\n",
    "WORDS = {int(k): v for k, v in itow.items()}\n",
    "if 0 not in WORDS:\n",
    "    WORDS[0] = 'EOS'\n",
    "MATCH = {v: k for k,v in WORDS.items()}\n",
    "del itow\n",
    "FF = pickle.load(open('../data/coco/idf_coco_01.pkl', 'rb'))\n",
    "F = pickle.load(open('cooc_freq.pkl', 'rb'))[0]\n",
    "\n",
    "# utils:\n",
    "def normalize(A):\n",
    "    l1 = A.sum(axis=1)\n",
    "    A /= l1.reshape(len(A), 1)\n",
    "    return A\n",
    "\n",
    "def invocab(ngram):\n",
    "    for w in ngram:\n",
    "        if w not in MATCH:\n",
    "            return False\n",
    "    return True\n",
    "\n",
    "def exps(sim, tau=0.2, freq=False):\n",
    "    if freq:\n",
    "        return normalize(np.exp((sim-1 - tau * FF)/tau))\n",
    "    else:\n",
    "        return normalize(np.exp((sim-1)/tau))\n",
    "    \n",
    "sim_wiki = pickle.load(open('../data/Glove/glove_wiki_d300_w15_similarities.pkl',\n",
    "                             'rb'), encoding='iso-8859-1')\n",
    "sim_coco = pickle.load(open('../data/Glove/glove_coco_d300_w15_similarities.pkl','rb'))\n"
   ]
  },
  {
   "cell_type": "code",
   "execution_count": 3,
   "metadata": {
    "collapsed": true
   },
   "outputs": [],
   "source": [
    "A = json.load(open('../data/coco/captions_train2014.json', 'r'))['annotations']\n",
    "caps = {}\n",
    "for a in A:\n",
    "    if a['image_id'] in caps:\n",
    "        caps[a['image_id']].append(a['caption'].split())\n",
    "    else:\n",
    "        caps[a['image_id']] = [a['caption'].split()]"
   ]
  },
  {
   "cell_type": "code",
   "execution_count": 105,
   "metadata": {
    "collapsed": true
   },
   "outputs": [],
   "source": [
    "# caps lengths\n",
    "lengths = [len(c) for k, cs in caps.items() for c in cs]\n",
    "# words per image\n",
    "wpeim = []\n",
    "for k, cs in caps.items():\n",
    "    merge = []\n",
    "    for c in cs:\n",
    "        merge += c\n",
    "    wpeim.append(len(set(merge)))\n",
    "# common\n",
    "common = []\n",
    "for k, cs in caps.items():\n",
    "    for e, c in enumerate(cs):\n",
    "        if not e:\n",
    "            sh = set(c)\n",
    "        else:\n",
    "            sh = sh.intersection(c)\n",
    "    common.append(len(sh))\n",
    "# repeated\n",
    "rep = [len(c) - len(set(c)) for k, cs in caps.items() for c in cs]\n",
    "wperbatch = []\n",
    "imids = list(caps)\n",
    "random.shuffle(imids)\n",
    "for b in range(4000):\n",
    "    bim = imids[10 * b: 10 * (b+1)]\n",
    "    merge = []\n",
    "    for k in bim:\n",
    "        for c in caps[k]:\n",
    "            merge += c\n",
    "    wperbatch.append(len(set(merge)))\n"
   ]
  },
  {
   "cell_type": "code",
   "execution_count": 115,
   "metadata": {},
   "outputs": [
    {
     "data": {
      "image/png": "[encoded data removed]",
      "text/plain": [
       "<matplotlib.figure.Figure at 0x7f0623106400>"
      ]
     },
     "metadata": {},
     "output_type": "display_data"
    }
   ],
   "source": [
    "sns.set()\n",
    "sns.set_style('whitegrid', rc={\"axes.edgecolor\": 'darkgray'})\n",
    "sns.set_context('paper', font_scale=2.3, rc={\"lines.linewidth\": 2,\n",
    "                                             \"lines.markersize\": 8})\n",
    "fig, axs = plt.subplots(1, 2, figsize=(10, 4),\n",
    "#                         gridspec_kw = {'width_ratios':[2, 5, 5]}\n",
    "                       )\n",
    "\n",
    "# sns.distplot(common, ax=axs[0], kde=False, color=\"darkred\")\n",
    "# axs[0].set_xticks(range(6))\n",
    "# axs[0].set_xlim([0,5])\n",
    "# axs[0].set_title('Common words\\nper image') \n",
    "\n",
    "e = 0\n",
    "sns.distplot(wpeim, ax=axs[e], kde=False, fit=stats.norm, color=\"darkred\")\n",
    "axs[e].set_xticks([10*x for x in range(2,6)])\n",
    "axs[e].set_xlim([12,55])\n",
    "axs[e].set_title('$\\\\mathcal V_{refs}$') #, fontsize=18)\n",
    "\n",
    "e = 1\n",
    "sns.distplot(wperbatch, ax=axs[e], kde=False, fit=stats.norm, color=\"darkred\")\n",
    "axs[e].set_xticks([30*x for x in range(5,10)])\n",
    "# axs[1].set_xlim([12,55])\n",
    "axs[e].set_title('$\\\\mathcal V_{batch}$') #, fontsize=18)\n",
    "\n",
    "#, fontsize=18)\n",
    "\n",
    "plt.savefig('../figures/stats_words_coco.png',\n",
    "            dpi=300, bbox_inches='tight')"
   ]
  },
  {
   "cell_type": "code",
   "execution_count": 83,
   "metadata": {},
   "outputs": [
    {
     "data": {
      "text/plain": [
       "<matplotlib.axes._subplots.AxesSubplot at 0x7f06249cf278>"
      ]
     },
     "execution_count": 83,
     "metadata": {},
     "output_type": "execute_result"
    },
    {
     "data": {
      "image/png": "[encoded data removed]",
      "text/plain": [
       "<matplotlib.figure.Figure at 0x7f0624ab4128>"
      ]
     },
     "metadata": {},
     "output_type": "display_data"
    }
   ],
   "source": [
    "sns.distplot(wperbatch)"
   ]
  },
  {
   "cell_type": "code",
   "execution_count": 4,
   "metadata": {
    "collapsed": true
   },
   "outputs": [],
   "source": [
    "captions = [c for k, cap in caps.items() for c in cap]"
   ]
  },
  {
   "cell_type": "code",
   "execution_count": 5,
   "metadata": {},
   "outputs": [
    {
     "data": {
      "text/plain": [
       "414113"
      ]
     },
     "execution_count": 5,
     "metadata": {},
     "output_type": "execute_result"
    }
   ],
   "source": [
    "len(captions)"
   ]
  },
  {
   "cell_type": "code",
   "execution_count": 7,
   "metadata": {
    "collapsed": true
   },
   "outputs": [],
   "source": [
    "with open('../captions.txt', 'w') as f:\n",
    "    for c in captions:\n",
    "        f.write('%s\\n' % ' '.join(c))"
   ]
  },
  {
   "cell_type": "code",
   "execution_count": null,
   "metadata": {
    "collapsed": true
   },
   "outputs": [],
   "source": []
  }
 ],
 "metadata": {
  "kernelspec": {
   "display_name": "Python 3",
   "language": "python",
   "name": "python3"
  },
  "language_info": {
   "codemirror_mode": {
    "name": "ipython",
    "version": 3
   },
   "file_extension": ".py",
   "mimetype": "text/x-python",
   "name": "python",
   "nbconvert_exporter": "python",
   "pygments_lexer": "ipython3",
   "version": "3.6.2"
  }
 },
 "nbformat": 4,
 "nbformat_minor": 2
}
