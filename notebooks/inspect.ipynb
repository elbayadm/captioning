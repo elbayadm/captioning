{
 "cells": [
  {
   "cell_type": "code",
   "execution_count": 91,
   "metadata": {},
   "outputs": [],
   "source": [
    "import pickle\n",
    "import torch\n",
    "from torchvision.models import resnet50\n",
    "import torch.utils.model_zoo as model_zoo\n"
   ]
  },
  {
   "cell_type": "code",
   "execution_count": 5,
   "metadata": {
    "collapsed": true
   },
   "outputs": [],
   "source": [
    "old = pickle.load(open('../save/old_baseline/infos.pkl', 'rb'), encoding='iso-8859-1')"
   ]
  },
  {
   "cell_type": "code",
   "execution_count": 6,
   "metadata": {
    "collapsed": true
   },
   "outputs": [],
   "source": [
    "curr = pickle.load(open('../save/baseline/infos.pkl', 'rb'))"
   ]
  },
  {
   "cell_type": "code",
   "execution_count": 7,
   "metadata": {},
   "outputs": [
    {
     "data": {
      "text/plain": [
       "dict_keys(['opt', 'vocab', 'loss_history', 'best_val_score', 'lr_history', 'ss_prob_history', 'iter', 'iterators', 'epoch', 'val_result_history'])"
      ]
     },
     "execution_count": 7,
     "metadata": {},
     "output_type": "execute_result"
    }
   ],
   "source": [
    "old.keys()\n"
   ]
  },
  {
   "cell_type": "code",
   "execution_count": 8,
   "metadata": {},
   "outputs": [
    {
     "data": {
      "text/plain": [
       "dict_keys(['iter', 'epoch', 'iterators', 'best_val_score', 'opt', 'val_result_history', 'loss_history', 'lr_history', 'ss_prob_history', 'vocab'])"
      ]
     },
     "execution_count": 8,
     "metadata": {},
     "output_type": "execute_result"
    }
   ],
   "source": [
    "curr.keys()\n"
   ]
  },
  {
   "cell_type": "code",
   "execution_count": 12,
   "metadata": {
    "collapsed": true
   },
   "outputs": [],
   "source": [
    "old_vocab = old['vocab']\n",
    "curr_vocab = curr['vocab']"
   ]
  },
  {
   "cell_type": "code",
   "execution_count": 22,
   "metadata": {
    "collapsed": true
   },
   "outputs": [],
   "source": [
    "for k in old_vocab:\n",
    "    assert old_vocab[k] == curr_vocab[k], 'mismatch key %s' % k"
   ]
  },
  {
   "cell_type": "code",
   "execution_count": 26,
   "metadata": {
    "collapsed": true
   },
   "outputs": [],
   "source": [
    "old_opt = vars(old['opt'])\n",
    "curr_opt = vars(curr['opt'])"
   ]
  },
  {
   "cell_type": "code",
   "execution_count": 27,
   "metadata": {},
   "outputs": [
    {
     "data": {
      "text/plain": [
       "{'att_feat_size': 2048,\n",
       " 'attend_mode': 'concat',\n",
       " 'batch_size': 10,\n",
       " 'beam_size': 3,\n",
       " 'caption_model': 'show_tell',\n",
       " 'cnn_att_feat': 'pool5',\n",
       " 'cnn_fc_feat': 'fc7',\n",
       " 'cnn_learning_rate': 0.1,\n",
       " 'cnn_model': 'resnet50',\n",
       " 'cnn_optim': 'adam',\n",
       " 'cnn_optim_alpha': 0.8,\n",
       " 'cnn_optim_beta': 0.999,\n",
       " 'cnn_weight': '',\n",
       " 'cnn_weight_decay': 0,\n",
       " 'config': 'config/baseline_resnet50_nobos.yaml',\n",
       " 'current_lr': 3.918208204799998e-07,\n",
       " 'drop_prob_lm': 0.5,\n",
       " 'drop_x_lm': 0.5,\n",
       " 'fc_feat_size': 2048,\n",
       " 'finetune_cnn_after': -1,\n",
       " 'finetune_cnn_only': 0,\n",
       " 'forbid_unk': 1,\n",
       " 'grad_clip': 0.1,\n",
       " 'id': '',\n",
       " 'input_encoding_size': 512,\n",
       " 'input_h5': 'data/coco/cocotalk.h5',\n",
       " 'input_json': 'data/coco/cocotalk.json',\n",
       " 'kld_weight': 0,\n",
       " 'language_eval': 1,\n",
       " 'learning_rate': 0.0005,\n",
       " 'learning_rate_decay_every': 3,\n",
       " 'learning_rate_decay_rate': 0.6,\n",
       " 'learning_rate_decay_start': 5,\n",
       " 'lm_model': 'rnn',\n",
       " 'load_best_score': 1,\n",
       " 'logger': None,\n",
       " 'losses_log_every': 25,\n",
       " 'lr_patience': 2,\n",
       " 'lr_strategy': 'step',\n",
       " 'lr_wait': 0,\n",
       " 'max_epochs': -1,\n",
       " 'modelname': 'save/baseline_resnet50_nobos',\n",
       " 'norm_feat': 1,\n",
       " 'num_layers': 1,\n",
       " 'num_regions': 512,\n",
       " 'optim': 'adam',\n",
       " 'optim_alpha': 0.8,\n",
       " 'optim_beta': 0.999,\n",
       " 'optim_epsilon': 1e-08,\n",
       " 'pretrained_cnn': True,\n",
       " 'restart': 1,\n",
       " 'rnn_bias': 0,\n",
       " 'rnn_size': 512,\n",
       " 'rnn_type': 'lstm',\n",
       " 'save_checkpoint_every': 4000,\n",
       " 'scheduled_sampling_increase_every': 5,\n",
       " 'scheduled_sampling_increase_prob': 0.05,\n",
       " 'scheduled_sampling_max_prob': 0.25,\n",
       " 'scheduled_sampling_start': -1,\n",
       " 'seq_length': 16,\n",
       " 'seq_per_img': 5,\n",
       " 'start_from': None,\n",
       " 'start_from_best': 0,\n",
       " 'train_only': 1,\n",
       " 'use_feature_maps': 1,\n",
       " 'vae_nonlin': 'sigmoid',\n",
       " 'vae_weight': 0.1,\n",
       " 'val_images_use': -1,\n",
       " 'vocab_size': 9487,\n",
       " 'weight_decay': 0,\n",
       " 'z_interm_size': 1000,\n",
       " 'z_size': 100}"
      ]
     },
     "execution_count": 27,
     "metadata": {},
     "output_type": "execute_result"
    }
   ],
   "source": [
    "old_opt"
   ]
  },
  {
   "cell_type": "code",
   "execution_count": 28,
   "metadata": {},
   "outputs": [
    {
     "data": {
      "text/plain": [
       "{'alpha': 0.3,\n",
       " 'alpha_increase_every': 2,\n",
       " 'alpha_increase_factor': 0.1,\n",
       " 'alpha_speed': 20000,\n",
       " 'alpha_strategy': 'constant',\n",
       " 'att_feat_size': 2048,\n",
       " 'attend_mode': 'concat',\n",
       " 'augmented_loss_version': 'ml',\n",
       " 'batch_size': 10,\n",
       " 'beam_size': 1,\n",
       " 'beta': 0.1,\n",
       " 'bleu_version': 'soft',\n",
       " 'bootstrap': 0,\n",
       " 'bootstrap_score': 'cider',\n",
       " 'caption_model': 'show_tell',\n",
       " 'clip_sim': 0,\n",
       " 'cnn_att_feat': 'pool5',\n",
       " 'cnn_fc_feat': 'fc7',\n",
       " 'cnn_learning_rate': 0.1,\n",
       " 'cnn_model': 'resnet50',\n",
       " 'cnn_optim': 'adam',\n",
       " 'cnn_optim_alpha': 0.8,\n",
       " 'cnn_optim_beta': 0.999,\n",
       " 'cnn_weight': '',\n",
       " 'cnn_weight_decay': 0,\n",
       " 'combine_caps_losses': 0,\n",
       " 'config': 'config/baseline.yaml',\n",
       " 'current_lr': 1.3996799999999998e-05,\n",
       " 'drop_prob_lm': 0.5,\n",
       " 'drop_x_lm': 0.5,\n",
       " 'eventname': 'events/baseline',\n",
       " 'fc_feat_size': 2048,\n",
       " 'finetune_cnn_after': -1,\n",
       " 'finetune_cnn_only': 0,\n",
       " 'fliplr': 0,\n",
       " 'forbid_unk': 1,\n",
       " 'gpu_id': 0,\n",
       " 'grad_clip': 0.1,\n",
       " 'gt_loss_version': 'ml',\n",
       " 'input_data': 'data/coco/cocotalk',\n",
       " 'input_encoding_size': 512,\n",
       " 'kld_weight': 0,\n",
       " 'language_eval': 1,\n",
       " 'learning_rate': 0.0005,\n",
       " 'learning_rate_decay_every': 3,\n",
       " 'learning_rate_decay_rate': 0.6,\n",
       " 'learning_rate_decay_start': 5,\n",
       " 'limited_vocab_sim': 0,\n",
       " 'load_best_score': 1,\n",
       " 'logger': None,\n",
       " 'loss_version': 'word',\n",
       " 'losses_log_every': 25,\n",
       " 'lr_patience': 2,\n",
       " 'lr_strategy': 'step',\n",
       " 'lr_wait': 0,\n",
       " 'margin': 0.95,\n",
       " 'match_pairs': 0,\n",
       " 'max_epochs': -1,\n",
       " 'modelname': 'save/baseline',\n",
       " 'norm_feat': 1,\n",
       " 'num_layers': 1,\n",
       " 'num_regions': 512,\n",
       " 'optim': 'adam',\n",
       " 'optim_alpha': 0.8,\n",
       " 'optim_beta': 0.999,\n",
       " 'optim_epsilon': 1e-08,\n",
       " 'pretrained_cnn': True,\n",
       " 'restart': 1,\n",
       " 'rnn_bias': 0,\n",
       " 'rnn_size': 512,\n",
       " 'rnn_type': 'lstm',\n",
       " 'sample_cap': 0,\n",
       " 'save_checkpoint_every': 4000,\n",
       " 'scale_loss': 0,\n",
       " 'scale_lr': 0.027993599999999993,\n",
       " 'scheduled_sampling_increase_every': 5,\n",
       " 'scheduled_sampling_increase_prob': 0.05,\n",
       " 'scheduled_sampling_max_prob': 0.25,\n",
       " 'scheduled_sampling_speed': 100,\n",
       " 'scheduled_sampling_start': -1,\n",
       " 'scheduled_sampling_strategy': 'step',\n",
       " 'scheduled_sampling_vocab': 0,\n",
       " 'seq_length': 16,\n",
       " 'seq_per_img': 5,\n",
       " 'similarity_matrix': 'data/Glove/cocotalk_similarities_v2.pkl',\n",
       " 'smooth_remove_equal': 0,\n",
       " 'start_from': None,\n",
       " 'start_from_best': 0,\n",
       " 'tau_sent': 0,\n",
       " 'tau_word': 0.005,\n",
       " 'train_only': 1,\n",
       " 'upsampling_size': 300,\n",
       " 'use_glove': 0,\n",
       " 'vae_nonlin': 'sigmoid',\n",
       " 'vae_weight': 0.1,\n",
       " 'val_images_use': -1,\n",
       " 'vocab_size': 9488,\n",
       " 'weight_decay': 0,\n",
       " 'z_interm_size': 1000,\n",
       " 'z_size': 100}"
      ]
     },
     "execution_count": 28,
     "metadata": {},
     "output_type": "execute_result"
    }
   ],
   "source": [
    "curr_opt"
   ]
  },
  {
   "cell_type": "code",
   "execution_count": 31,
   "metadata": {
    "collapsed": true
   },
   "outputs": [],
   "source": [
    "old_res = old['val_result_history']\n",
    "curr_res = curr['val_result_history']"
   ]
  },
  {
   "cell_type": "code",
   "execution_count": 30,
   "metadata": {},
   "outputs": [
    {
     "data": {
      "text/plain": [
       "dict_keys([320000, 128000, 84000, 348000, 212000, 304000, 388000, 20000, 104000, 188000, 272000, 356000, 168000, 60000, 72000, 156000, 240000, 324000, 392000, 252000, 40000, 124000, 208000, 292000, 376000, 336000, 344000, 8000, 144000, 396000, 228000, 28000, 112000, 196000, 280000, 364000, 312000, 52000, 80000, 164000, 248000, 332000, 92000, 76000, 132000, 216000, 300000, 384000, 16000, 100000, 184000, 268000, 352000, 160000, 176000, 152000, 404000, 244000, 36000, 120000, 288000, 372000, 328000, 204000, 4000, 172000, 256000, 340000, 56000, 140000, 224000, 308000, 220000, 24000, 108000, 192000, 276000, 360000, 48000, 136000, 260000, 44000, 296000, 380000, 12000, 96000, 180000, 88000, 68000, 264000, 64000, 148000, 232000, 316000, 400000, 236000, 32000, 116000, 200000, 284000, 368000])"
      ]
     },
     "execution_count": 30,
     "metadata": {},
     "output_type": "execute_result"
    }
   ],
   "source": [
    "old_res.keys()"
   ]
  },
  {
   "cell_type": "code",
   "execution_count": 32,
   "metadata": {},
   "outputs": [
    {
     "data": {
      "text/plain": [
       "dict_keys([4000, 8000, 12000, 16000, 20000, 24000, 28000, 32000, 36000, 40000, 44000, 48000, 52000, 56000, 60000, 64000, 68000, 72000, 76000, 80000, 84000, 88000, 92000, 96000, 100000, 104000, 108000, 112000, 116000, 120000, 124000, 128000, 132000, 136000, 140000, 144000, 148000, 152000, 156000, 160000, 164000, 168000, 172000, 176000, 180000, 184000, 188000, 192000, 196000, 200000, 204000, 208000, 212000, 216000, 220000, 224000, 228000, 232000, 236000, 240000])"
      ]
     },
     "execution_count": 32,
     "metadata": {},
     "output_type": "execute_result"
    }
   ],
   "source": [
    "curr_res.keys()"
   ]
  },
  {
   "cell_type": "code",
   "execution_count": 33,
   "metadata": {
    "collapsed": true
   },
   "outputs": [],
   "source": [
    "old_r = old_res[236000]"
   ]
  },
  {
   "cell_type": "code",
   "execution_count": 34,
   "metadata": {
    "collapsed": true
   },
   "outputs": [],
   "source": [
    "curr_r = curr_res[236000]"
   ]
  },
  {
   "cell_type": "code",
   "execution_count": 35,
   "metadata": {},
   "outputs": [
    {
     "data": {
      "text/plain": [
       "dict_keys(['loss', 'lang_stats', 'predictions'])"
      ]
     },
     "execution_count": 35,
     "metadata": {},
     "output_type": "execute_result"
    }
   ],
   "source": [
    "old_r.keys()"
   ]
  },
  {
   "cell_type": "code",
   "execution_count": 37,
   "metadata": {},
   "outputs": [
    {
     "data": {
      "text/plain": [
       "({'Bleu_1': 0.6798731833946704,\n",
       "  'Bleu_2': 0.5017299406526459,\n",
       "  'Bleu_3': 0.36775927504652084,\n",
       "  'Bleu_4': 0.27186033638605017,\n",
       "  'CIDEr': 0.83283695499282129,\n",
       "  'ROUGE_L': 0.50277935165311027,\n",
       "  'SPICE': 0.16303341619396891,\n",
       "  'creative 3grams': 0.010990840965861781,\n",
       "  'creative 4grams': 0.04666584796757951,\n",
       "  'creative 5grams': 0.10508886190528756,\n",
       "  'vcab_use': 906},\n",
       " {'Bleu_1': 0.6664475576188188,\n",
       "  'Bleu_2': 0.48547611010181135,\n",
       "  'Bleu_3': 0.34310333684056177,\n",
       "  'Bleu_4': 0.24288102694256639,\n",
       "  'CIDEr': 0.770564576787932,\n",
       "  'ROUGE_L': 0.48984933867265301,\n",
       "  'SPICE': 0.15134204616436317,\n",
       "  'creative 3grams': 0.018155757286192068,\n",
       "  'creative 4grams': 0.07764600581785634,\n",
       "  'creative 5grams': 0.1709193611219322,\n",
       "  'vcab_use': 924})"
      ]
     },
     "execution_count": 37,
     "metadata": {},
     "output_type": "execute_result"
    }
   ],
   "source": [
    "old_r['lang_stats'], curr_r['lang_stats']"
   ]
  },
  {
   "cell_type": "code",
   "execution_count": 40,
   "metadata": {
    "collapsed": true
   },
   "outputs": [],
   "source": [
    "old_p = old_r['predictions']\n",
    "curr_p = curr_r['predictions']"
   ]
  },
  {
   "cell_type": "code",
   "execution_count": 41,
   "metadata": {},
   "outputs": [
    {
     "data": {
      "text/plain": [
       "5000"
      ]
     },
     "execution_count": 41,
     "metadata": {},
     "output_type": "execute_result"
    }
   ],
   "source": [
    "len(old_p)"
   ]
  },
  {
   "cell_type": "code",
   "execution_count": 42,
   "metadata": {},
   "outputs": [
    {
     "data": {
      "text/plain": [
       "5000"
      ]
     },
     "execution_count": 42,
     "metadata": {},
     "output_type": "execute_result"
    }
   ],
   "source": [
    "len(curr_p)"
   ]
  },
  {
   "cell_type": "code",
   "execution_count": 45,
   "metadata": {},
   "outputs": [
    {
     "data": {
      "text/plain": [
       "({'caption': 'a clock on a pole in front of a store', 'image_id': 142592},\n",
       " {'caption': 'a clock on a building with a sign on it', 'image_id': 142592})"
      ]
     },
     "execution_count": 45,
     "metadata": {},
     "output_type": "execute_result"
    }
   ],
   "source": [
    "old_p[120], curr_p[120]"
   ]
  },
  {
   "cell_type": "code",
   "execution_count": 111,
   "metadata": {},
   "outputs": [],
   "source": [
    "old_cnn = torch.load('../save/old_baseline/model-cnn.pth')\n",
    "curr_cnn = torch.load('../save/new_baseline/model-cnn.pth')\n",
    "default_cnn = model_zoo.load_url('https://download.pytorch.org/models/resnet50-19c8e357.pth', map_location=lambda storage, loc: storage.cuda(0))"
   ]
  },
  {
   "cell_type": "code",
   "execution_count": 112,
   "metadata": {},
   "outputs": [
    {
     "data": {
      "text/plain": [
       "(266, 266, 267)"
      ]
     },
     "execution_count": 112,
     "metadata": {},
     "output_type": "execute_result"
    }
   ],
   "source": [
    "len(old_cnn), len(curr_cnn), len(default_cnn)"
   ]
  },
  {
   "cell_type": "code",
   "execution_count": 114,
   "metadata": {},
   "outputs": [
    {
     "name": "stdout",
     "output_type": "stream",
     "text": [
      "Missing  norm2.weight\n"
     ]
    }
   ],
   "source": [
    "for k in old_cnn:\n",
    "    if k in default_cnn:\n",
    "        dp = default_cnn[k]\n",
    "        try:\n",
    "            dp = dp.data\n",
    "        except:\n",
    "            pass\n",
    "        if not torch.equal(old_cnn[k], dp):\n",
    "            print('mismatch @ ', k, curr_cnn[k].size())\n",
    "    else:\n",
    "        print(\"Missing \", k)\n",
    "    "
   ]
  },
  {
   "cell_type": "code",
   "execution_count": 73,
   "metadata": {},
   "outputs": [
    {
     "name": "stdout",
     "output_type": "stream",
     "text": [
      "140096620843088 torch.Size([2048, 512])\n",
      "140096620844048 torch.Size([512, 2048])\n",
      "140096620844240 torch.Size([9488])\n",
      "140096620843664 torch.Size([512])\n",
      "140096620845584 torch.Size([2048, 512])\n",
      "140096620844624 torch.Size([9488, 512])\n",
      "140096620844816 torch.Size([9488, 512])\n"
     ]
    }
   ],
   "source": [
    "for k in old_params:\n",
    "    print(k, old_params[k]['exp_avg_sq'].size())"
   ]
  },
  {
   "cell_type": "code",
   "execution_count": 72,
   "metadata": {},
   "outputs": [
    {
     "name": "stdout",
     "output_type": "stream",
     "text": [
      "139865894194784 torch.Size([512, 2048])\n",
      "139865894194872 torch.Size([512])\n",
      "139865894194696 torch.Size([2048, 512])\n",
      "139865894194520 torch.Size([2048, 512])\n",
      "139865894194344 torch.Size([9488, 512])\n",
      "139865894194168 torch.Size([9488, 512])\n",
      "139865894193992 torch.Size([9488])\n"
     ]
    }
   ],
   "source": [
    "for k in curr_params:\n",
    "    print(k, curr_params[k]['exp_avg_sq'].size())"
   ]
  },
  {
   "cell_type": "code",
   "execution_count": null,
   "metadata": {
    "collapsed": true
   },
   "outputs": [],
   "source": []
  }
 ],
 "metadata": {
  "kernelspec": {
   "display_name": "Python 3",
   "language": "python",
   "name": "python3"
  },
  "language_info": {
   "codemirror_mode": {
    "name": "ipython",
    "version": 3
   },
   "file_extension": ".py",
   "mimetype": "text/x-python",
   "name": "python",
   "nbconvert_exporter": "python",
   "pygments_lexer": "ipython3",
   "version": "3.6.2"
  }
 },
 "nbformat": 4,
 "nbformat_minor": 2
}
