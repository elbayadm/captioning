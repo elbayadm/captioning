{
 "cells": [
  {
   "cell_type": "code",
   "execution_count": 1,
   "metadata": {},
   "outputs": [
    {
     "data": {
      "image/png": "[encoded data removed]",
      "text/plain": [
       "<matplotlib.figure.Figure at 0x7fe73cae5c18>"
      ]
     },
     "metadata": {},
     "output_type": "display_data"
    }
   ],
   "source": [
    "import random\n",
    "from six.moves import cPickle as pickle\n",
    "from sklearn.manifold import TSNE\n",
    "import matplotlib.pyplot as plt\n",
    "from matplotlib import rc\n",
    "from matplotlib.patches import Circle\n",
    "rc('text', usetex=True)\n",
    "rc('text.latex', preamble='\\\\usepackage{color}')\n",
    "from PIL import Image\n",
    "import numpy as np\n",
    "from scipy.misc import comb\n",
    "from math import log, exp, sqrt\n",
    "from collections import Counter, OrderedDict\n",
    "import seaborn as sns\n",
    "sns.set_context(\"paper\")\n",
    "# sns.set_context('talk')\n",
    "import string\n",
    "import json\n",
    "import pickle\n",
    "from mpl_toolkits.mplot3d import Axes3D\n",
    "%matplotlib inline\n",
    "# COLORS = [\"#808080\", \"#3498db\", \"#0000b3\", \"#ffd480\", \"#e74c3c\"]\n",
    "blues = sns.color_palette('Blues', 10)\n",
    "reds = sns.color_palette('Reds')\n",
    "COLORS = [\"#808080\", reds[2], blues[5], blues[9]]\n",
    "sns.palplot(sns.color_palette(COLORS))\n",
    "\n",
    "# from multiprocessing import set_start_method\n",
    "# try:\n",
    "#     set_start_method('spawn')\n",
    "# except RuntimeError:\n",
    "#     pass"
   ]
  },
  {
   "cell_type": "markdown",
   "metadata": {
    "collapsed": true
   },
   "source": [
    "## word neighbors"
   ]
  },
  {
   "cell_type": "code",
   "execution_count": 62,
   "metadata": {
    "collapsed": true
   },
   "outputs": [],
   "source": [
    "# Constants\n",
    "itow = json.load(open('../data/coco/cocotalk.json', 'r'))['ix_to_word']\n",
    "WORDS = {int(k): v for k, v in itow.items()}\n",
    "if 0 not in WORDS:\n",
    "    WORDS[0] = 'EOS'\n",
    "MATCH = {v: k for k,v in WORDS.items()}\n",
    "del itow\n",
    "FF = pickle.load(open('../data/coco/idf_coco_01.pkl', 'rb'))\n",
    "F = pickle.load(open('cooc_freq.pkl', 'rb'))[0]\n",
    "\n",
    "# utils:\n",
    "def normalize(A):\n",
    "    l1 = A.sum(axis=1)\n",
    "    A /= l1.reshape(len(A), 1)\n",
    "    return A\n",
    "\n",
    "def invocab(ngram):\n",
    "    for w in ngram:\n",
    "        if w not in MATCH:\n",
    "            return False\n",
    "    return True\n",
    "\n",
    "def space(xy, points, delta=1):\n",
    "    x , y = xy\n",
    "    xs = np.array([p[0] for p in points])\n",
    "    ys = np.array([p[1] for p in points])\n",
    "    while np.any(np.absolute(xs -x) < delta):\n",
    "        x += delta\n",
    "    while np.any(np.absolute(ys -y) < delta):\n",
    "        y += delta\n",
    "    return [x, y]\n",
    "\n",
    "def exps(sim, tau=0.2, freq=False):\n",
    "    if freq:\n",
    "        return normalize(np.exp((sim-1 - tau * FF)/tau))\n",
    "    else:\n",
    "        return normalize(np.exp((sim-1)/tau))\n",
    "    \n",
    "sim_wiki = pickle.load(open('../data/Glove/glove_wiki_d300_w15_similarities.pkl',\n",
    "                             'rb'), encoding='iso-8859-1')\n",
    "sim_coco = pickle.load(open('../data/Glove/glove_coco_d300_w15_similarities.pkl','rb'))\n",
    "G2_coco = pickle.load(open('../data/Glove/glove_coco_d300_w15_matrix_tsne2D.pkl', 'rb'))\n",
    "G2 = pickle.load(open('../data/Glove/glove_wiki_d300_w15_matrix_tsne2D.pkl', 'rb'))\n"
   ]
  },
  {
   "cell_type": "code",
   "execution_count": 63,
   "metadata": {
    "collapsed": true
   },
   "outputs": [],
   "source": [
    "def cancel_proba(arr, indices):\n",
    "    arr = arr.copy()\n",
    "    for i in range(len(arr)):\n",
    "        if i not in indices:\n",
    "            arr[i] = 0\n",
    "    return arr / np.sum(arr)\n",
    "\n",
    "\n",
    "def plot_words_2d(ax, selected, sim, X2, NN=10, verbose=0, sens=1):\n",
    "    V = np.arange(sim.shape[0])\n",
    "    k = MATCH[selected]\n",
    "    nbrs = sim[k].argsort()[-NN:][::-1]\n",
    "    p = cancel_proba(sim[k], nbrs)\n",
    "    samples = np.random.choice(V, p=p, size=(50,))\n",
    "    xs = X2[samples, 0]\n",
    "    ys = X2[samples, 1]\n",
    "    sns.kdeplot(xs, ys, ax=ax, cut=2,\n",
    "                cmap='Reds', shade=True, shade_lowest=False,\n",
    "               cbar=False, alpha=.7)\n",
    "    for i in nbrs:\n",
    "        if i == k:\n",
    "            ax.text(X2[i,0], X2[i,1], WORDS[i], fontsize=15, color=\"k\", weight=3)\n",
    "        else:\n",
    "            ax.text(X2[i,0], X2[i,1], WORDS[i], fontsize=10, color=\"k\")\n",
    "    plt.tight_layout()"
   ]
  },
  {
   "cell_type": "code",
   "execution_count": 64,
   "metadata": {},
   "outputs": [
    {
     "data": {
      "image/png": "[encoded data removed]",
      "text/plain": [
       "<matplotlib.figure.Figure at 0x7fe6ebacd7f0>"
      ]
     },
     "metadata": {},
     "output_type": "display_data"
    }
   ],
   "source": [
    "sns.set()\n",
    "sns.set_style('whitegrid', rc={\"axes.edgecolor\": 'darkgray'})\n",
    "sns.set_context('paper', font_scale=2.3, rc={\"lines.linewidth\": 2,\n",
    "                                             \"lines.markersize\": 8})\n",
    "np.random.seed(1)\n",
    "f, ax = plt.subplots(1,1, figsize=(6,6))\n",
    "plot_words_2d(ax, 'tree', exps(sim_coco, tau=.15), NN=10, X2=G2_coco)\n",
    "plt.savefig('../figures/word_kde.png', dpi=300,\n",
    "           bbox_iches='tight')"
   ]
  },
  {
   "cell_type": "code",
   "execution_count": null,
   "metadata": {
    "collapsed": true
   },
   "outputs": [],
   "source": []
  },
  {
   "cell_type": "code",
   "execution_count": null,
   "metadata": {
    "collapsed": true
   },
   "outputs": [],
   "source": [
    "def plot_word_neighbors(axs, selected, sim1, sim2, labels,\n",
    "                        NN=10, verbose=0, legend=0):\n",
    "    ax2, ax = axs\n",
    "    h = .08\n",
    "    colors = sns.color_palette(\"Paired\", NN)\n",
    "    k = MATCH[selected]\n",
    "    nbrs1 = np.flip(sim1[k].argsort()[-NN:][::-1], axis=0)\n",
    "    nbrs2 = np.flip(sim2[k].argsort()[-NN:][::-1], axis=0)\n",
    "    nbrs = list(set(nbrs1).union(set(nbrs2)))\n",
    "    nbrs.remove(k)\n",
    "    nbrs = nbrs + [k]\n",
    "#     print('neighbors:', nbrs)\n",
    "    wnbrs = [WORDS[i] for i in nbrs]\n",
    "    simnbrs1 = [sim1[k,i] for i in nbrs]\n",
    "    simnbrs2 = [sim2[k,i] for i in nbrs]\n",
    "    ys = 4 / 3 * h * np.arange(len(nbrs))\n",
    "    ax2.get_shared_y_axes().join(ax, ax2)\n",
    "    ax2.set_xlim(1e-6, 1)\n",
    "    ax2.text(1e-4,-.26,\"freq\", fontsize=18)\n",
    "    ax2.invert_xaxis()\n",
    "    ax2.yaxis.tick_right()\n",
    "    freqnbrs = [F[i] for i in nbrs]\n",
    "    if verbose:\n",
    "        print('freq', freqnbrs)\n",
    "        print('sim', simnbrs)\n",
    "    ax2.barh(ys, freqnbrs, height=h,\n",
    "             align='edge', color=COLORS[1], alpha=.5)\n",
    "    \n",
    "    ax2.set_xscale(\"log\", nonposx='clip')\n",
    "#     ax2.set_xlabel('freq')\n",
    "    \n",
    "    ax2.axis('off')\n",
    "    ax.barh(ys+2*h/3, [0] * (len(nbrs)-1) + [1], height=h/3,\n",
    "            align='edge', color=COLORS[0], alpha=.5,\n",
    "           label=\"MLE\")\n",
    "    ax.barh(ys+h/3, simnbrs1, height=h/3,\n",
    "            align='edge', color=COLORS[2], alpha=.7,\n",
    "           label=labels[0])\n",
    "    ax.barh(ys, simnbrs2, height=h/3,\n",
    "            align='edge', color=COLORS[3], alpha=.7,\n",
    "            label=labels[1])\n",
    "    ax.set_yticks(ys + h/2)\n",
    "    ax.tick_params('y', labelsize=14)\n",
    "    ax.set_yticklabels(wnbrs)\n",
    "    ax.set_ylim(min(ys), max(ys) + h)\n",
    "    ax.set_xlim(1e-4, 1)\n",
    "    ax.set_xscale(\"log\", nonposx='clip')\n",
    "    ax.set_xlabel('$r_\\\\tau(y|$%s$)$' % selected)\n",
    "    \n",
    "    if legend:\n",
    "        ax.legend(fontsize=16, loc=4)\n",
    "    plt.tight_layout()\n",
    "#         plt.savefig('../figures/%s_nbrs_%s.png' % (prefix, WORDS[k]),\n",
    "#                     dpi=300, bbox_inches='tight')\n"
   ]
  },
  {
   "cell_type": "code",
   "execution_count": null,
   "metadata": {
    "collapsed": true
   },
   "outputs": [],
   "source": [
    "sns.set()\n",
    "sns.set_style('whitegrid', rc={\"axes.edgecolor\": 'darkgray'})\n",
    "sns.set_context('paper', font_scale=2.3, rc={\"lines.linewidth\": 2,\n",
    "                                             \"lines.markersize\": 8})\n",
    "fig, axs = plt.subplots(1, 4, figsize=(12, 4),\n",
    "                        gridspec_kw = {'width_ratios':[1, 3] * 2})\n",
    "word = \"city\" #\"street\"\n",
    "plot_word_neighbors(axs[:2], word,\n",
    "                    exps(sim_coco, 0.15),\n",
    "                    exps(sim_coco, 0.15, True),\n",
    "                    ['Word', 'Word xIDF'])\n",
    "\n",
    "word = \"koala\" #\"street\"\n",
    "plot_word_neighbors(axs[2:4], word,\n",
    "                    exps(sim_coco, 0.15),\n",
    "                    exps(sim_coco, 0.15, True),\n",
    "                    ['Word', 'Word xIDF'],\n",
    "                   legend=1)\n",
    "\n",
    "fig.tight_layout()\n",
    "plt.subplots_adjust(wspace=0.02)\n",
    "\n",
    "plt.savefig('../figures/words_nbrs_coco.png',\n",
    "            dpi=300, bbox_inches='tight')\n"
   ]
  },
  {
   "cell_type": "code",
   "execution_count": null,
   "metadata": {
    "collapsed": true
   },
   "outputs": [],
   "source": []
  },
  {
   "cell_type": "code",
   "execution_count": null,
   "metadata": {
    "collapsed": true
   },
   "outputs": [],
   "source": []
  },
  {
   "cell_type": "code",
   "execution_count": null,
   "metadata": {
    "collapsed": true
   },
   "outputs": [],
   "source": [
    "frequent = F.argsort()[-80:][::-1]\n",
    "medium = F.argsort()[1300:1380]\n",
    "rare = F.argsort()[60:90]\n",
    "\n",
    "for fr in frequent:\n",
    "    print(WORDS[fr],)"
   ]
  },
  {
   "cell_type": "code",
   "execution_count": null,
   "metadata": {
    "collapsed": true
   },
   "outputs": [],
   "source": []
  },
  {
   "cell_type": "code",
   "execution_count": null,
   "metadata": {
    "collapsed": true
   },
   "outputs": [],
   "source": []
  },
  {
   "cell_type": "code",
   "execution_count": null,
   "metadata": {
    "collapsed": true
   },
   "outputs": [],
   "source": [
    "def skim(arr, percentile):\n",
    "    th = np.percentile(arr, percentile)\n",
    "    arr[arr<th] = 0\n",
    "    return arr\n",
    "\n",
    "def plot_nbrs_picks(word, ax, legend=False):\n",
    "    iw = MATCH[word]\n",
    "    dirac = np.zeros(sim_coco.shape[0])\n",
    "    dirac[MATCH[word]] = 1\n",
    "    ax.plot(dirac, c='darkred', alpha=0.5, label=\"MLE - $\\\\delta$\")\n",
    "\n",
    "    default = skim(exps(sim_coco, 0.15, False)[iw], 99.5)\n",
    "    ax.plot(default, c='darkgreen', label=\"Tok-Reward - $r_\\\\tau$\", alpha=.5)\n",
    "\n",
    "    xidf = skim(exps(sim_coco, 0.15, True)[iw], 99.5)\n",
    "    ax.plot(xidf, c='mediumblue', label=\"Tok-Reward - $r_\\\\tau^{IDF}$\", alpha=.5)\n",
    "    if legend:\n",
    "        ax.legend(fontsize=15, loc=2)\n",
    "    wxidf = np.nonzero(xidf)[0]\n",
    "    wdef = np.nonzero(default)[0]\n",
    "    wperr = 4\n",
    "    sel = np.concatenate((np.array([iw]),\n",
    "                          np.random.choice(wdef, wperr),\n",
    "                          np.random.choice(wxidf, wperr)))\n",
    "    colors = ['darkred'] + wperr * ['darkgreen'] + wperr * ['mediumblue']\n",
    "    for e, (s, c) in enumerate(zip(sel, colors)):\n",
    "#         print('index:', s, 'default', default[s], 'xidf', xidf[s])\n",
    "        if not e:\n",
    "            scale=.5\n",
    "            slide = 25\n",
    "            pick = 1\n",
    "        else:\n",
    "            if e < wperr + 1:\n",
    "                pick = default[s]\n",
    "                slide = -400\n",
    "                scale = 5\n",
    "#                 print('e:', e, WORDS[s])\n",
    "            else:\n",
    "                pick = xidf[s]\n",
    "                slide = 100\n",
    "                scale = 3\n",
    "\n",
    "        ax.annotate(WORDS[s].encode().decode(),\n",
    "                    xy=(s, pick),\n",
    "                    xytext=(s + slide, scale * pick),\n",
    "                    color=c,\n",
    "                    fontsize=18,\n",
    "    #               arrowprops=dict(facecolor='black', shrink=0.05),\n",
    "                    arrowprops=dict(arrowstyle=\"->\",\n",
    "                                    connectionstyle=\"arc3\",\n",
    "                                    facecolor=c,\n",
    "                                    edgecolor=c))\n",
    "    ax.set_yscale(\"log\")\n",
    "    ax.set_xticks([])\n",
    "    ax.set_ylabel('$r_\\\\tau(y|$%s$)$' % word)\n",
    "#     ax.set_xlabel('$\\\\mathcal V$')\n"
   ]
  },
  {
   "cell_type": "code",
   "execution_count": null,
   "metadata": {
    "collapsed": true
   },
   "outputs": [],
   "source": [
    "sns.set()\n",
    "sns.set_style('whitegrid', rc={\"axes.edgecolor\": 'darkgray'})\n",
    "sns.set_context('paper', font_scale=2.3, rc={\"lines.linewidth\": 2,\n",
    "                                             \"lines.markersize\": 8})\n",
    "\n",
    "f, axs = plt.subplots(2, 1, figsize=(15, 5))\n",
    "np.random.seed(1244)\n",
    "plot_nbrs_picks('street', axs[0], legend=True)\n",
    "\n",
    "np.random.seed(17)\n",
    "plot_nbrs_picks('dynamite', axs[1])\n",
    "\n",
    "plt.tight_layout()\n",
    "# plt.savefig('../figures/nbrs_picks.png',\n",
    "#             dpi=300, bbox_inches='tight')"
   ]
  }
 ],
 "metadata": {
  "kernelspec": {
   "display_name": "Python 3",
   "language": "python",
   "name": "python3"
  },
  "language_info": {
   "codemirror_mode": {
    "name": "ipython",
    "version": 3
   },
   "file_extension": ".py",
   "mimetype": "text/x-python",
   "name": "python",
   "nbconvert_exporter": "python",
   "pygments_lexer": "ipython3",
   "version": "3.6.2"
  }
 },
 "nbformat": 4,
 "nbformat_minor": 2
}
