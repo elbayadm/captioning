{
 "cells": [
  {
   "cell_type": "code",
   "execution_count": 23,
   "metadata": {
    "collapsed": true
   },
   "outputs": [],
   "source": [
    "import numpy as np\n",
    "import pickle\n",
    "import json"
   ]
  },
  {
   "cell_type": "code",
   "execution_count": 24,
   "metadata": {
    "collapsed": true
   },
   "outputs": [],
   "source": [
    "# Constants\n",
    "itow = json.load(open('../data/coco/cocotalk.json', 'r'))['ix_to_word']\n",
    "WORDS = {int(k): v for k, v in itow.items()}\n",
    "if 0 not in WORDS:\n",
    "    WORDS[0] = 'EOS'\n",
    "MATCH = {v: k for k,v in WORDS.items()}\n",
    "del itow"
   ]
  },
  {
   "cell_type": "code",
   "execution_count": 4,
   "metadata": {},
   "outputs": [],
   "source": [
    "vocab = {}\n",
    "with open('../data/Glove/CooC/vocab', 'r') as f:\n",
    "    e = 1\n",
    "    for line in f.readlines():\n",
    "        vocab[e] = line.split()[0]\n",
    "        e += 1"
   ]
  },
  {
   "cell_type": "code",
   "execution_count": 27,
   "metadata": {
    "collapsed": true
   },
   "outputs": [],
   "source": [
    "gmatch = {}\n",
    "for i, gw in vocab.items():\n",
    "    if gw in MATCH:\n",
    "        # word in coco\n",
    "        gmatch[i] = MATCH[gw]"
   ]
  },
  {
   "cell_type": "code",
   "execution_count": 64,
   "metadata": {},
   "outputs": [
    {
     "name": "stdout",
     "output_type": "stream",
     "text": [
      "Cooc matrix of size (9488, 9488)\n"
     ]
    }
   ],
   "source": [
    "CooC10 = np.zeros((len(WORDS), len(WORDS)))\n",
    "print('Cooc matrix of size', CooC10.shape)\n",
    "with open('../data/Glove/CooC/cooccurences.10.txt', 'r') as f:\n",
    "    for line in f.readlines():\n",
    "        w1, w2, c = line.split(',')\n",
    "        w1 = int(w1)\n",
    "        w2 = int(w2)\n",
    "        if w1 in gmatch and w2 in gmatch:\n",
    "            c = float(c)\n",
    "            CooC10[gmatch[w1], gmatch[w2]] = c"
   ]
  },
  {
   "cell_type": "code",
   "execution_count": 65,
   "metadata": {
    "collapsed": true
   },
   "outputs": [],
   "source": [
    "CooC10[0] = np.ones(CooC10.shape[0])\n",
    "CooC10[-1] = np.ones(CooC10.shape[0])"
   ]
  },
  {
   "cell_type": "code",
   "execution_count": 42,
   "metadata": {},
   "outputs": [
    {
     "name": "stdout",
     "output_type": "stream",
     "text": [
      "word:EOS [ 0.00010541  0.00010541  0.00010541 ...,  0.00010541  0.00010541\n",
      "  0.00010541] \n",
      " [ 0.00010541  0.00010541  0.00010541 ...,  0.00010541  0.00010541\n",
      "  0.00010541]\n"
     ]
    }
   ],
   "source": [
    "id = 0\n",
    "print(\"word:%s\" % WORDS[id],CooC10[id], '\\n', CooC10[id][np.nonzero(CooC10[id])])"
   ]
  },
  {
   "cell_type": "code",
   "execution_count": 67,
   "metadata": {},
   "outputs": [],
   "source": [
    "CooC10[:,0] = np.mean(CooC10, axis=1).shape\n",
    "CooC10[:,-1] = np.mean(CooC10, axis=1).shape"
   ]
  },
  {
   "cell_type": "code",
   "execution_count": 68,
   "metadata": {},
   "outputs": [
    {
     "data": {
      "text/plain": [
       "(9488, 9488)"
      ]
     },
     "execution_count": 68,
     "metadata": {},
     "output_type": "execute_result"
    }
   ],
   "source": [
    "CooC10.shape"
   ]
  },
  {
   "cell_type": "code",
   "execution_count": 69,
   "metadata": {
    "collapsed": true
   },
   "outputs": [],
   "source": []
  },
  {
   "cell_type": "code",
   "execution_count": 55,
   "metadata": {
    "collapsed": true
   },
   "outputs": [],
   "source": [
    "C = np.float32(CooC10)"
   ]
  },
  {
   "cell_type": "code",
   "execution_count": 61,
   "metadata": {},
   "outputs": [
    {
     "data": {
      "text/plain": [
       "'UNK'"
      ]
     },
     "execution_count": 61,
     "metadata": {},
     "output_type": "execute_result"
    }
   ],
   "source": [
    "# Divise by row sum to get Pij\n",
    "CooC10 = CooC10/CooC10.sum(axis=1, keepdims=True)"
   ]
  },
  {
   "cell_type": "code",
   "execution_count": 62,
   "metadata": {},
   "outputs": [
    {
     "data": {
      "text/plain": [
       "9488"
      ]
     },
     "execution_count": 62,
     "metadata": {},
     "output_type": "execute_result"
    }
   ],
   "source": [
    "pickle.dump(np.float32(CooC10), open(\"../data/coco/coocurrencs10_coco.pkl\", 'wb'))"
   ]
  },
  {
   "cell_type": "code",
   "execution_count": 63,
   "metadata": {},
   "outputs": [
    {
     "data": {
      "text/plain": [
       "9486"
      ]
     },
     "execution_count": 63,
     "metadata": {},
     "output_type": "execute_result"
    }
   ],
   "source": [
    "len(gmatch)"
   ]
  },
  {
   "cell_type": "code",
   "execution_count": null,
   "metadata": {
    "collapsed": true
   },
   "outputs": [],
   "source": []
  }
 ],
 "metadata": {
  "kernelspec": {
   "display_name": "Python 3",
   "language": "python",
   "name": "python3"
  },
  "language_info": {
   "codemirror_mode": {
    "name": "ipython",
    "version": 3
   },
   "file_extension": ".py",
   "mimetype": "text/x-python",
   "name": "python",
   "nbconvert_exporter": "python",
   "pygments_lexer": "ipython3",
   "version": "3.6.2"
  }
 },
 "nbformat": 4,
 "nbformat_minor": 2
}
