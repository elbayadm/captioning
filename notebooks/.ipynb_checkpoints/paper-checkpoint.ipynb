{
 "cells": [
  {
   "cell_type": "raw",
   "metadata": {},
   "source": []
  },
  {
   "cell_type": "code",
   "execution_count": 1,
   "metadata": {},
   "outputs": [
    {
     "data": {
      "image/png": "[encoded data removed]",
      "text/plain": [
       "<matplotlib.figure.Figure at 0x7fe73cae5c18>"
      ]
     },
     "metadata": {},
     "output_type": "display_data"
    }
   ],
   "source": [
    "import random\n",
    "from six.moves import cPickle as pickle\n",
    "from sklearn.manifold import TSNE\n",
    "import matplotlib.pyplot as plt\n",
    "from matplotlib import rc\n",
    "from matplotlib.patches import Circle\n",
    "rc('text', usetex=True)\n",
    "rc('text.latex', preamble='\\\\usepackage{color}')\n",
    "from PIL import Image\n",
    "import numpy as np\n",
    "from scipy.misc import comb\n",
    "from math import log, exp, sqrt\n",
    "from collections import Counter, OrderedDict\n",
    "import seaborn as sns\n",
    "sns.set_context(\"paper\")\n",
    "# sns.set_context('talk')\n",
    "import string\n",
    "import json\n",
    "import pickle\n",
    "from mpl_toolkits.mplot3d import Axes3D\n",
    "%matplotlib inline\n",
    "# COLORS = [\"#808080\", \"#3498db\", \"#0000b3\", \"#ffd480\", \"#e74c3c\"]\n",
    "blues = sns.color_palette('Blues', 10)\n",
    "reds = sns.color_palette('Reds')\n",
    "COLORS = [\"#808080\", reds[2], blues[5], blues[9]]\n",
    "sns.palplot(sns.color_palette(COLORS))\n",
    "\n",
    "# from multiprocessing import set_start_method\n",
    "# try:\n",
    "#     set_start_method('spawn')\n",
    "# except RuntimeError:\n",
    "#     pass"
   ]
  },
  {
   "cell_type": "markdown",
   "metadata": {
    "collapsed": true
   },
   "source": [
    "## word neighbors"
   ]
  },
  {
   "cell_type": "code",
   "execution_count": 62,
   "metadata": {
    "collapsed": true
   },
   "outputs": [],
   "source": [
    "# Constants\n",
    "itow = json.load(open('../data/coco/cocotalk.json', 'r'))['ix_to_word']\n",
    "WORDS = {int(k): v for k, v in itow.items()}\n",
    "if 0 not in WORDS:\n",
    "    WORDS[0] = 'EOS'\n",
    "MATCH = {v: k for k,v in WORDS.items()}\n",
    "del itow\n",
    "FF = pickle.load(open('../data/coco/idf_coco_01.pkl', 'rb'))\n",
    "F = pickle.load(open('cooc_freq.pkl', 'rb'))[0]\n",
    "\n",
    "# utils:\n",
    "def normalize(A):\n",
    "    l1 = A.sum(axis=1)\n",
    "    A /= l1.reshape(len(A), 1)\n",
    "    return A\n",
    "\n",
    "def invocab(ngram):\n",
    "    for w in ngram:\n",
    "        if w not in MATCH:\n",
    "            return False\n",
    "    return True\n",
    "\n",
    "def space(xy, points, delta=1):\n",
    "    x , y = xy\n",
    "    xs = np.array([p[0] for p in points])\n",
    "    ys = np.array([p[1] for p in points])\n",
    "    while np.any(np.absolute(xs -x) < delta):\n",
    "        x += delta\n",
    "    while np.any(np.absolute(ys -y) < delta):\n",
    "        y += delta\n",
    "    return [x, y]\n",
    "\n",
    "def exps(sim, tau=0.2, freq=False):\n",
    "    if freq:\n",
    "        return normalize(np.exp((sim-1 - tau * FF)/tau))\n",
    "    else:\n",
    "        return normalize(np.exp((sim-1)/tau))\n",
    "    \n",
    "sim_wiki = pickle.load(open('../data/Glove/glove_wiki_d300_w15_similarities.pkl',\n",
    "                             'rb'), encoding='iso-8859-1')\n",
    "sim_coco = pickle.load(open('../data/Glove/glove_coco_d300_w15_similarities.pkl','rb'))\n",
    "G2_coco = pickle.load(open('../data/Glove/glove_coco_d300_w15_matrix_tsne2D.pkl', 'rb'))\n",
    "G2 = pickle.load(open('../data/Glove/glove_wiki_d300_w15_matrix_tsne2D.pkl', 'rb'))\n"
   ]
  },
  {
   "cell_type": "code",
   "execution_count": 63,
   "metadata": {
    "collapsed": true
   },
   "outputs": [],
   "source": [
    "def cancel_proba(arr, indices):\n",
    "    arr = arr.copy()\n",
    "    for i in range(len(arr)):\n",
    "        if i not in indices:\n",
    "            arr[i] = 0\n",
    "    return arr / np.sum(arr)\n",
    "\n",
    "\n",
    "def plot_words_2d(ax, selected, sim, X2, NN=10, verbose=0, sens=1):\n",
    "    V = np.arange(sim.shape[0])\n",
    "    k = MATCH[selected]\n",
    "    nbrs = sim[k].argsort()[-NN:][::-1]\n",
    "    p = cancel_proba(sim[k], nbrs)\n",
    "    samples = np.random.choice(V, p=p, size=(50,))\n",
    "    xs = X2[samples, 0]\n",
    "    ys = X2[samples, 1]\n",
    "    sns.kdeplot(xs, ys, ax=ax, cut=2,\n",
    "                cmap='Reds', shade=True, shade_lowest=False,\n",
    "               cbar=False, alpha=.7)\n",
    "    for i in nbrs:\n",
    "        if i == k:\n",
    "            ax.text(X2[i,0], X2[i,1], WORDS[i], fontsize=15, color=\"k\", weight=3)\n",
    "        else:\n",
    "            ax.text(X2[i,0], X2[i,1], WORDS[i], fontsize=10, color=\"k\")\n",
    "    plt.tight_layout()"
   ]
  },
  {
   "cell_type": "code",
   "execution_count": 64,
   "metadata": {},
   "outputs": [
    {
     "data": {
      "image/png": "[encoded data removed]",
      "text/plain": [
       "<matplotlib.figure.Figure at 0x7fe6ebacd7f0>"
      ]
     },
     "metadata": {},
     "output_type": "display_data"
    }
   ],
   "source": [
    "sns.set()\n",
    "sns.set_style('whitegrid', rc={\"axes.edgecolor\": 'darkgray'})\n",
    "sns.set_context('paper', font_scale=2.3, rc={\"lines.linewidth\": 2,\n",
    "                                             \"lines.markersize\": 8})\n",
    "np.random.seed(1)\n",
    "f, ax = plt.subplots(1,1, figsize=(6,6))\n",
    "plot_words_2d(ax, 'tree', exps(sim_coco, tau=.15), NN=10, X2=G2_coco)\n",
    "plt.savefig('../figures/word_kde.png', dpi=300,\n",
    "           bbox_iches='tight')"
   ]
  },
  {
   "cell_type": "code",
   "execution_count": null,
   "metadata": {
    "collapsed": true
   },
   "outputs": [],
   "source": []
  },
  {
   "cell_type": "code",
   "execution_count": null,
   "metadata": {
    "collapsed": true
   },
   "outputs": [],
   "source": [
    "def plot_word_neighbors(axs, selected, sim1, sim2, labels,\n",
    "                        NN=10, verbose=0, legend=0):\n",
    "    ax2, ax = axs\n",
    "    h = .08\n",
    "    colors = sns.color_palette(\"Paired\", NN)\n",
    "    k = MATCH[selected]\n",
    "    nbrs1 = np.flip(sim1[k].argsort()[-NN:][::-1], axis=0)\n",
    "    nbrs2 = np.flip(sim2[k].argsort()[-NN:][::-1], axis=0)\n",
    "    nbrs = list(set(nbrs1).union(set(nbrs2)))\n",
    "    nbrs.remove(k)\n",
    "    nbrs = nbrs + [k]\n",
    "#     print('neighbors:', nbrs)\n",
    "    wnbrs = [WORDS[i] for i in nbrs]\n",
    "    simnbrs1 = [sim1[k,i] for i in nbrs]\n",
    "    simnbrs2 = [sim2[k,i] for i in nbrs]\n",
    "    ys = 4 / 3 * h * np.arange(len(nbrs))\n",
    "    ax2.get_shared_y_axes().join(ax, ax2)\n",
    "    ax2.set_xlim(1e-6, 1)\n",
    "    ax2.text(1e-4,-.26,\"freq\", fontsize=18)\n",
    "    ax2.invert_xaxis()\n",
    "    ax2.yaxis.tick_right()\n",
    "    freqnbrs = [F[i] for i in nbrs]\n",
    "    if verbose:\n",
    "        print('freq', freqnbrs)\n",
    "        print('sim', simnbrs)\n",
    "    ax2.barh(ys, freqnbrs, height=h,\n",
    "             align='edge', color=COLORS[1], alpha=.5)\n",
    "    \n",
    "    ax2.set_xscale(\"log\", nonposx='clip')\n",
    "#     ax2.set_xlabel('freq')\n",
    "    \n",
    "    ax2.axis('off')\n",
    "    ax.barh(ys+2*h/3, [0] * (len(nbrs)-1) + [1], height=h/3,\n",
    "            align='edge', color=COLORS[0], alpha=.5,\n",
    "           label=\"MLE\")\n",
    "    ax.barh(ys+h/3, simnbrs1, height=h/3,\n",
    "            align='edge', color=COLORS[2], alpha=.7,\n",
    "           label=labels[0])\n",
    "    ax.barh(ys, simnbrs2, height=h/3,\n",
    "            align='edge', color=COLORS[3], alpha=.7,\n",
    "            label=labels[1])\n",
    "    ax.set_yticks(ys + h/2)\n",
    "    ax.tick_params('y', labelsize=14)\n",
    "    ax.set_yticklabels(wnbrs)\n",
    "    ax.set_ylim(min(ys), max(ys) + h)\n",
    "    ax.set_xlim(1e-4, 1)\n",
    "    ax.set_xscale(\"log\", nonposx='clip')\n",
    "    ax.set_xlabel('$r_\\\\tau(y|$%s$)$' % selected)\n",
    "    \n",
    "    if legend:\n",
    "        ax.legend(fontsize=16, loc=4)\n",
    "    plt.tight_layout()\n",
    "#         plt.savefig('../figures/%s_nbrs_%s.png' % (prefix, WORDS[k]),\n",
    "#                     dpi=300, bbox_inches='tight')\n"
   ]
  },
  {
   "cell_type": "code",
   "execution_count": null,
   "metadata": {
    "collapsed": true
   },
   "outputs": [],
   "source": [
    "sns.set()\n",
    "sns.set_style('whitegrid', rc={\"axes.edgecolor\": 'darkgray'})\n",
    "sns.set_context('paper', font_scale=2.3, rc={\"lines.linewidth\": 2,\n",
    "                                             \"lines.markersize\": 8})\n",
    "fig, axs = plt.subplots(1, 4, figsize=(12, 4),\n",
    "                        gridspec_kw = {'width_ratios':[1, 3] * 2})\n",
    "word = \"city\" #\"street\"\n",
    "plot_word_neighbors(axs[:2], word,\n",
    "                    exps(sim_coco, 0.15),\n",
    "                    exps(sim_coco, 0.15, True),\n",
    "                    ['Word', 'Word xIDF'])\n",
    "\n",
    "word = \"koala\" #\"street\"\n",
    "plot_word_neighbors(axs[2:4], word,\n",
    "                    exps(sim_coco, 0.15),\n",
    "                    exps(sim_coco, 0.15, True),\n",
    "                    ['Word', 'Word xIDF'],\n",
    "                   legend=1)\n",
    "\n",
    "fig.tight_layout()\n",
    "plt.subplots_adjust(wspace=0.02)\n",
    "\n",
    "plt.savefig('../figures/words_nbrs_coco.png',\n",
    "            dpi=300, bbox_inches='tight')\n"
   ]
  },
  {
   "cell_type": "code",
   "execution_count": null,
   "metadata": {
    "collapsed": true
   },
   "outputs": [],
   "source": []
  },
  {
   "cell_type": "code",
   "execution_count": null,
   "metadata": {
    "collapsed": true
   },
   "outputs": [],
   "source": []
  },
  {
   "cell_type": "code",
   "execution_count": null,
   "metadata": {
    "collapsed": true
   },
   "outputs": [],
   "source": [
    "frequent = F.argsort()[-80:][::-1]\n",
    "medium = F.argsort()[1300:1380]\n",
    "rare = F.argsort()[60:90]\n",
    "\n",
    "for fr in frequent:\n",
    "    print(WORDS[fr],)"
   ]
  },
  {
   "cell_type": "code",
   "execution_count": null,
   "metadata": {
    "collapsed": true
   },
   "outputs": [],
   "source": []
  },
  {
   "cell_type": "code",
   "execution_count": null,
   "metadata": {
    "collapsed": true
   },
   "outputs": [],
   "source": []
  },
  {
   "cell_type": "code",
   "execution_count": null,
   "metadata": {
    "collapsed": true
   },
   "outputs": [],
   "source": [
    "def skim(arr, percentile):\n",
    "    th = np.percentile(arr, percentile)\n",
    "    arr[arr<th] = 0\n",
    "    return arr\n",
    "\n",
    "def plot_nbrs_picks(word, ax, legend=False):\n",
    "    iw = MATCH[word]\n",
    "    dirac = np.zeros(sim_coco.shape[0])\n",
    "    dirac[MATCH[word]] = 1\n",
    "    ax.plot(dirac, c='darkred', alpha=0.5, label=\"MLE - $\\\\delta$\")\n",
    "\n",
    "    default = skim(exps(sim_coco, 0.15, False)[iw], 99.5)\n",
    "    ax.plot(default, c='darkgreen', label=\"Tok-Reward - $r_\\\\tau$\", alpha=.5)\n",
    "\n",
    "    xidf = skim(exps(sim_coco, 0.15, True)[iw], 99.5)\n",
    "    ax.plot(xidf, c='mediumblue', label=\"Tok-Reward - $r_\\\\tau^{IDF}$\", alpha=.5)\n",
    "    if legend:\n",
    "        ax.legend(fontsize=15, loc=2)\n",
    "    wxidf = np.nonzero(xidf)[0]\n",
    "    wdef = np.nonzero(default)[0]\n",
    "    wperr = 4\n",
    "    sel = np.concatenate((np.array([iw]),\n",
    "                          np.random.choice(wdef, wperr),\n",
    "                          np.random.choice(wxidf, wperr)))\n",
    "    colors = ['darkred'] + wperr * ['darkgreen'] + wperr * ['mediumblue']\n",
    "    for e, (s, c) in enumerate(zip(sel, colors)):\n",
    "#         print('index:', s, 'default', default[s], 'xidf', xidf[s])\n",
    "        if not e:\n",
    "            scale=.5\n",
    "            slide = 25\n",
    "            pick = 1\n",
    "        else:\n",
    "            if e < wperr + 1:\n",
    "                pick = default[s]\n",
    "                slide = -400\n",
    "                scale = 5\n",
    "#                 print('e:', e, WORDS[s])\n",
    "            else:\n",
    "                pick = xidf[s]\n",
    "                slide = 100\n",
    "                scale = 3\n",
    "\n",
    "        ax.annotate(WORDS[s].encode().decode(),\n",
    "                    xy=(s, pick),\n",
    "                    xytext=(s + slide, scale * pick),\n",
    "                    color=c,\n",
    "                    fontsize=18,\n",
    "    #               arrowprops=dict(facecolor='black', shrink=0.05),\n",
    "                    arrowprops=dict(arrowstyle=\"->\",\n",
    "                                    connectionstyle=\"arc3\",\n",
    "                                    facecolor=c,\n",
    "                                    edgecolor=c))\n",
    "    ax.set_yscale(\"log\")\n",
    "    ax.set_xticks([])\n",
    "    ax.set_ylabel('$r_\\\\tau(y|$%s$)$' % word)\n",
    "#     ax.set_xlabel('$\\\\mathcal V$')\n"
   ]
  },
  {
   "cell_type": "code",
   "execution_count": null,
   "metadata": {
    "collapsed": true
   },
   "outputs": [],
   "source": [
    "sns.set()\n",
    "sns.set_style('whitegrid', rc={\"axes.edgecolor\": 'darkgray'})\n",
    "sns.set_context('paper', font_scale=2.3, rc={\"lines.linewidth\": 2,\n",
    "                                             \"lines.markersize\": 8})\n",
    "\n",
    "f, axs = plt.subplots(2, 1, figsize=(15, 5))\n",
    "np.random.seed(1244)\n",
    "plot_nbrs_picks('street', axs[0], legend=True)\n",
    "\n",
    "np.random.seed(17)\n",
    "plot_nbrs_picks('dynamite', axs[1])\n",
    "\n",
    "plt.tight_layout()\n",
    "# plt.savefig('../figures/nbrs_picks.png',\n",
    "#             dpi=300, bbox_inches='tight')"
   ]
  },
  {
   "cell_type": "code",
   "execution_count": null,
   "metadata": {
    "collapsed": true
   },
   "outputs": [],
   "source": []
  },
  {
   "cell_type": "code",
   "execution_count": null,
   "metadata": {
    "collapsed": true
   },
   "outputs": [],
   "source": []
  },
  {
   "cell_type": "code",
   "execution_count": null,
   "metadata": {
    "collapsed": true
   },
   "outputs": [],
   "source": []
  },
  {
   "cell_type": "markdown",
   "metadata": {
    "collapsed": true
   },
   "source": [
    "## Abstract"
   ]
  },
  {
   "cell_type": "code",
   "execution_count": null,
   "metadata": {
    "collapsed": true
   },
   "outputs": [],
   "source": [
    "L = 800\n",
    "x = np.arange(L)\n",
    "y = np.zeros(L)\n",
    "center = 300\n",
    "a = 1e-5\n",
    "y = 1/a * (1/np.pi * 1/(1+((x- center)/a)**2))\n",
    "y /= np.sum(y)\n",
    "\n",
    "if 0:\n",
    "    centers = [center] + np.random.randint(low=1,\n",
    "                                           high=L,\n",
    "                                           size=10)\n",
    "    sigmas = np.random.randint(low=1,\n",
    "                               high=10,\n",
    "                               size=10) / 10\n",
    "    weights = [5] + np.random.randint(low=1,\n",
    "                                      high=10,\n",
    "                                      size=10)/2\n",
    "    weights = weights / np.sum(weights)\n",
    "    z = np.zeros(L)\n",
    "    for w, c, s in zip(weights, centers, sigmas):\n",
    "        z += w * np.exp(-(x-c)**2/2/s)\n",
    "    # z += 1/30 * np.random.randn(50)\n",
    "if 1:\n",
    "    sigma = 10\n",
    "    z = np.exp(-(x-center)**2/2/sigma**2)\n",
    "z /= np.sum(z)\n",
    "z = 13 * z\n",
    "sns.set()\n",
    "sns.set_style('whitegrid', rc={\"axes.edgecolor\": 'darkgray'})\n",
    "sns.set_context('paper', font_scale=2.3, rc={\"lines.linewidth\": 2,\n",
    "                                             \"lines.markersize\": 8})\n",
    "plt.figure(figsize=(6,5))\n",
    "plt.plot(x, y, label='MLE')\n",
    "plt.plot(x, z, label='Reward')\n",
    "plt.xlim([center-12*sigma, center+12*sigma])\n",
    "plt.xticks([])\n",
    "plt.legend()\n",
    "# plt.xticks(centers, ['jungle', 'forest', 'clearing'], rotation=45)"
   ]
  },
  {
   "cell_type": "code",
   "execution_count": null,
   "metadata": {
    "collapsed": true
   },
   "outputs": [],
   "source": []
  },
  {
   "cell_type": "markdown",
   "metadata": {
    "collapsed": true
   },
   "source": [
    "### Sentences"
   ]
  },
  {
   "cell_type": "code",
   "execution_count": 2,
   "metadata": {
    "collapsed": true
   },
   "outputs": [],
   "source": [
    "import os\n",
    "os.environ['CUDA_VISIBLE_DEVICES'] = '0'\n",
    "import torch\n",
    "# print('Device:', torch.cuda.current_device())"
   ]
  },
  {
   "cell_type": "code",
   "execution_count": 3,
   "metadata": {},
   "outputs": [
    {
     "name": "stderr",
     "output_type": "stream",
     "text": [
      "/home/maha/anaconda3/lib/python3.6/site-packages/torch/serialization.py:286: SourceChangeWarning: source code of class 'models.BLSTMEncoder' has changed. you can retrieve the original source code by accessing the object's source attribute or set `torch.nn.Module.dump_patches = True` and use the patch tool to revert the changes.\n",
      "  warnings.warn(msg, SourceChangeWarning)\n"
     ]
    },
    {
     "name": "stdout",
     "output_type": "stream",
     "text": [
      "Vocab size : 100000\n"
     ]
    }
   ],
   "source": [
    "GLOVE_PATH = '../../InferSent/dataset/GloVe/glove.840B.300d.txt'\n",
    "import sys\n",
    "sys.path.insert(0, '../../InferSent/encoder/')\n",
    "model = torch.load('../../InferSent/encoder/infersent.allnli.pickle',\n",
    "                   map_location=lambda storage, loc: storage)\n",
    "model.set_glove_path(GLOVE_PATH)\n",
    "model.build_vocab_k_words(K=100000)\n"
   ]
  },
  {
   "cell_type": "code",
   "execution_count": 4,
   "metadata": {
    "collapsed": true
   },
   "outputs": [],
   "source": [
    "A = json.load(open('../data/coco/captions_train2014.json', 'r'))['annotations']\n",
    "caps = {}\n",
    "for a in A:\n",
    "    if a['image_id'] in caps:\n",
    "        caps[a['image_id']].append(a['caption'][:-1].lower().split())\n",
    "    else:\n",
    "        caps[a['image_id']] = [a['caption'][:-1].lower().split()]\n",
    "del A"
   ]
  },
  {
   "cell_type": "code",
   "execution_count": 5,
   "metadata": {
    "collapsed": true
   },
   "outputs": [],
   "source": [
    "def fold(sentence, maxlen=5, bf=False):\n",
    "    if isinstance(sentence, str):\n",
    "        sentence = sentence.split()\n",
    "    folds = len(sentence) // maxlen\n",
    "    sent = r\"\"\n",
    "    for f in range(folds+1):\n",
    "        if bf:\n",
    "            sent += '\\\\bf '\n",
    "        if len(sentence) > maxlen * (f+1):\n",
    "            sent += ' '.join(sentence[maxlen*f: maxlen*(f+1)]) + '\\n'\n",
    "        else:\n",
    "            sent += ' '.join(sentence[maxlen*f:])\n",
    "    return sent\n",
    "\n",
    "def highlight(sentence, indices):\n",
    "#     print('Highlighting ', sentence , '@', indices)\n",
    "    sent = sentence.copy()\n",
    "    for ind in indices:\n",
    "        sent[ind] = '\\\\underline{%s}' % sent[ind]\n",
    "    return sent\n",
    "\n",
    "\n",
    "def embed_sent(sentences):\n",
    "    embeddings = model.encode(sentences, bsize=128, tokenize=False, verbose=False)\n",
    "    return embeddings\n",
    "\n",
    "def alter(sentence, vocab, tau):\n",
    "    m = len(sentence)\n",
    "    p = distrib(len(sentence), len(vocab), tau)\n",
    "    distance = np.random.choice(range(m+1), p=p)\n",
    "    sampled = sentence.copy()\n",
    "    m = len(sampled)\n",
    "    indices = list(range(m))\n",
    "#     print('indices:', indices)\n",
    "    random.shuffle(indices)\n",
    "    for k in indices[:distance]:\n",
    "        sampled[k] = random.choice(vocab)\n",
    "    return sampled, indices[:distance]\n"
   ]
  },
  {
   "cell_type": "code",
   "execution_count": null,
   "metadata": {
    "collapsed": true
   },
   "outputs": [],
   "source": []
  },
  {
   "cell_type": "code",
   "execution_count": 6,
   "metadata": {
    "collapsed": true
   },
   "outputs": [],
   "source": [
    "def distrib(m, v, tau=0.7):\n",
    "    x = [comb(m, d, exact=False) * (v-1)**d / v**m * exp(-d/tau) for d in range(m+1)]\n",
    "    x = np.array(x)\n",
    "    x/= np.sum(x)\n",
    "    return x\n",
    "\n",
    "def hamming(s1, s2):\n",
    "    assert len(s1) == len(s2)\n",
    "    return sum(c1 != c2 for c1, c2 in zip(s1, s2))\n",
    "\n",
    "def sentence_bleu(hypothesis, reference, smoothing=True, order=4, **kwargs):\n",
    "    log_score = 0\n",
    "    if len(hypothesis) == 0:\n",
    "        return 0\n",
    "    for i in range(order):\n",
    "        hyp_ngrams = Counter(zip(*[hypothesis[j:] for j in range(i + 1)]))\n",
    "        ref_ngrams = Counter(zip(*[reference[j:] for j in range(i + 1)]))\n",
    "        numerator = sum(min(count, ref_ngrams[bigram])\n",
    "                        for bigram, count in hyp_ngrams.items())\n",
    "        denominator = sum(hyp_ngrams.values())\n",
    "        if smoothing:\n",
    "            numerator += 1\n",
    "            denominator += 1\n",
    "        score = numerator / denominator\n",
    "        if score == 0:\n",
    "            log_score += float('-inf')\n",
    "        else:\n",
    "            log_score += log(score) / order\n",
    "    bp = min(1, exp(1 - len(reference) / len(hypothesis)))\n",
    "    return exp(log_score) * bp\n",
    "\n",
    "def alter_and_score(imid, d=2, NS=1, normalize=1, tauh=.2, V='refs'):\n",
    "    sampled = OrderedDict()\n",
    "    Vsub = []\n",
    "    for c in caps[imid]:\n",
    "        Vsub += c\n",
    "    for c in caps[imid]:\n",
    "        k = ' '.join(c)\n",
    "        for ii in range(NS):\n",
    "            if not ii:\n",
    "                sampled[k] = []\n",
    "            s, a = alter(c, Vsub, tau=tauh)\n",
    "            sampled[k].append({'sample': s, \"alter\": a})\n",
    "    # Embed:\n",
    "    sentences = []\n",
    "    for c in sampled:\n",
    "        sentences.append(c)\n",
    "        for s in sampled[c]:\n",
    "            sentences.append(' '.join(s[\"sample\"]))\n",
    "        \n",
    "    for s in sentences:\n",
    "        print(s)\n",
    "    embeddings = embed_sent(sentences)\n",
    "    X2 = TSNE(n_components=2, verbose=0).fit_transform(embeddings)\n",
    "    for c in sampled:\n",
    "        for e, _ in enumerate(sampled[c]):\n",
    "            sampled[c][e]['bleu'] = sentence_bleu(sampled[c][e]['sample'], c.split())\n",
    "            sampled[c][e]['hamming'] = hamming(sampled[c][e]['sample'], c.split())        \n",
    "    return X2, sampled"
   ]
  },
  {
   "cell_type": "code",
   "execution_count": 7,
   "metadata": {
    "collapsed": true
   },
   "outputs": [],
   "source": [
    "def plot_sentences_bar(ax, sampled, tauh=.2, taub=.2, nrefs=5):\n",
    "    h = .1\n",
    "    hammings = []\n",
    "    bleus = []\n",
    "    sentences = []\n",
    "    for e, c in enumerate(sampled):\n",
    "        if e >= nrefs:\n",
    "            break\n",
    "        sentences.append(r'\\textbf{%s}' % c)\n",
    "        hammings.append(0)\n",
    "        bleus.append(1)\n",
    "        for sabh in sampled[c]:\n",
    "            sentences.append(r'%s' % ' '.join(highlight(sabh['sample'],\n",
    "                                                        sabh['alter'])))\n",
    "            hammings.append(sabh['hamming'])\n",
    "            bleus.append(sabh['bleu'])\n",
    "    if 1:\n",
    "        hammings = np.array([exp(-d/tauh) for d in hammings])\n",
    "        hammings /= np.sum(hammings)\n",
    "        bleus = np.array([exp((bleu-1)/taub) for bleu in bleus])\n",
    "        bleus /= np.sum(bleus)\n",
    "            \n",
    "    ys = h/4 * np.arange(2 * len(sentences))\n",
    "    print('ticks:', len(ys), ys)\n",
    "    ax.barh(ys[1::2], hammings[::-1], height=h/4,\n",
    "            align='edge', color=COLORS[2], alpha=.7, label='$r_{hamming}$')\n",
    "    ax.barh(ys[::2], bleus[::-1], height=h/4,\n",
    "            align='edge', color=COLORS[1], alpha=.7, label='$r_{bleu}$')\n",
    "    ax.set_yticks(ys[1::2])\n",
    "    ax.set_yticklabels(sentences[::-1])\n",
    "#     ax.set_xlim([1e-5, 1])\n",
    "    ax.set_ylim([min(ys), max(ys)+h/4])\n",
    "    ax.set_xscale(\"log\", nonposx='clip')\n",
    "    ax.legend(bbox_to_anchor=(.3, -.2), loc=3,\n",
    "              ncol=2, borderaxespad=0.)\n"
   ]
  },
  {
   "cell_type": "code",
   "execution_count": 8,
   "metadata": {},
   "outputs": [
    {
     "name": "stdout",
     "output_type": "stream",
     "text": [
      "['two men using a laptop computer on a coffee table', 'two people looking at laptop computer screen on a table', 'two men looking at a laptop computer screen', 'businessmen poring over a presentation on a laptop compute', 'two seated men look on the screen of a laptop.']\n"
     ]
    }
   ],
   "source": [
    "ids = list(caps)\n",
    "pick = 500\n",
    "print([\" \".join(c) for c in caps[ids[pick]]])"
   ]
  },
  {
   "cell_type": "code",
   "execution_count": 9,
   "metadata": {},
   "outputs": [
    {
     "name": "stdout",
     "output_type": "stream",
     "text": [
      "two men using a laptop computer on a coffee table\n",
      "two men using a laptop computer computer a coffee a\n",
      "two men using presentation laptop computer people a coffee table\n",
      "two men using compute laptop computer on a coffee table\n",
      "two men using a laptop computer on a coffee a\n",
      "a the using businessmen laptop computer on a coffee table\n",
      "two men using a laptop presentation on on coffee table\n",
      "two men using a laptop computer on a coffee table\n",
      "two men using a laptop computer on a coffee table\n",
      "two men using a laptop people two a look table\n",
      "two table using a laptop computer on a coffee table\n",
      "two people looking at laptop computer screen on a table\n",
      "two people people at laptop computer screen on computer table\n",
      "two men looking at laptop computer poring on a laptop\n",
      "two people two at laptop using screen on a table\n",
      "two people looking table men computer screen on a table\n",
      "two people looking at laptop computer screen coffee a table\n",
      "two people looking at laptop computer screen on a table\n",
      "table businessmen looking at coffee computer screen on a of\n",
      "two people looking a laptop computer screen on a compute\n",
      "two people looking at laptop poring screen on laptop table\n",
      "two people looking at laptop computer screen on a table\n",
      "two men looking at a laptop computer screen\n",
      "two men at at a laptop computer laptop\n",
      "two men looking at a laptop computer looking\n",
      "two men table a a laptop a screen\n",
      "looking men looking presentation a laptop computer screen\n",
      "men compute looking at a laptop using screen\n",
      "two men looking at a laptop a screen\n",
      "two men looking at a laptop computer screen\n",
      "two men looking at a men computer screen\n",
      "two men looking at a a computer screen\n",
      "two a looking at a laptop computer screen\n",
      "businessmen poring over a presentation on a laptop compute\n",
      "businessmen poring over a presentation on a laptop compute\n",
      "businessmen poring over a presentation on a on compute\n",
      "businessmen poring over a men on a laptop compute\n",
      "businessmen poring over a presentation on a men compute\n",
      "businessmen poring over a presentation on a laptop compute\n",
      "businessmen poring over a presentation on laptop laptop compute\n",
      "businessmen laptop. seated a presentation on a laptop compute\n",
      "businessmen looking over a presentation on a laptop compute\n",
      "businessmen poring over a a on a laptop compute\n",
      "businessmen poring a a presentation on a table compute\n",
      "two seated men look on the screen of a laptop.\n",
      "two seated over look on the screen of a laptop.\n",
      "two seated men look on the screen of a laptop.\n",
      "people seated a two on the screen of a laptop.\n",
      "on on men look looking the screen of of screen\n",
      "two laptop two look on people screen of a looking\n",
      "two seated men look on the screen of a laptop.\n",
      "two seated men look on the screen of a laptop.\n",
      "two seated men look on the screen of a laptop.\n",
      "two seated men look on the screen of a a\n",
      "two seated table look at the a two a laptop.\n"
     ]
    }
   ],
   "source": [
    "NS = 10\n",
    "tauh = .19\n",
    "X2, sampled = alter_and_score(ids[pick], NS=NS, tauh=tauh)"
   ]
  },
  {
   "cell_type": "code",
   "execution_count": 10,
   "metadata": {},
   "outputs": [
    {
     "name": "stdout",
     "output_type": "stream",
     "text": [
      "ticks: 22 [ 0.     0.025  0.05   0.075  0.1    0.125  0.15   0.175  0.2    0.225\n",
      "  0.25   0.275  0.3    0.325  0.35   0.375  0.4    0.425  0.45   0.475  0.5\n",
      "  0.525]\n"
     ]
    },
    {
     "data": {
      "image/png": "[encoded data removed]",
      "text/plain": [
       "<matplotlib.figure.Figure at 0x7fe6e5292080>"
      ]
     },
     "metadata": {},
     "output_type": "display_data"
    }
   ],
   "source": [
    "sns.set()\n",
    "sns.set_style('whitegrid', rc={\"axes.edgecolor\": 'darkgray'})\n",
    "sns.set_context('paper', font_scale=2.3, rc={\"lines.linewidth\": 2,\n",
    "                                             \"lines.markersize\": 8})\n",
    "f, ax = plt.subplots(1, 1, figsize=(6, 8))\n",
    "plot_sentences_bar(ax, sampled, nrefs=1, tauh=tauh)"
   ]
  },
  {
   "cell_type": "code",
   "execution_count": 58,
   "metadata": {
    "collapsed": true
   },
   "outputs": [],
   "source": [
    "def plot_sentences_2d(ax, X2, sampled, refs, pick=['hamming', \"bleu\"],\n",
    "                      tauh=.2, taub=.2):\n",
    "    keys = list(sampled)\n",
    "    selected = [keys[e] for e in refs]\n",
    "    for e, c in enumerate(selected):\n",
    "        hammings = []\n",
    "        bleus = []\n",
    "        sentences = []\n",
    "        sentences.append(fold(c, 4, bf=True))\n",
    "        hammings.append(0)\n",
    "        bleus.append(1)\n",
    "        NS = len(sampled[c]) + 1\n",
    "        for sabh in sampled[c]:\n",
    "            if sabh['hamming']:\n",
    "                sentences.append(r'%s' % fold(highlight(sabh['sample'],\n",
    "                                                        sabh['alter']),\n",
    "                                             4))\n",
    "                hammings.append(sabh['hamming'])\n",
    "                bleus.append(sabh['bleu'])\n",
    "        if 1:\n",
    "            hammings = np.array([exp(-d/tauh) for d in hammings])\n",
    "            hammings /= np.sum(hammings)\n",
    "            bleus = np.array([exp((bleu-1)/taub) for bleu in bleus])\n",
    "            bleus /= np.sum(bleus)\n",
    "        V = np.arange(len(sentences))\n",
    "        X2ref = X2[refs[e]*NS:(refs[e]+1)*NS] \n",
    "        if 'hamming' in pick:\n",
    "            print('sampling wrt (hamming):', hammings)\n",
    "            samples = np.random.choice(V, p=hammings, size=(2000,))\n",
    "            xs = X2ref[samples, 0]\n",
    "            ys = X2ref[samples, 1]\n",
    "            sns.kdeplot(xs, ys, ax=ax, cut=3,\n",
    "                        cmap=\"Reds\", shade=True, shade_lowest=False,\n",
    "                        cbar=True, alpha=.6, cbar_kws={\"label\": \"$r_\\\\tau$, $r:=$Hamming\",\n",
    "                                                      \"orientation\": \"horizontal\",\n",
    "                                                      \"pad\": .01,\n",
    "                                                      \"format\": \"%.1e\",\n",
    "                                                      'shrink': 0.7})\n",
    "        if 'bleu' in pick:\n",
    "            print('sampling wrt (bleu):', bleus)\n",
    "            samples2 = np.random.choice(V, p=bleus, size=(1000,))\n",
    "            xs = X2ref[samples2, 0]\n",
    "            ys = X2ref[samples2, 1]\n",
    "            sns.kdeplot(xs, ys, ax=ax, cut=2,\n",
    "                        cmap='Blues', shade=True, shade_lowest=False,\n",
    "                        cbar=True, alpha=.5, cbar_kws={\"label\": \"$r_\\\\tau$, $r:=$Bleu-4\",\n",
    "                                                        \"orientation\": \"horizontal\",\n",
    "                                                        \"pad\": .01,\n",
    "                                                        \"format\": \"%.1e\",\n",
    "                                                        'shrink': 0.7})\n",
    "        for i in V:\n",
    "            ax.text(X2ref[i,0], X2ref[i,1], sentences[i], fontsize=18, color=\"k\")\n",
    "#         ax.set_xticks([])\n",
    "#         ax.set_yticks([])\n",
    "        ax.set_xlim([np.min(xs)-2, np.max(xs)+6.5])\n",
    "        ax.set_ylim([np.min(ys)-3, np.max(ys)+3])\n",
    "        \n",
    "    \n",
    "    \n",
    "#         pal = sns.dark_palette(\"palegreen\", as_cmap=True, reverse=True)\n",
    "#         pal = sns.cubehelix_palette(8, start=2, rot=0, dark=0.1, light=1,\n",
    "#                                     reverse=False,\n",
    "#                                     as_cmap=True)"
   ]
  },
  {
   "cell_type": "code",
   "execution_count": 59,
   "metadata": {},
   "outputs": [
    {
     "name": "stdout",
     "output_type": "stream",
     "text": [
      "sampling wrt (hamming): [ 0.2749899   0.07376947  0.07376947  0.14242843  0.14242843  0.0382082\n",
      "  0.07376947  0.0382082   0.14242843]\n"
     ]
    },
    {
     "data": {
      "image/png": "[encoded data removed]",
      "text/plain": [
       "<matplotlib.figure.Figure at 0x7fe6e90a77f0>"
      ]
     },
     "metadata": {},
     "output_type": "display_data"
    }
   ],
   "source": [
    "sns.set()\n",
    "sns.set_style('whitegrid', rc={\"axes.edgecolor\": 'darkgray'})\n",
    "sns.set_context('paper', font_scale=2.3, rc={\"lines.linewidth\": 2,\n",
    "                                             \"lines.markersize\": 8})\n",
    "\n",
    "f, ax = plt.subplots(1, 1, figsize=(14, 13))\n",
    "# plot_sentences_2d(ax[1], X2, sampled, refs=[0], pick=['bleu'],\n",
    "#                   taub=.8)\n",
    "plot_sentences_2d(ax, X2, sampled, refs=[0], pick=['hamming'],\n",
    "                  tauh=8*tauh, taub=.8)\n",
    "\n",
    "# f.tight_layout()\n",
    "# plt.subplots_adjust(wspace=.01)\n",
    "plt.savefig('../figures/sentences_hamm.png',\n",
    "            dpi=300, bbox_inches='tight')"
   ]
  },
  {
   "cell_type": "code",
   "execution_count": null,
   "metadata": {
    "collapsed": true
   },
   "outputs": [],
   "source": []
  },
  {
   "cell_type": "code",
   "execution_count": null,
   "metadata": {
    "collapsed": true
   },
   "outputs": [],
   "source": []
  },
  {
   "cell_type": "code",
   "execution_count": null,
   "metadata": {
    "collapsed": true
   },
   "outputs": [],
   "source": []
  },
  {
   "cell_type": "code",
   "execution_count": null,
   "metadata": {
    "collapsed": true
   },
   "outputs": [],
   "source": []
  },
  {
   "cell_type": "markdown",
   "metadata": {
    "collapsed": true
   },
   "source": [
    "### Hamming tau"
   ]
  },
  {
   "cell_type": "code",
   "execution_count": 33,
   "metadata": {
    "collapsed": true
   },
   "outputs": [],
   "source": [
    "def distrib(m, v, tau=0.7):\n",
    "    x = [comb(m, d, exact=False) * (v-1)**d / v**m * exp(-d/tau) for d in range(m+1)]\n",
    "    x = np.array(x)\n",
    "    x/= np.sum(x)\n",
    "    return x\n",
    "\n",
    "def distrib2(m, v, tau=0.7):\n",
    "    x = [comb(m, d, exact=False) * (v-1)**d * exp(-d/tau) / (((v-1) * exp(-1/tau)+1) ** m) for d in range(m+1)]\n",
    "    x = np.array(x)\n",
    "    x/= np.sum(x)\n",
    "    return x"
   ]
  },
  {
   "cell_type": "code",
   "execution_count": null,
   "metadata": {
    "collapsed": true
   },
   "outputs": [],
   "source": [
    "m = 16\n",
    "V1 = 30\n",
    "taus1 = [.2, .3, .4]\n",
    "V2 = 180\n",
    "taus2= [.15,.17, .2]\n",
    "V3 = 9800\n",
    "taus3= [0.09, 0.10, 0.12]\n",
    "V4 = 300\n",
    "taus4= [0.13, 0.15, 0.17]\n",
    "yt = .28\n",
    "sns.set()\n",
    "sns.set_style('whitegrid', rc={\"axes.edgecolor\": 'black'})\n",
    "sns.set_context('paper', font_scale=2.3, rc={\"lines.linewidth\": 2,\n",
    "                                             \"lines.markersize\": 8})\n",
    "fig, axs = plt.subplots(2, 2, figsize=(16, 16), sharey=True)\n",
    "markers = ['*', '^', 'o', 's']\n",
    "for i, tau in enumerate(taus1):\n",
    "    axs[0,0].plot(range(m+1) , distrib2(m, V1, tau),\n",
    "                  marker=markers[i],\n",
    "                  label=\"$\\\\tau=%.2f$\" % tau)\n",
    "axs[0,0].legend()\n",
    "axs[0,0].set_xticks(4 * np.arange(m//4 +1))\n",
    "axs[0,0].text(.4*m, yt, '$V_{pool}=%d$'% V1)\n",
    "axs[1,0].set_xlabel('d')\n",
    "\n",
    "for i, tau in enumerate(taus2):\n",
    "    axs[0,1].plot(range(m+1),\n",
    "                  distrib2(m, V2, tau),\n",
    "                  marker=markers[i],\n",
    "                  label=\"$\\\\tau=%.2f$\" % tau)\n",
    "axs[0,1].legend()\n",
    "axs[0,1].set_xticks(4 * np.arange(m//4 +1))\n",
    "axs[0,1].text(.4*m, yt, '$V_{pool}=%d$'% V2)\n",
    "axs[0,1].set_xlabel('d')\n",
    "\n",
    "for i, tau in enumerate(taus3):\n",
    "    axs[1,0].plot(range(m+1),\n",
    "                  distrib2(m, V3, tau),\n",
    "                  marker=markers[i],\n",
    "                  label=\"$\\\\tau=%.2f$\" % tau)\n",
    "axs[1,0].legend()\n",
    "axs[1,0].set_xticks(4 * np.arange(m//4 +1))\n",
    "axs[1,0].text(.4*m, yt, '$V_{pool}=%d$'% V3)\n",
    "axs[1,0].set_xlabel('d')\n",
    "\n",
    "\n",
    "m = 50\n",
    "for i, tau in enumerate(taus4):\n",
    "    axs[1,1].plot(range(m+1),\n",
    "                  distrib2(m, V4, tau),\n",
    "                  marker=markers[i],\n",
    "                  label=\"$\\\\tau=%.2f$\" % tau)\n",
    "axs[1,1].legend()\n",
    "axs[1,1].set_xticks(4 * np.arange(m//4 +1))\n",
    "axs[1,1].text(.4*m, yt, '$V_{pool}=%d$'% V4)\n",
    "axs[1,1].set_xlabel('d')\n",
    "plt.tight_layout()\n",
    "\n",
    "# plt.savefig('../figures/hamming_q.png', dpi=400, bbox_inches='tight')"
   ]
  },
  {
   "cell_type": "code",
   "execution_count": null,
   "metadata": {
    "collapsed": true
   },
   "outputs": [],
   "source": []
  },
  {
   "cell_type": "code",
   "execution_count": 34,
   "metadata": {
    "collapsed": true
   },
   "outputs": [],
   "source": [
    "def plot_bar_dist(ax, m, V, taus):\n",
    "    h = .3\n",
    "    ticks = [ h*i for i in range(len(taus))]\n",
    "#     clr = sns.color_palette('Blues', 17)\n",
    "    clr = sns.color_palette(\"coolwarm\", 17)\n",
    "    r = []\n",
    "    for tau in taus:\n",
    "        dd = distrib2(m,V,tau)\n",
    "        r.append(dd)\n",
    "    r = np.array(r).T\n",
    "    r = np.vstack((np.zeros(len(taus),), r))\n",
    "    cr = np.cumsum(r, axis=0)\n",
    "    for d in range(1,m+1):\n",
    "    #     print(r[d])\n",
    "        ax.barh(ticks, r[d], left=cr[d-1], color=clr[d], height=h)\n",
    "        for row in range(len(taus)):\n",
    "            if r[d, row] > 3.2e-2:\n",
    "                ax.annotate(d, xy=(cr[d-1, row] + r[d, row]/2 , h * row),\n",
    "                           fontsize=12)\n",
    "    #                         xytext=(cr[d-1, row] + r[d, row]/3 , row))\n",
    "\n",
    "    ax.set_yticks(ticks)\n",
    "    ax.set_yticklabels(['%.2f'%tau for tau in taus])\n",
    "    ax.set_title(r'$V_{sub} = %d$' % V)\n",
    "    ax.set_ylabel(r'$\\tau$', rotation=0)\n",
    "    ax.yaxis.set_label_coords(-0.02,0.98)"
   ]
  },
  {
   "cell_type": "code",
   "execution_count": 41,
   "metadata": {
    "collapsed": true
   },
   "outputs": [],
   "source": [
    "def plot_bar_dist_vertical(ax, m, V, taus):\n",
    "    h = .3\n",
    "    ticks = [ h*i for i in range(len(taus))]\n",
    "#     clr = sns.color_palette('Blues', 17)\n",
    "    clr = sns.color_palette(\"coolwarm\", 17)\n",
    "    r = []\n",
    "    for tau in taus:\n",
    "        dd = distrib2(m,V,tau)\n",
    "        r.append(dd)\n",
    "    r = np.array(r).T\n",
    "    r = np.vstack((np.zeros(len(taus),), r))\n",
    "    cr = np.cumsum(r, axis=0)\n",
    "    for d in range(1,m+1):\n",
    "    #     print(r[d])\n",
    "        ax.bar(ticks, r[d], bottom=cr[d-1], color=clr[d], width=h)\n",
    "        for row in range(len(taus)):\n",
    "            if r[d, row] > 3.2e-2:\n",
    "                ax.annotate(d, xy=(h*row, cr[d-1, row] + r[d, row]/2),\n",
    "                           fontsize=12)\n",
    "    #                         xytext=(cr[d-1, row] + r[d, row]/3 , row))\n",
    "\n",
    "    ax.set_xticks(ticks)\n",
    "    ax.set_xticklabels(['%.2f'%tau for tau in taus])\n",
    "    ax.set_title(r'$V_{sub} = %d$' % V)\n",
    "    ax.set_xlabel(r'$\\tau$', rotation=0)\n",
    "#     ax.xaxis.set_label_coords(0,0)"
   ]
  },
  {
   "cell_type": "code",
   "execution_count": 42,
   "metadata": {},
   "outputs": [
    {
     "data": {
      "image/png": "[encoded data removed]",
      "text/plain": [
       "<matplotlib.figure.Figure at 0x7fe6ec542d68>"
      ]
     },
     "metadata": {},
     "output_type": "display_data"
    }
   ],
   "source": [
    "sns.set()\n",
    "sns.set_style('whitegrid', rc={\"axes.edgecolor\": 'black'})\n",
    "sns.set_context('paper', font_scale=2.3, rc={\"lines.linewidth\": 2,\n",
    "                                             \"lines.markersize\": 8})\n",
    "\n",
    "\n",
    "f, axs = plt.subplots(1,1, figsize=(3, 7))\n",
    "plot_bar_dist_vertical(axs, 16, 30, [.20, .30, .35])\n",
    "# plot_bar_dist(axs[1], 16, 210, [.1, .15, .2])\n",
    "# plot_bar_dist(axs[2], 16, 9800, [.08, .1, .12])\n",
    "f.tight_layout()\n",
    "plt.subplots_adjust(hspace=0.35)\n",
    "plt.savefig('../figures/hamming_d_distrib_short.png', dpi=400, bbox_inches='tight')"
   ]
  },
  {
   "cell_type": "code",
   "execution_count": null,
   "metadata": {
    "collapsed": true
   },
   "outputs": [],
   "source": [
    "def distrib_v(m, vs, tau=.1):\n",
    "    vmass = [((v-1) * exp(-1/tau)+1) ** m for v in vs]\n",
    "    vmass = [vm / vmass[-1] for vm in vmass]\n",
    "    return vmass"
   ]
  },
  {
   "cell_type": "code",
   "execution_count": null,
   "metadata": {
    "collapsed": true
   },
   "outputs": [],
   "source": [
    "vs = [30, 120, 250, 400, 500, 2000, 3000, 5000, 7000, 8000, 9000, 9800]\n",
    "m = 16\n",
    "tau = .1\n",
    "plt.plot(vs, distrib_v(m, vs, tau))"
   ]
  },
  {
   "cell_type": "code",
   "execution_count": null,
   "metadata": {
    "collapsed": true
   },
   "outputs": [],
   "source": []
  }
 ],
 "metadata": {
  "kernelspec": {
   "display_name": "Python 3",
   "language": "python",
   "name": "python3"
  },
  "language_info": {
   "codemirror_mode": {
    "name": "ipython",
    "version": 3
   },
   "file_extension": ".py",
   "mimetype": "text/x-python",
   "name": "python",
   "nbconvert_exporter": "python",
   "pygments_lexer": "ipython3",
   "version": "3.6.2"
  }
 },
 "nbformat": 4,
 "nbformat_minor": 2
}
