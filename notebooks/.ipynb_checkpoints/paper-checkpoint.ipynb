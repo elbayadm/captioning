{
 "cells": [
  {
   "cell_type": "code",
   "execution_count": 264,
   "metadata": {},
   "outputs": [
    {
     "data": {
      "image/png": "[encoded data removed]",
      "text/plain": [
       "<matplotlib.figure.Figure at 0x7fc87e942518>"
      ]
     },
     "metadata": {},
     "output_type": "display_data"
    }
   ],
   "source": [
    "import random\n",
    "from six.moves import cPickle as pickle\n",
    "from sklearn.manifold import TSNE\n",
    "import matplotlib.pyplot as plt\n",
    "from matplotlib import rc\n",
    "from matplotlib.patches import Circle\n",
    "rc('text', usetex=True)\n",
    "rc('text.latex', preamble='\\\\usepackage{color}')\n",
    "from PIL import Image\n",
    "import numpy as np\n",
    "from scipy.misc import comb\n",
    "from math import log, exp, sqrt\n",
    "from collections import Counter\n",
    "import seaborn as sns\n",
    "sns.set_context(\"paper\")\n",
    "# sns.set_context('talk')\n",
    "import string\n",
    "import json\n",
    "import pickle\n",
    "from mpl_toolkits.mplot3d import Axes3D\n",
    "%matplotlib inline\n",
    "COLORS = [\"#808080\", \"#3498db\", \"#0000b3\", \"#ffd480\", \"#e74c3c\"]\n",
    "sns.palplot(sns.color_palette(COLORS))"
   ]
  },
  {
   "cell_type": "code",
   "execution_count": 10,
   "metadata": {
    "collapsed": true
   },
   "outputs": [],
   "source": [
    "def distrib(m, v, tau=0.7):\n",
    "    x = [comb(m, d, exact=False) * (v-1)**d / v**m * exp(-d/tau) for d in range(m+1)]\n",
    "    x = np.array(x)\n",
    "    x/= np.sum(x)\n",
    "    return x"
   ]
  },
  {
   "cell_type": "code",
   "execution_count": null,
   "metadata": {
    "collapsed": true
   },
   "outputs": [],
   "source": [
    "# m = 16\n",
    "# V1 = 180\n",
    "# V2 = 9800\n",
    "m = 16\n",
    "V1 = 30\n",
    "taus1 = [.2, .3, .4]\n",
    "V2 = 180\n",
    "taus2= [.15,.17, .2]\n",
    "V3 = 9800\n",
    "taus3= [0.09, 0.10, 0.12]\n",
    "V4 = 300\n",
    "taus4= [0.13, 0.15, 0.17]\n",
    "yt = .28\n",
    "sns.set()\n",
    "sns.set_style('whitegrid', rc={\"axes.edgecolor\": 'black'})\n",
    "sns.set_context('paper', font_scale=2.3, rc={\"lines.linewidth\": 2,\n",
    "                                             \"lines.markersize\": 8})\n",
    "fig, axs = plt.subplots(2, 2, figsize=(16, 16), sharey=True)\n",
    "markers = ['*', '^', 'o', 's']\n",
    "for i, tau in enumerate(taus1):\n",
    "    axs[0,0].plot(range(m+1) , distrib(m, V1, tau),\n",
    "                  marker=markers[i],\n",
    "                  label=\"$\\\\tau=%.2f$\" % tau)\n",
    "axs[0,0].legend()\n",
    "axs[0,0].set_xticks(4 * np.arange(m//4 +1))\n",
    "axs[0,0].text(.4*m, yt, '$V_{pool}=%d$'% V1)\n",
    "axs[1,0].set_xlabel('d')\n",
    "\n",
    "for i, tau in enumerate(taus2):\n",
    "    axs[0,1].plot(range(m+1),\n",
    "                  distrib(m, V2, tau),\n",
    "                  marker=markers[i],\n",
    "                  label=\"$\\\\tau=%.2f$\" % tau)\n",
    "axs[0,1].legend()\n",
    "axs[0,1].set_xticks(4 * np.arange(m//4 +1))\n",
    "axs[0,1].text(.4*m, yt, '$V_{pool}=%d$'% V2)\n",
    "axs[0,1].set_xlabel('d')\n",
    "\n",
    "for i, tau in enumerate(taus3):\n",
    "    axs[1,0].plot(range(m+1),\n",
    "                  distrib(m, V3, tau),\n",
    "                  marker=markers[i],\n",
    "                  label=\"$\\\\tau=%.2f$\" % tau)\n",
    "axs[1,0].legend()\n",
    "axs[1,0].set_xticks(4 * np.arange(m//4 +1))\n",
    "axs[1,0].text(.4*m, yt, '$V_{pool}=%d$'% V3)\n",
    "axs[1,0].set_xlabel('d')\n",
    "\n",
    "\n",
    "m = 50\n",
    "for i, tau in enumerate(taus4):\n",
    "    axs[1,1].plot(range(m+1),\n",
    "                  distrib(m, V4, tau),\n",
    "                  marker=markers[i],\n",
    "                  label=\"$\\\\tau=%.2f$\" % tau)\n",
    "axs[1,1].legend()\n",
    "axs[1,1].set_xticks(4 * np.arange(m//4 +1))\n",
    "axs[1,1].text(.4*m, yt, '$V_{pool}=%d$'% V4)\n",
    "axs[1,1].set_xlabel('d')\n",
    "plt.tight_layout()\n",
    "\n",
    "plt.savefig('../figures/hamming_q.png', dpi=400, bbox_inches='tight')"
   ]
  },
  {
   "cell_type": "markdown",
   "metadata": {
    "collapsed": true
   },
   "source": [
    "## word neighbors"
   ]
  },
  {
   "cell_type": "code",
   "execution_count": 11,
   "metadata": {},
   "outputs": [],
   "source": [
    "# Constants\n",
    "itow = json.load(open('../data/coco/cocotalk.json', 'r'))['ix_to_word']\n",
    "WORDS = {int(k): v for k, v in itow.items()}\n",
    "if 0 not in WORDS:\n",
    "    WORDS[0] = 'EOS'\n",
    "MATCH = {v: k for k,v in WORDS.items()}\n",
    "del itow\n",
    "FF = pickle.load(open('../data/coco/idf_coco_01.pkl', 'rb'))\n",
    "F = pickle.load(open('cooc_freq.pkl', 'rb'))[0]\n",
    "\n",
    "# utils:\n",
    "def normalize(A):\n",
    "    l1 = A.sum(axis=1)\n",
    "    A /= l1.reshape(len(A), 1)\n",
    "    return A\n",
    "\n",
    "def invocab(ngram):\n",
    "    for w in ngram:\n",
    "        if w not in MATCH:\n",
    "            return False\n",
    "    return True\n",
    "\n",
    "def space(xy, points, delta=1):\n",
    "    x , y = xy\n",
    "    xs = np.array([p[0] for p in points])\n",
    "    ys = np.array([p[1] for p in points])\n",
    "    while np.any(np.absolute(xs -x) < delta):\n",
    "        x += delta\n",
    "    while np.any(np.absolute(ys -y) < delta):\n",
    "        y += delta\n",
    "    return [x, y]\n",
    "\n",
    "def exps(sim, tau=0.2, freq=False):\n",
    "    if freq:\n",
    "        return normalize(np.exp((sim-1 - tau * FF)/tau))\n",
    "    else:\n",
    "        return normalize(np.exp((sim-1)/tau))\n",
    "    \n",
    "sim_wiki = pickle.load(open('../data/Glove/glove_wiki_d300_w15_similarities.pkl',\n",
    "                             'rb'), encoding='iso-8859-1')\n",
    "sim_coco = pickle.load(open('../data/Glove/glove_coco_d300_w15_similarities.pkl','rb'))\n"
   ]
  },
  {
   "cell_type": "code",
   "execution_count": 131,
   "metadata": {
    "collapsed": true
   },
   "outputs": [],
   "source": [
    "def plot_word_neighbors(axs, selected, sim1, sim2, labels,\n",
    "                        NN=10, verbose=0, legend=0):\n",
    "    sns.set()\n",
    "    ax2, ax = axs\n",
    "    h = .05\n",
    "    colors = sns.color_palette(\"Paired\", NN)\n",
    "    k = MATCH[selected]\n",
    "    nbrs1 = np.flip(sim1[k].argsort()[-NN:][::-1], axis=0)\n",
    "    nbrs2 = np.flip(sim2[k].argsort()[-NN:][::-1], axis=0)\n",
    "    nbrs = list(set(nbrs1).union(set(nbrs2)))\n",
    "    nbrs.remove(k)\n",
    "    nbrs = nbrs + [k]\n",
    "#     print('neighbors:', nbrs)\n",
    "    wnbrs = [WORDS[i] for i in nbrs]\n",
    "    simnbrs1 = [sim1[k,i] for i in nbrs]\n",
    "    simnbrs2 = [sim2[k,i] for i in nbrs]\n",
    "    ys = 4 / 3 * h * np.arange(len(nbrs))\n",
    "    ax2.get_shared_y_axes().join(ax, ax2)\n",
    "    ax2.set_xlim(1e-6, 1)\n",
    "    ax2.text(1e-4,-.165,\"freq\", fontsize=18)\n",
    "    ax2.invert_xaxis()\n",
    "    ax2.yaxis.tick_right()\n",
    "    freqnbrs = [F[i] for i in nbrs]\n",
    "    if verbose:\n",
    "        print('freq', freqnbrs)\n",
    "        print('sim', simnbrs)\n",
    "    ax2.barh(ys, freqnbrs, height=h,\n",
    "             align='edge', color=COLORS[3])\n",
    "    \n",
    "    ax2.set_xscale(\"log\", nonposx='clip')\n",
    "#     ax2.set_xlabel('freq')\n",
    "    \n",
    "    ax2.axis('off')\n",
    "    ax.barh(ys+2*h/3, [0] * (len(nbrs)-1) + [1], height=h/3,\n",
    "            align='edge', color=COLORS[0], alpha=.5,\n",
    "           label=\"MLE\")\n",
    "    ax.barh(ys+h/3, simnbrs1, height=h/3,\n",
    "            align='edge', color=COLORS[1], alpha=.7,\n",
    "           label=labels[0])\n",
    "    ax.barh(ys, simnbrs2, height=h/3,\n",
    "            align='edge', color=COLORS[2], alpha=.7,\n",
    "            label=labels[1])\n",
    "    ax.set_yticks(ys + h/2)\n",
    "    ax.tick_params('y', labelsize=14)\n",
    "    ax.set_yticklabels(wnbrs)\n",
    "    ax.set_ylim(min(ys), max(ys) + h)\n",
    "    ax.set_xlim(1e-4, 1)\n",
    "    ax.set_xscale(\"log\", nonposx='clip')\n",
    "    ax.set_xlabel('$r_\\\\tau(y|$%s$)$' % selected)\n",
    "    \n",
    "    if legend:\n",
    "        ax.legend(fontsize=16, loc=4)\n",
    "    plt.tight_layout()\n",
    "#         plt.savefig('../figures/%s_nbrs_%s.png' % (prefix, WORDS[k]),\n",
    "#                     dpi=300, bbox_inches='tight')\n"
   ]
  },
  {
   "cell_type": "code",
   "execution_count": 132,
   "metadata": {},
   "outputs": [
    {
     "data": {
      "image/png": "[encoded data removed]",
      "text/plain": [
       "<matplotlib.figure.Figure at 0x7fc921d76080>"
      ]
     },
     "metadata": {},
     "output_type": "display_data"
    }
   ],
   "source": [
    "sns.set()\n",
    "sns.set_style('whitegrid', rc={\"axes.edgecolor\": 'darkgray'})\n",
    "sns.set_context('paper', font_scale=2.3, rc={\"lines.linewidth\": 2,\n",
    "                                             \"lines.markersize\": 8})\n",
    "fig, axs = plt.subplots(1, 4, figsize=(12, 4),\n",
    "                        gridspec_kw = {'width_ratios':[1, 3] * 2})\n",
    "word = \"city\" #\"street\"\n",
    "plot_word_neighbors(axs[:2], word,\n",
    "                    exps(sim_coco, 0.15),\n",
    "                    exps(sim_coco, 0.15, True),\n",
    "                    ['Word', 'Word xIDF'])\n",
    "\n",
    "word = \"koala\" #\"street\"\n",
    "plot_word_neighbors(axs[2:4], word,\n",
    "                    exps(sim_coco, 0.15),\n",
    "                    exps(sim_coco, 0.15, True),\n",
    "                    ['Word', 'Word xIDF'],\n",
    "                   legend=1)\n",
    "\n",
    "fig.tight_layout()\n",
    "plt.subplots_adjust(wspace=0.02)\n",
    "\n",
    "plt.savefig('../figures/words_nbrs_coco.png',\n",
    "            dpi=300, bbox_inches='tight')\n"
   ]
  },
  {
   "cell_type": "code",
   "execution_count": null,
   "metadata": {
    "collapsed": true
   },
   "outputs": [],
   "source": []
  },
  {
   "cell_type": "code",
   "execution_count": null,
   "metadata": {
    "collapsed": true
   },
   "outputs": [],
   "source": []
  },
  {
   "cell_type": "code",
   "execution_count": null,
   "metadata": {
    "collapsed": true
   },
   "outputs": [],
   "source": [
    "frequent = F.argsort()[-80:][::-1]\n",
    "for fr in frequent:\n",
    "    print(WORDS[fr],)"
   ]
  },
  {
   "cell_type": "code",
   "execution_count": null,
   "metadata": {},
   "outputs": [],
   "source": [
    "medium = F.argsort()[1300:1380]\n",
    "for fr in medium:\n",
    "    print(WORDS[fr],)"
   ]
  },
  {
   "cell_type": "code",
   "execution_count": null,
   "metadata": {},
   "outputs": [],
   "source": [
    "rare = F.argsort()[60:90]\n",
    "for fr in rare:\n",
    "    print(WORDS[fr],)"
   ]
  },
  {
   "cell_type": "code",
   "execution_count": null,
   "metadata": {
    "collapsed": true
   },
   "outputs": [],
   "source": []
  },
  {
   "cell_type": "code",
   "execution_count": null,
   "metadata": {
    "collapsed": true
   },
   "outputs": [],
   "source": []
  },
  {
   "cell_type": "code",
   "execution_count": 7,
   "metadata": {
    "collapsed": true
   },
   "outputs": [],
   "source": [
    "def skim(arr, percentile):\n",
    "    th = np.percentile(arr, percentile)\n",
    "    arr[arr<th] = 0\n",
    "    return arr\n",
    "\n",
    "def plot_nbrs_picks(word, ax, legend=False):\n",
    "    iw = MATCH[word]\n",
    "    dirac = np.zeros(sim_coco.shape[0])\n",
    "    dirac[MATCH[word]] = 1\n",
    "    ax.plot(dirac, c='darkred', alpha=0.5, label=\"MLE - $\\\\delta$\")\n",
    "\n",
    "    default = skim(exps(sim_coco, 0.15, False)[iw], 99.5)\n",
    "    ax.plot(default, c='darkgreen', label=\"Tok-Reward - $r_\\\\tau$\", alpha=.5)\n",
    "\n",
    "    xidf = skim(exps(sim_coco, 0.15, True)[iw], 99.5)\n",
    "    ax.plot(xidf, c='mediumblue', label=\"Tok-Reward - $r_\\\\tau^{IDF}$\", alpha=.5)\n",
    "    if legend:\n",
    "        ax.legend(fontsize=15, loc=2)\n",
    "    wxidf = np.nonzero(xidf)[0]\n",
    "    wdef = np.nonzero(default)[0]\n",
    "    wperr = 4\n",
    "    sel = np.concatenate((np.array([iw]),\n",
    "                          np.random.choice(wdef, wperr),\n",
    "                          np.random.choice(wxidf, wperr)))\n",
    "    colors = ['darkred'] + wperr * ['darkgreen'] + wperr * ['mediumblue']\n",
    "    for e, (s, c) in enumerate(zip(sel, colors)):\n",
    "#         print('index:', s, 'default', default[s], 'xidf', xidf[s])\n",
    "        if not e:\n",
    "            scale=.5\n",
    "            slide = 25\n",
    "            pick = 1\n",
    "        else:\n",
    "            if e < wperr + 1:\n",
    "                pick = default[s]\n",
    "                slide = -400\n",
    "                scale = 5\n",
    "#                 print('e:', e, WORDS[s])\n",
    "            else:\n",
    "                pick = xidf[s]\n",
    "                slide = 100\n",
    "                scale = 3\n",
    "\n",
    "        ax.annotate(WORDS[s].encode().decode(),\n",
    "                    xy=(s, pick),\n",
    "                    xytext=(s + slide, scale * pick),\n",
    "                    color=c,\n",
    "                    fontsize=18,\n",
    "    #               arrowprops=dict(facecolor='black', shrink=0.05),\n",
    "                    arrowprops=dict(arrowstyle=\"->\",\n",
    "                                    connectionstyle=\"arc3\",\n",
    "                                    facecolor=c,\n",
    "                                    edgecolor=c))\n",
    "    ax.set_yscale(\"log\")\n",
    "    ax.set_xticks([])\n",
    "    ax.set_ylabel('$r_\\\\tau(y|$%s$)$' % word)\n",
    "#     ax.set_xlabel('$\\\\mathcal V$')\n"
   ]
  },
  {
   "cell_type": "code",
   "execution_count": 8,
   "metadata": {},
   "outputs": [
    {
     "data": {
      "image/png": "[encoded data removed]",
      "text/plain": [
       "<matplotlib.figure.Figure at 0x7fc921b41b70>"
      ]
     },
     "metadata": {},
     "output_type": "display_data"
    }
   ],
   "source": [
    "sns.set()\n",
    "sns.set_style('whitegrid', rc={\"axes.edgecolor\": 'darkgray'})\n",
    "sns.set_context('paper', font_scale=2.3, rc={\"lines.linewidth\": 2,\n",
    "                                             \"lines.markersize\": 8})\n",
    "\n",
    "f, axs = plt.subplots(2, 1, figsize=(15, 5))\n",
    "np.random.seed(1244)\n",
    "plot_nbrs_picks('street', axs[0], legend=True)\n",
    "\n",
    "np.random.seed(17)\n",
    "plot_nbrs_picks('dynamite', axs[1])\n",
    "\n",
    "plt.tight_layout()\n",
    "# plt.savefig('../figures/nbrs_picks.png',\n",
    "#             dpi=300, bbox_inches='tight')"
   ]
  },
  {
   "cell_type": "code",
   "execution_count": 30,
   "metadata": {
    "collapsed": true
   },
   "outputs": [],
   "source": []
  },
  {
   "cell_type": "code",
   "execution_count": null,
   "metadata": {
    "collapsed": true
   },
   "outputs": [],
   "source": []
  },
  {
   "cell_type": "code",
   "execution_count": null,
   "metadata": {
    "collapsed": true
   },
   "outputs": [],
   "source": []
  },
  {
   "cell_type": "code",
   "execution_count": null,
   "metadata": {
    "collapsed": true
   },
   "outputs": [],
   "source": []
  },
  {
   "cell_type": "code",
   "execution_count": 221,
   "metadata": {},
   "outputs": [
    {
     "data": {
      "text/plain": [
       "<matplotlib.legend.Legend at 0x7fdb7392dcf8>"
      ]
     },
     "execution_count": 221,
     "metadata": {},
     "output_type": "execute_result"
    },
    {
     "data": {
      "image/png": "[encoded data removed]",
      "text/plain": [
       "<matplotlib.figure.Figure at 0x7fdb739c8c50>"
      ]
     },
     "metadata": {},
     "output_type": "display_data"
    }
   ],
   "source": [
    "L = 800\n",
    "x = np.arange(L)\n",
    "y = np.zeros(L)\n",
    "center = 300\n",
    "a = 1e-5\n",
    "y = 1/a * (1/np.pi * 1/(1+((x- center)/a)**2))\n",
    "y /= np.sum(y)\n",
    "\n",
    "if 0:\n",
    "    centers = [center] + np.random.randint(low=1,\n",
    "                                           high=L,\n",
    "                                           size=10)\n",
    "    sigmas = np.random.randint(low=1,\n",
    "                               high=10,\n",
    "                               size=10) / 10\n",
    "    weights = [5] + np.random.randint(low=1,\n",
    "                                      high=10,\n",
    "                                      size=10)/2\n",
    "    weights = weights / np.sum(weights)\n",
    "    z = np.zeros(L)\n",
    "    for w, c, s in zip(weights, centers, sigmas):\n",
    "        z += w * np.exp(-(x-c)**2/2/s)\n",
    "    # z += 1/30 * np.random.randn(50)\n",
    "if 1:\n",
    "    sigma = 10\n",
    "    z = np.exp(-(x-center)**2/2/sigma**2)\n",
    "z /= np.sum(z)\n",
    "z = 13 * z\n",
    "sns.set()\n",
    "sns.set_style('whitegrid', rc={\"axes.edgecolor\": 'darkgray'})\n",
    "sns.set_context('paper', font_scale=2.3, rc={\"lines.linewidth\": 2,\n",
    "                                             \"lines.markersize\": 8})\n",
    "plt.figure(figsize=(6,5))\n",
    "plt.plot(x, y, label='MLE')\n",
    "plt.plot(x, z, label='Reward')\n",
    "plt.xlim([center-12*sigma, center+12*sigma])\n",
    "plt.xticks([])\n",
    "plt.legend()\n",
    "# plt.xticks(centers, ['jungle', 'forest', 'clearing'], rotation=45)\n"
   ]
  },
  {
   "cell_type": "markdown",
   "metadata": {
    "collapsed": true
   },
   "source": [
    "### Sentences"
   ]
  },
  {
   "cell_type": "code",
   "execution_count": 133,
   "metadata": {
    "collapsed": true
   },
   "outputs": [],
   "source": [
    "import torch\n",
    "GLOVE_PATH = '../../InferSent/dataset/GloVe/glove.840B.300d.txt'"
   ]
  },
  {
   "cell_type": "code",
   "execution_count": 136,
   "metadata": {},
   "outputs": [
    {
     "name": "stderr",
     "output_type": "stream",
     "text": [
      "/home/maha/anaconda3/lib/python3.6/site-packages/torch/serialization.py:286: SourceChangeWarning: source code of class 'models.BLSTMEncoder' has changed. you can retrieve the original source code by accessing the object's source attribute or set `torch.nn.Module.dump_patches = True` and use the patch tool to revert the changes.\n",
      "  warnings.warn(msg, SourceChangeWarning)\n"
     ]
    }
   ],
   "source": [
    "import sys\n",
    "sys.path.insert(0, '../../InferSent/encoder/')\n",
    "model = torch.load('../../InferSent/encoder/infersent.allnli.pickle')"
   ]
  },
  {
   "cell_type": "code",
   "execution_count": 137,
   "metadata": {},
   "outputs": [
    {
     "name": "stdout",
     "output_type": "stream",
     "text": [
      "Vocab size : 100000\n"
     ]
    }
   ],
   "source": [
    "model.set_glove_path(GLOVE_PATH)\n",
    "model.build_vocab_k_words(K=100000)\n",
    "def embed_sent(sentences):\n",
    "    embeddings = model.encode(sentences, bsize=128, tokenize=False, verbose=False)\n",
    "    return embeddings"
   ]
  },
  {
   "cell_type": "code",
   "execution_count": 140,
   "metadata": {},
   "outputs": [
    {
     "name": "stderr",
     "output_type": "stream",
     "text": [
      "../../InferSent/encoder/models.py:53: UserWarning: RNN module weights are not part of single contiguous chunk of memory. This means they need to be compacted at every call, possibly greately increasing memory usage. To compact weights again call flatten_parameters().\n",
      "  sent_output = self.enc_lstm(sent_packed)[0]  # seqlen x batch x 2*nhid\n"
     ]
    },
    {
     "data": {
      "text/plain": [
       "(1, 4096)"
      ]
     },
     "execution_count": 140,
     "metadata": {},
     "output_type": "execute_result"
    }
   ],
   "source": [
    "embed_sent([\"a cat is playing\"]).shape"
   ]
  },
  {
   "cell_type": "code",
   "execution_count": 207,
   "metadata": {
    "collapsed": true
   },
   "outputs": [],
   "source": [
    "A = json.load(open('../data/coco/captions_train2014.json', 'r'))['annotations']\n",
    "caps = {}\n",
    "for a in A:\n",
    "    if a['image_id'] in caps:\n",
    "        caps[a['image_id']].append(a['caption'].split())\n",
    "    else:\n",
    "        caps[a['image_id']] = [a['caption'].split()]"
   ]
  },
  {
   "cell_type": "code",
   "execution_count": 256,
   "metadata": {
    "collapsed": true
   },
   "outputs": [],
   "source": [
    "def alter(sentence, distance, vocab):\n",
    "    sampled = sentence.copy()\n",
    "    m = len(sampled)\n",
    "    indices = list(range(m))\n",
    "    print('indices:', indices)\n",
    "    random.shuffle(indices)\n",
    "    for k in indices[:distance]:\n",
    "        sampled[k] = random.choice(vocab)\n",
    "    return sampled, indices[:distance]\n",
    "    "
   ]
  },
  {
   "cell_type": "code",
   "execution_count": 257,
   "metadata": {},
   "outputs": [
    {
     "name": "stdout",
     "output_type": "stream",
     "text": [
      "[['Two', 'women', 'preparing', 'food', 'in', 'a', 'kitchen,', 'one', 'at', 'the', 'sink', 'and', 'one', 'at', 'the', 'table'], ['A', 'set', 'table', 'with', 'silverware,', 'glasses', 'and', 'a', 'bottle', 'of', 'wine.'], ['A', 'woman', 'having', 'a', 'slice', 'of', 'bread', 'with', 'jelly.'], ['A', 'woman', 'sitting', 'at', 'a', 'table', 'with', 'win', 'and', 'bread.'], ['A', 'women', 'who', 'is', 'tearing', 'off', 'a', 'piece', 'of', 'bread.']]\n"
     ]
    }
   ],
   "source": [
    "ids = list(caps)\n",
    "select = ids[14]\n",
    "gt = caps[select]\n",
    "print(gt)"
   ]
  },
  {
   "cell_type": "code",
   "execution_count": 258,
   "metadata": {},
   "outputs": [
    {
     "name": "stdout",
     "output_type": "stream",
     "text": [
      "['Two', 'women', 'preparing', 'food', 'in', 'a', 'kitchen,', 'one', 'at', 'the', 'sink', 'and', 'one', 'at', 'the', 'table']\n",
      "['A', 'set', 'table', 'with', 'silverware,', 'glasses', 'and', 'a', 'bottle', 'of', 'wine.']\n",
      "['A', 'woman', 'having', 'a', 'slice', 'of', 'bread', 'with', 'jelly.']\n",
      "['A', 'woman', 'sitting', 'at', 'a', 'table', 'with', 'win', 'and', 'bread.']\n",
      "['A', 'women', 'who', 'is', 'tearing', 'off', 'a', 'piece', 'of', 'bread.']\n",
      "vresf: ['Two', 'women', 'preparing', 'food', 'in', 'a', 'kitchen,', 'one', 'at', 'the', 'sink', 'and', 'one', 'at', 'the', 'table', 'A', 'set', 'table', 'with', 'silverware,', 'glasses', 'and', 'a', 'bottle', 'of', 'wine.', 'A', 'woman', 'having', 'a', 'slice', 'of', 'bread', 'with', 'jelly.', 'A', 'woman', 'sitting', 'at', 'a', 'table', 'with', 'win', 'and', 'bread.', 'A', 'women', 'who', 'is', 'tearing', 'off', 'a', 'piece', 'of', 'bread.']\n",
      "Vrefs: ['slice', 'having', 'piece', 'and', 'wine.', 'sitting', 'preparing', 'silverware,', 'women', 'glasses', 'jelly.', 'win', 'woman', 'who', 'sink', 'is', 'at', 'in', 'a', 'A', 'bread', 'the', 'one', 'bread.', 'food', 'tearing', 'off', 'with', 'kitchen,', 'Two', 'set', 'bottle', 'of', 'table']\n"
     ]
    }
   ],
   "source": [
    "vrefs = []\n",
    "for g in gt:\n",
    "    print(g)\n",
    "    vrefs += g\n",
    "print('vresf:', vrefs)\n",
    "vrefs = list(set(vrefs))\n",
    "print('Vrefs:', vrefs)"
   ]
  },
  {
   "cell_type": "code",
   "execution_count": 259,
   "metadata": {},
   "outputs": [
    {
     "name": "stdout",
     "output_type": "stream",
     "text": [
      "indices: [0, 1, 2, 3, 4, 5, 6, 7, 8, 9, 10, 11, 12, 13, 14, 15]\n",
      "indices: [0, 1, 2, 3, 4, 5, 6, 7, 8, 9, 10]\n",
      "indices: [0, 1, 2, 3, 4, 5, 6, 7, 8]\n",
      "indices: [0, 1, 2, 3, 4, 5, 6, 7, 8, 9]\n",
      "indices: [0, 1, 2, 3, 4, 5, 6, 7, 8, 9]\n"
     ]
    }
   ],
   "source": [
    "sampled = []\n",
    "altered = []\n",
    "for g in gt:\n",
    "    s, alt = alter(g, 3, vrefs)\n",
    "    sampled.append(s)\n",
    "    altered.append(alt)"
   ]
  },
  {
   "cell_type": "code",
   "execution_count": 260,
   "metadata": {},
   "outputs": [
    {
     "name": "stderr",
     "output_type": "stream",
     "text": [
      "../../InferSent/encoder/models.py:53: UserWarning: RNN module weights are not part of single contiguous chunk of memory. This means they need to be compacted at every call, possibly greately increasing memory usage. To compact weights again call flatten_parameters().\n",
      "  sent_output = self.enc_lstm(sent_packed)[0]  # seqlen x batch x 2*nhid\n"
     ]
    }
   ],
   "source": [
    "embeddings = embed_sent([' '.join(sent) for sent in gt+sampled])"
   ]
  },
  {
   "cell_type": "code",
   "execution_count": 261,
   "metadata": {},
   "outputs": [
    {
     "name": "stdout",
     "output_type": "stream",
     "text": [
      "[t-SNE] Computing 9 nearest neighbors...\n",
      "[t-SNE] Indexed 10 samples in 0.001s...\n",
      "[t-SNE] Computed neighbors for 10 samples in 0.004s...\n",
      "[t-SNE] Computed conditional probabilities for sample 10 / 10\n",
      "[t-SNE] Mean sigma: 1125899906842624.000000\n",
      "[t-SNE] Computed conditional probabilities in 0.004s\n",
      "[t-SNE] Iteration 50: error = 43.8948860, gradient norm = 0.2339222 (50 iterations in 0.015s)\n",
      "[t-SNE] Iteration 100: error = 45.6248474, gradient norm = 0.1835315 (50 iterations in 0.008s)\n",
      "[t-SNE] Iteration 150: error = 43.0740013, gradient norm = 0.1451620 (50 iterations in 0.007s)\n",
      "[t-SNE] Iteration 200: error = 41.1638298, gradient norm = 0.1820853 (50 iterations in 0.007s)\n",
      "[t-SNE] Iteration 250: error = 57.7331390, gradient norm = 0.2457501 (50 iterations in 0.007s)\n",
      "[t-SNE] KL divergence after 250 iterations with early exaggeration: 57.733139\n",
      "[t-SNE] Iteration 300: error = 0.2599292, gradient norm = 0.0004162 (50 iterations in 0.007s)\n",
      "[t-SNE] Iteration 350: error = 0.2539311, gradient norm = 0.0000943 (50 iterations in 0.006s)\n",
      "[t-SNE] Iteration 400: error = 0.2524252, gradient norm = 0.0000262 (50 iterations in 0.006s)\n",
      "[t-SNE] Iteration 450: error = 0.2519847, gradient norm = 0.0000202 (50 iterations in 0.009s)\n",
      "[t-SNE] Iteration 500: error = 0.2519032, gradient norm = 0.0000003 (50 iterations in 0.008s)\n",
      "[t-SNE] Iteration 550: error = 0.2519032, gradient norm = 0.0000003 (50 iterations in 0.006s)\n",
      "[t-SNE] Iteration 600: error = 0.2519031, gradient norm = 0.0000002 (50 iterations in 0.006s)\n",
      "[t-SNE] Iteration 650: error = 0.2519030, gradient norm = 0.0000002 (50 iterations in 0.007s)\n",
      "[t-SNE] Iteration 700: error = 0.2519030, gradient norm = 0.0000002 (50 iterations in 0.006s)\n",
      "[t-SNE] Iteration 750: error = 0.2519028, gradient norm = 0.0000002 (50 iterations in 0.006s)\n",
      "[t-SNE] Iteration 800: error = 0.2519026, gradient norm = 0.0000002 (50 iterations in 0.006s)\n",
      "[t-SNE] Iteration 850: error = 0.2519024, gradient norm = 0.0000002 (50 iterations in 0.005s)\n",
      "[t-SNE] Iteration 900: error = 0.2519020, gradient norm = 0.0000002 (50 iterations in 0.006s)\n",
      "[t-SNE] Iteration 950: error = 0.2519018, gradient norm = 0.0000002 (50 iterations in 0.005s)\n",
      "[t-SNE] Iteration 1000: error = 0.2519016, gradient norm = 0.0000002 (50 iterations in 0.005s)\n",
      "[t-SNE] Error after 1000 iterations: 0.251902\n"
     ]
    }
   ],
   "source": [
    "Infer2 = TSNE(n_components=2, verbose=2).fit_transform(embeddings)"
   ]
  },
  {
   "cell_type": "code",
   "execution_count": 240,
   "metadata": {
    "collapsed": true
   },
   "outputs": [],
   "source": [
    "def fold(sentence, maxlen=5):\n",
    "    folds = len(sentence) // maxlen\n",
    "    sent = \"\"\n",
    "    for f in range(folds+1):\n",
    "        if len(sentence) > maxlen * (f+1):\n",
    "            sent += ' '.join(sentence[maxlen*f: maxlen*(f+1)]) + '\\n'\n",
    "        else:\n",
    "            sent += ' '.join(sentence[maxlen*f:])\n",
    "    return sent"
   ]
  },
  {
   "cell_type": "code",
   "execution_count": 285,
   "metadata": {
    "collapsed": true
   },
   "outputs": [],
   "source": [
    "def highlight(sentence, indices):\n",
    "    sent = sentence.copy()\n",
    "    for ind in indices:\n",
    "        sent[ind] = '\\\\underline{%s}' % sent[ind]\n",
    "    return sent"
   ]
  },
  {
   "cell_type": "code",
   "execution_count": 215,
   "metadata": {},
   "outputs": [],
   "source": [
    "def sentence_bleu(hypothesis, reference, smoothing=True, order=4, **kwargs):\n",
    "    log_score = 0\n",
    "    if len(hypothesis) == 0:\n",
    "        return 0\n",
    "    for i in range(order):\n",
    "        hyp_ngrams = Counter(zip(*[hypothesis[j:] for j in range(i + 1)]))\n",
    "        ref_ngrams = Counter(zip(*[reference[j:] for j in range(i + 1)]))\n",
    "        numerator = sum(min(count, ref_ngrams[bigram])\n",
    "                        for bigram, count in hyp_ngrams.items())\n",
    "        denominator = sum(hyp_ngrams.values())\n",
    "        if smoothing:\n",
    "            numerator += 1\n",
    "            denominator += 1\n",
    "        score = numerator / denominator\n",
    "        if score == 0:\n",
    "            log_score += float('-inf')\n",
    "        else:\n",
    "            log_score += log(score) / order\n",
    "    bp = min(1, exp(1 - len(reference) / len(hypothesis)))\n",
    "    return exp(log_score) * bp\n"
   ]
  },
  {
   "cell_type": "code",
   "execution_count": 297,
   "metadata": {},
   "outputs": [
    {
     "name": "stdout",
     "output_type": "stream",
     "text": [
      "sampled: ['Two', 'one', 'preparing', 'food', 'in', 'a', 'kitchen,', 'sink', 'at', 'the', 'sink', 'and', 'one', 'at', 'having', 'table'] target: ['Two', 'women', 'preparing', 'food', 'in', 'a', 'kitchen,', 'one', 'at', 'the', 'sink', 'and', 'one', 'at', 'the', 'table']\n",
      "sampled: ['glasses', 'set', 'win', 'with', 'bottle', 'glasses', 'and', 'a', 'bottle', 'of', 'wine.'] target: ['A', 'set', 'table', 'with', 'silverware,', 'glasses', 'and', 'a', 'bottle', 'of', 'wine.']\n",
      "sampled: ['A', 'woman', 'in', 'of', 'slice', 'of', 'food', 'with', 'jelly.'] target: ['A', 'woman', 'having', 'a', 'slice', 'of', 'bread', 'with', 'jelly.']\n",
      "sampled: ['A', 'having', 'sitting', 'at', 'a', 'off', 'with', 'win', 'sink', 'bread.'] target: ['A', 'woman', 'sitting', 'at', 'a', 'table', 'with', 'win', 'and', 'bread.']\n",
      "sampled: ['A', 'women', 'who', 'tearing', 'table', 'off', 'a', 'piece', 'one', 'bread.'] target: ['A', 'women', 'who', 'is', 'tearing', 'off', 'a', 'piece', 'of', 'bread.']\n",
      "scores: [0.14126065609085814, 0.14126065609085814, 0.14126065609085814, 0.14126065609085814, 0.14126065609085814, 0.08416999346052895, 0.07756629502180322, 0.03856586642736224, 0.042353072056414275, 0.05104149257960076]\n"
     ]
    }
   ],
   "source": [
    "scores = [1] * len(gt)\n",
    "for s, g in zip(sampled, gt):\n",
    "    print('sampled:', s , 'target:', g)\n",
    "    scores.append(sentence_bleu(s, g))\n",
    "scores = [s/sum(scores) for s in scores]\n",
    "print('scores:', scores)"
   ]
  },
  {
   "cell_type": "code",
   "execution_count": 310,
   "metadata": {},
   "outputs": [
    {
     "data": {
      "image/png": "[encoded data removed]",
      "text/plain": [
       "<matplotlib.figure.Figure at 0x7fc8ffe803c8>"
      ]
     },
     "metadata": {},
     "output_type": "display_data"
    }
   ],
   "source": [
    "sns.set()\n",
    "sns.set_style('whitegrid', rc={\"axes.edgecolor\": 'darkgray'})\n",
    "sns.set_context('paper', font_scale=2.3, rc={\"lines.linewidth\": 2,\n",
    "                                             \"lines.markersize\": 8})\n",
    "\n",
    "f, ax = plt.subplots(1, 1, figsize=(15, 11))\n",
    "e = 0\n",
    "for coord, sent, score in zip(Infer2, gt+sampled, scores):\n",
    "    coord = coord/100\n",
    "    if e < 5:\n",
    "        c = 'gold'\n",
    "    else:\n",
    "        c = 'grey'\n",
    "        sent = highlight(sent, altered[e-5]) \n",
    "    final_s = r'%s' % fold(sent, 4)\n",
    "    ax.text(coord[0]-score/2, coord[1], final_s , fontsize=18)\n",
    "    ax.plot(coord[0], coord[1])\n",
    "    ax.add_artist(Circle(coord,\n",
    "                         radius=score,\n",
    "                          color=c, alpha=0.3))\n",
    "    e += 1\n",
    "ax.set_xlim([-.8, 2.2])\n",
    "ax.set_ylim([-1.2, .9])\n",
    "plt.savefig('../figures/sent_bleu.png', dpi=400, bbox_inches='tight')"
   ]
  },
  {
   "cell_type": "code",
   "execution_count": null,
   "metadata": {
    "collapsed": true
   },
   "outputs": [],
   "source": []
  }
 ],
 "metadata": {
  "kernelspec": {
   "display_name": "Python 3",
   "language": "python",
   "name": "python3"
  },
  "language_info": {
   "codemirror_mode": {
    "name": "ipython",
    "version": 3
   },
   "file_extension": ".py",
   "mimetype": "text/x-python",
   "name": "python",
   "nbconvert_exporter": "python",
   "pygments_lexer": "ipython3",
   "version": "3.6.2"
  }
 },
 "nbformat": 4,
 "nbformat_minor": 2
}
