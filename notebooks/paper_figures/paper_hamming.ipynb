{
 "cells": [
  {
   "cell_type": "code",
   "execution_count": 1,
   "metadata": {
    "scrolled": true
   },
   "outputs": [
    {
     "data": {
      "image/png": "[encoded data removed]",
      "text/plain": [
       "<matplotlib.figure.Figure at 0x7f6869c619e8>"
      ]
     },
     "metadata": {},
     "output_type": "display_data"
    }
   ],
   "source": [
    "import random\n",
    "from six.moves import cPickle as pickle\n",
    "import matplotlib.pyplot as plt\n",
    "from matplotlib import rc\n",
    "from matplotlib.patches import Circle\n",
    "rc('text', usetex=True)\n",
    "rc('text.latex', preamble='\\\\usepackage{color}')\n",
    "from PIL import Image\n",
    "import numpy as np\n",
    "from scipy.misc import comb\n",
    "from math import log, exp, sqrt\n",
    "from collections import Counter, OrderedDict\n",
    "import seaborn as sns\n",
    "sns.set_context(\"paper\")\n",
    "# sns.set_context('talk')\n",
    "import string\n",
    "import json\n",
    "import pickle\n",
    "from mpl_toolkits.mplot3d import Axes3D\n",
    "%matplotlib inline\n",
    "# COLORS = [\"#808080\", \"#3498db\", \"#0000b3\", \"#ffd480\", \"#e74c3c\"]\n",
    "blues = sns.color_palette('Blues', 10)\n",
    "reds = sns.color_palette('Reds')\n",
    "COLORS = [\"#808080\", reds[2], blues[5], blues[9]]\n",
    "sns.palplot(sns.color_palette(COLORS))\n"
   ]
  },
  {
   "cell_type": "markdown",
   "metadata": {
    "collapsed": true
   },
   "source": [
    "### Hamming tau"
   ]
  },
  {
   "cell_type": "code",
   "execution_count": 2,
   "metadata": {
    "collapsed": true
   },
   "outputs": [],
   "source": [
    "def distrib(m, v, tau=0.7):\n",
    "    x = [comb(m, d, exact=False) * (v-1)**d / v**m * exp(-d/tau) for d in range(m+1)]\n",
    "    x = np.array(x)\n",
    "    x/= np.sum(x)\n",
    "    return x\n",
    "\n",
    "def distrib2(m, v, tau=0.7):\n",
    "    x = [comb(m, d, exact=False) * (v-1)**d * exp(-d/tau) / (((v-1) * exp(-1/tau)+1) ** m) for d in range(m+1)]\n",
    "    x = np.array(x)\n",
    "    x/= np.sum(x)\n",
    "    return x"
   ]
  },
  {
   "cell_type": "code",
   "execution_count": null,
   "metadata": {
    "collapsed": true
   },
   "outputs": [],
   "source": []
  },
  {
   "cell_type": "code",
   "execution_count": 4,
   "metadata": {
    "collapsed": true
   },
   "outputs": [],
   "source": [
    "def plot_bar_dist(ax, m, V, taus):\n",
    "    h = .3\n",
    "    ticks = [ h*i for i in range(len(taus))]\n",
    "#     clr = sns.color_palette('Blues', 17)\n",
    "    clr = sns.color_palette(\"coolwarm\", 17)\n",
    "    r = []\n",
    "    for tau in taus:\n",
    "        dd = distrib2(m,V,tau)\n",
    "        r.append(dd)\n",
    "    r = np.array(r).T\n",
    "    r = np.vstack((np.zeros(len(taus),), r))\n",
    "    cr = np.cumsum(r, axis=0)\n",
    "    for d in range(1,m+1):\n",
    "    #     print(r[d])\n",
    "        ax.barh(ticks, r[d], left=cr[d-1], color=clr[d], height=h)\n",
    "        for row in range(len(taus)):\n",
    "            if r[d, row] > 3.2e-2:\n",
    "                ax.annotate(d, xy=(cr[d-1, row] + r[d, row]/2 , h * row),\n",
    "                           fontsize=12)\n",
    "    #                         xytext=(cr[d-1, row] + r[d, row]/3 , row))\n",
    "\n",
    "    ax.set_yticks(ticks)\n",
    "    ax.set_yticklabels(['%.2f'%tau for tau in taus])\n",
    "    ax.set_title(r'$V_{sub} = %d$' % V)\n",
    "    ax.set_ylabel(r'$\\tau$', rotation=0)\n",
    "    ax.yaxis.set_label_coords(-0.02,0.98)"
   ]
  },
  {
   "cell_type": "code",
   "execution_count": 5,
   "metadata": {
    "collapsed": true
   },
   "outputs": [],
   "source": [
    "def plot_bar_dist_vertical(ax, m, V, taus):\n",
    "    h = .3\n",
    "    ticks = [ h*i for i in range(len(taus))]\n",
    "#     clr = sns.color_palette('Blues', 17)\n",
    "    clr = sns.color_palette(\"coolwarm\", 17)\n",
    "    r = []\n",
    "    for tau in taus:\n",
    "        dd = distrib2(m,V,tau)\n",
    "        r.append(dd)\n",
    "    r = np.array(r).T\n",
    "    r = np.vstack((np.zeros(len(taus),), r))\n",
    "    cr = np.cumsum(r, axis=0)\n",
    "    for d in range(1,m+1):\n",
    "    #     print(r[d])\n",
    "        ax.bar(ticks, r[d], bottom=cr[d-1], color=clr[d], width=h)\n",
    "        for row in range(len(taus)):\n",
    "            if r[d, row] > 3.2e-2:\n",
    "                ax.annotate(d, xy=(h*row, cr[d-1, row] + r[d, row]/2),\n",
    "                           fontsize=12)\n",
    "    #                         xytext=(cr[d-1, row] + r[d, row]/3 , row))\n",
    "\n",
    "    ax.set_xticks(ticks)\n",
    "    ax.set_xticklabels(['%.2f'%tau for tau in taus])\n",
    "    ax.set_title(r'$V_{sub} = %d$' % V)\n",
    "    ax.set_xlabel(r'$\\tau$', rotation=0)\n",
    "#     ax.xaxis.set_label_coords(0,0)"
   ]
  },
  {
   "cell_type": "code",
   "execution_count": 6,
   "metadata": {},
   "outputs": [
    {
     "data": {
      "image/png": "[encoded data removed]",
      "text/plain": [
       "<matplotlib.figure.Figure at 0x7f68844627f0>"
      ]
     },
     "metadata": {},
     "output_type": "display_data"
    }
   ],
   "source": [
    "sns.set()\n",
    "sns.set_style('whitegrid', rc={\"axes.edgecolor\": 'black'})\n",
    "sns.set_context('paper', font_scale=2.3, rc={\"lines.linewidth\": 2,\n",
    "                                             \"lines.markersize\": 8})\n",
    "\n",
    "\n",
    "f, axs = plt.subplots(1,1, figsize=(3, 7))\n",
    "plot_bar_dist_vertical(axs, 16, 30, [.20, .30, .35])\n",
    "# plot_bar_dist(axs[1], 16, 210, [.1, .15, .2])\n",
    "# plot_bar_dist(axs[2], 16, 9800, [.08, .1, .12])\n",
    "f.tight_layout()\n",
    "plt.subplots_adjust(hspace=0.35)\n",
    "plt.savefig('../figures/hamming_d_distrib_short.png', dpi=400, bbox_inches='tight')"
   ]
  },
  {
   "cell_type": "code",
   "execution_count": 7,
   "metadata": {
    "collapsed": true
   },
   "outputs": [],
   "source": [
    "def distrib_v(m, vs, tau=.1):\n",
    "    vmass = [((v-1) * exp(-1/tau)+1) ** m for v in vs]\n",
    "    vmass = [vm / vmass[-1] for vm in vmass]\n",
    "    return vmass"
   ]
  }
 ],
 "metadata": {
  "kernelspec": {
   "display_name": "Python 3",
   "language": "python",
   "name": "python3"
  },
  "language_info": {
   "codemirror_mode": {
    "name": "ipython",
    "version": 3
   },
   "file_extension": ".py",
   "mimetype": "text/x-python",
   "name": "python",
   "nbconvert_exporter": "python",
   "pygments_lexer": "ipython3",
   "version": "3.6.2"
  }
 },
 "nbformat": 4,
 "nbformat_minor": 2
}
