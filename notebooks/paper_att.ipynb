{
 "cells": [
  {
   "cell_type": "code",
   "execution_count": 1,
   "metadata": {
    "collapsed": true
   },
   "outputs": [],
   "source": [
    "import random\n",
    "from six.moves import cPickle as pickle\n",
    "from sklearn.manifold import TSNE\n",
    "import matplotlib\n",
    "import matplotlib.pyplot as plt\n",
    "from matplotlib import rc\n",
    "from matplotlib.patches import Circle\n",
    "rc('font', **{'family': 'serif', 'serif': ['Computer Modern']})\n",
    "rc('text', usetex=True)\n",
    "rc('text.latex', preamble='\\\\usepackage{color}')\n",
    "from PIL import Image\n",
    "import numpy as np\n",
    "from scipy.misc import comb\n",
    "from math import log, exp, sqrt\n",
    "from collections import Counter, OrderedDict\n",
    "import seaborn as sns\n",
    "sns.set_context(\"paper\")\n",
    "# sns.set_context('talk')\n",
    "import string\n",
    "import json\n",
    "import pickle\n",
    "from mpl_toolkits.mplot3d import Axes3D\n",
    "import matplotlib.image as mpimg\n",
    "%matplotlib inline\n",
    "# COLORS = [\"#808080\", \"#3498db\", \"#0000b3\", \"#ffd480\", \"#e74c3c\"]\n",
    "blues = sns.color_palette('Blues', 10)\n",
    "reds = sns.color_palette('Reds')\n",
    "COLORS = [\"#808080\", reds[2], blues[5], blues[9]]\n",
    "# sns.palplot(sns.color_palette(COLORS))\n",
    "\n",
    "# from multiprocessing import set_start_method\n",
    "# try:\n",
    "#     set_start_method('spawn')\n",
    "# except RuntimeError:\n",
    "#     pass"
   ]
  },
  {
   "cell_type": "markdown",
   "metadata": {
    "collapsed": true
   },
   "source": [
    "## Config data"
   ]
  },
  {
   "cell_type": "code",
   "execution_count": 2,
   "metadata": {
    "collapsed": true
   },
   "outputs": [],
   "source": [
    "# Constants\n",
    "itow = json.load(open('../data/coco/cocotalk.json', 'r'))['ix_to_word']\n",
    "WORDS = {int(k): v for k, v in itow.items()}\n",
    "if 0 not in WORDS:\n",
    "    WORDS[0] = 'EOS'\n",
    "MATCH = {v: k for k,v in WORDS.items()}\n",
    "del itow\n",
    "FF = pickle.load(open('../data/coco/idf_coco_01.pkl', 'rb'))\n",
    "F = pickle.load(open('cooc_freq.pkl', 'rb'))[0]\n",
    "sim_coco = pickle.load(open('../data/Glove/glove_coco_d300_w15_similarities.pkl','rb'))\n",
    "G2_coco = pickle.load(open('../data/Glove/glove_coco_d300_w15_matrix_tsne2D.pkl', 'rb'))\n",
    "\n",
    "A = json.load(open('../data/coco/captions_train2014.json', 'r'))['annotations']\n",
    "caps = {}\n",
    "for a in A:\n",
    "    if a['image_id'] in caps:\n",
    "        caps[a['image_id']].append(a['caption'][:-1].lower().split())\n",
    "    else:\n",
    "        caps[a['image_id']] = [a['caption'][:-1].lower().split()]\n",
    "del A\n",
    "\n",
    "\n",
    "A = json.load(open('../data/coco/captions_val2014.json', 'r'))['annotations']\n",
    "caps_val = {}\n",
    "for a in A:\n",
    "    if a['image_id'] in caps_val:\n",
    "        caps_val[a['image_id']].append(a['caption'][:-1].lower().split())\n",
    "    else:\n",
    "        caps_val[a['image_id']] = [a['caption'][:-1].lower().split()]\n",
    "del A"
   ]
  },
  {
   "cell_type": "code",
   "execution_count": null,
   "metadata": {
    "collapsed": true
   },
   "outputs": [],
   "source": [
    "def attention_visualization(root, image_name, caption, alphas):\n",
    "    image = Image.open(os.path.join(root, image_name))\n",
    "    image = image.resize([224, 224], Image.LANCZOS)\n",
    "    plt.subplot(4,5,1)\n",
    "    plt.imshow(image)\n",
    "    plt.axis('off')\n",
    "    \n",
    "    words = caption[1:]\n",
    "    for t in range(len(words)):\n",
    "        if t > 18:\n",
    "            break\n",
    "        plt.subplot(4, 5, t+2)\n",
    "        plt.text(0, 1, '%s'%(words[t]) , color='black', backgroundcolor='white', fontsize=8)\n",
    "        plt.imshow(image)\n",
    "        # print alphas\n",
    "        alp_curr = alphas[t, :].view(14, 14)\n",
    "        alp_img = skimage.transform.pyramid_expand(alp_curr.numpy(), upscale=16, sigma=20)\n",
    "        plt.imshow(alp_img, alpha=0.85)\n",
    "        plt.axis('off')\n",
    "    plt.show()\n",
    "    \n"
   ]
  }
 ],
 "metadata": {
  "kernelspec": {
   "display_name": "Python 3",
   "language": "python",
   "name": "python3"
  },
  "language_info": {
   "codemirror_mode": {
    "name": "ipython",
    "version": 3
   },
   "file_extension": ".py",
   "mimetype": "text/x-python",
   "name": "python",
   "nbconvert_exporter": "python",
   "pygments_lexer": "ipython3",
   "version": "3.6.2"
  }
 },
 "nbformat": 4,
 "nbformat_minor": 2
}
