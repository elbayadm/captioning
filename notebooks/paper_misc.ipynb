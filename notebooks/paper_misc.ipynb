{
 "cells": [
  {
   "cell_type": "code",
   "execution_count": 1,
   "metadata": {},
   "outputs": [
    {
     "data": {
      "image/png": "[encoded data removed]",
      "text/plain": [
       "<matplotlib.figure.Figure at 0x7fe73cae5c18>"
      ]
     },
     "metadata": {},
     "output_type": "display_data"
    }
   ],
   "source": [
    "import random\n",
    "from six.moves import cPickle as pickle\n",
    "from sklearn.manifold import TSNE\n",
    "import matplotlib.pyplot as plt\n",
    "from matplotlib import rc\n",
    "from matplotlib.patches import Circle\n",
    "rc('text', usetex=True)\n",
    "rc('text.latex', preamble='\\\\usepackage{color}')\n",
    "from PIL import Image\n",
    "import numpy as np\n",
    "from scipy.misc import comb\n",
    "from math import log, exp, sqrt\n",
    "from collections import Counter, OrderedDict\n",
    "import seaborn as sns\n",
    "sns.set_context(\"paper\")\n",
    "# sns.set_context('talk')\n",
    "import string\n",
    "import json\n",
    "import pickle\n",
    "from mpl_toolkits.mplot3d import Axes3D\n",
    "%matplotlib inline\n",
    "# COLORS = [\"#808080\", \"#3498db\", \"#0000b3\", \"#ffd480\", \"#e74c3c\"]\n",
    "blues = sns.color_palette('Blues', 10)\n",
    "reds = sns.color_palette('Reds')\n",
    "COLORS = [\"#808080\", reds[2], blues[5], blues[9]]\n",
    "sns.palplot(sns.color_palette(COLORS))\n",
    "\n",
    "# from multiprocessing import set_start_method\n",
    "# try:\n",
    "#     set_start_method('spawn')\n",
    "# except RuntimeError:\n",
    "#     pass"
   ]
  },
  {
   "cell_type": "markdown",
   "metadata": {
    "collapsed": true
   },
   "source": [
    "## Abstract"
   ]
  },
  {
   "cell_type": "code",
   "execution_count": null,
   "metadata": {
    "collapsed": true
   },
   "outputs": [],
   "source": [
    "L = 800\n",
    "x = np.arange(L)\n",
    "y = np.zeros(L)\n",
    "center = 300\n",
    "a = 1e-5\n",
    "y = 1/a * (1/np.pi * 1/(1+((x- center)/a)**2))\n",
    "y /= np.sum(y)\n",
    "\n",
    "if 0:\n",
    "    centers = [center] + np.random.randint(low=1,\n",
    "                                           high=L,\n",
    "                                           size=10)\n",
    "    sigmas = np.random.randint(low=1,\n",
    "                               high=10,\n",
    "                               size=10) / 10\n",
    "    weights = [5] + np.random.randint(low=1,\n",
    "                                      high=10,\n",
    "                                      size=10)/2\n",
    "    weights = weights / np.sum(weights)\n",
    "    z = np.zeros(L)\n",
    "    for w, c, s in zip(weights, centers, sigmas):\n",
    "        z += w * np.exp(-(x-c)**2/2/s)\n",
    "    # z += 1/30 * np.random.randn(50)\n",
    "if 1:\n",
    "    sigma = 10\n",
    "    z = np.exp(-(x-center)**2/2/sigma**2)\n",
    "z /= np.sum(z)\n",
    "z = 13 * z\n",
    "sns.set()\n",
    "sns.set_style('whitegrid', rc={\"axes.edgecolor\": 'darkgray'})\n",
    "sns.set_context('paper', font_scale=2.3, rc={\"lines.linewidth\": 2,\n",
    "                                             \"lines.markersize\": 8})\n",
    "plt.figure(figsize=(6,5))\n",
    "plt.plot(x, y, label='MLE')\n",
    "plt.plot(x, z, label='Reward')\n",
    "plt.xlim([center-12*sigma, center+12*sigma])\n",
    "plt.xticks([])\n",
    "plt.legend()\n",
    "# plt.xticks(centers, ['jungle', 'forest', 'clearing'], rotation=45)"
   ]
  },
  {
   "cell_type": "code",
   "execution_count": null,
   "metadata": {
    "collapsed": true
   },
   "outputs": [],
   "source": []
  }
 ],
 "metadata": {
  "kernelspec": {
   "display_name": "Python 3",
   "language": "python",
   "name": "python3"
  },
  "language_info": {
   "codemirror_mode": {
    "name": "ipython",
    "version": 3
   },
   "file_extension": ".py",
   "mimetype": "text/x-python",
   "name": "python",
   "nbconvert_exporter": "python",
   "pygments_lexer": "ipython3",
   "version": "3.6.2"
  }
 },
 "nbformat": 4,
 "nbformat_minor": 2
}
