{
 "cells": [
  {
   "cell_type": "code",
   "execution_count": 61,
   "metadata": {},
   "outputs": [
    {
     "data": {
      "image/png": "[encoded data removed]",
      "text/plain": [
       "<matplotlib.figure.Figure at 0x7f5078881978>"
      ]
     },
     "metadata": {},
     "output_type": "display_data"
    }
   ],
   "source": [
    "import random\n",
    "from six.moves import cPickle as pickle\n",
    "from sklearn.manifold import TSNE\n",
    "import matplotlib.pyplot as plt\n",
    "from matplotlib import rc\n",
    "from matplotlib.patches import Circle\n",
    "rc('text', usetex=True)\n",
    "rc('text.latex', preamble='\\\\usepackage{color}')\n",
    "from PIL import Image\n",
    "import numpy as np\n",
    "from scipy.misc import comb\n",
    "from math import log, exp, sqrt\n",
    "from collections import Counter, OrderedDict\n",
    "import numpy as np, scipy.stats as st\n",
    "import seaborn as sns\n",
    "sns.set_context(\"paper\")\n",
    "# sns.set_context('talk')\n",
    "import string\n",
    "import json\n",
    "import pickle\n",
    "from mpl_toolkits.mplot3d import Axes3D\n",
    "%matplotlib inline\n",
    "# COLORS = [\"#808080\", \"#3498db\", \"#0000b3\", \"#ffd480\", \"#e74c3c\"]\n",
    "blues = sns.color_palette('Blues', 10)\n",
    "reds = sns.color_palette('Reds')\n",
    "COLORS = [\"#808080\", reds[2], blues[5], blues[9]]\n",
    "sns.palplot(sns.color_palette(COLORS))\n",
    "\n",
    "# from multiprocessing import set_start_method\n",
    "# try:\n",
    "#     set_start_method('spawn')\n",
    "# except RuntimeError:\n",
    "#     pass"
   ]
  },
  {
   "cell_type": "markdown",
   "metadata": {
    "collapsed": true
   },
   "source": [
    "## Abstract"
   ]
  },
  {
   "cell_type": "code",
   "execution_count": null,
   "metadata": {
    "collapsed": true
   },
   "outputs": [],
   "source": [
    "L = 800\n",
    "x = np.arange(L)\n",
    "y = np.zeros(L)\n",
    "center = 300\n",
    "a = 1e-5\n",
    "y = 1/a * (1/np.pi * 1/(1+((x- center)/a)**2))\n",
    "y /= np.sum(y)\n",
    "\n",
    "if 0:\n",
    "    centers = [center] + np.random.randint(low=1,\n",
    "                                           high=L,\n",
    "                                           size=10)\n",
    "    sigmas = np.random.randint(low=1,\n",
    "                               high=10,\n",
    "                               size=10) / 10\n",
    "    weights = [5] + np.random.randint(low=1,\n",
    "                                      high=10,\n",
    "                                      size=10)/2\n",
    "    weights = weights / np.sum(weights)\n",
    "    z = np.zeros(L)\n",
    "    for w, c, s in zip(weights, centers, sigmas):\n",
    "        z += w * np.exp(-(x-c)**2/2/s)\n",
    "    # z += 1/30 * np.random.randn(50)\n",
    "if 1:\n",
    "    sigma = 10\n",
    "    z = np.exp(-(x-center)**2/2/sigma**2)\n",
    "z /= np.sum(z)\n",
    "z = 13 * z\n",
    "sns.set()\n",
    "sns.set_style('whitegrid', rc={\"axes.edgecolor\": 'darkgray'})\n",
    "sns.set_context('paper', font_scale=2.3, rc={\"lines.linewidth\": 2,\n",
    "                                             \"lines.markersize\": 8})\n",
    "plt.figure(figsize=(6,5))\n",
    "plt.plot(x, y, label='MLE')\n",
    "plt.plot(x, z, label='Reward')\n",
    "plt.xlim([center-12*sigma, center+12*sigma])\n",
    "plt.xticks([])\n",
    "plt.legend()\n",
    "# plt.xticks(centers, ['jungle', 'forest', 'clearing'], rotation=45)"
   ]
  },
  {
   "cell_type": "code",
   "execution_count": 12,
   "metadata": {
    "collapsed": true
   },
   "outputs": [],
   "source": [
    "CI = pickle.load(open('../results/overall_ci.stats', 'rb'))"
   ]
  },
  {
   "cell_type": "code",
   "execution_count": 42,
   "metadata": {},
   "outputs": [
    {
     "data": {
      "text/plain": [
       "['fncnn6_reset_word_coco_tword009_idf10_a07_proj_embed_tied_init_free_showtell152',\n",
       " 'fncnn6_reset_baseline_proj_Glove_coco_free_showtell152',\n",
       " 'fncnn6_reset_baseline_showtell152',\n",
       " 'fncnn6_reset_baseline_proj_embed_tied_Glove_coco_free_showtell152',\n",
       " 'fncnn6_reset_baseline_proj_Glove_coco_frozen_showtell152',\n",
       " 'fncnn6_reset_importance_qhamming_pool2_tsent03_rbleu4_mode3_tsent05_a05_showtell152',\n",
       " 'fncnn6_reset_importance_qhamming_pool2_tsent03_rbleu4_mode2_tsent03_a05_showtell152',\n",
       " 'fncnn6_reset_strat_rhamming_sim_pool1_tsent017_a04_showtell152',\n",
       " 'fncnn6_reset_importance_qhamming_pool0_tsent01_rbleu4_mode0_tsent07_a05_showtell152',\n",
       " 'fncnn6_reset_importance_qhamming_limited1_tsent017_rcider_tsent05_a04_topdown_v2',\n",
       " 'fncnn6_reset_importance_qhamming_pool2_tsent03_rbleu4_mode0_tsent03_a05_showtell152',\n",
       " 'fncnn6_reset_strat_rhamming_sim_pool0_tsent01_a04_topdown',\n",
       " 'fncnn6_reset_strat_rhamming_sim_pool0_tsent01_a04_showtell152',\n",
       " 'fncnn6_reset_importance_qhamming_pool2_tsent03_rbleu4_mode0_tsent07_a05_showtell152',\n",
       " 'fncnn6_reset_importance_qhamming_sim_pool0_tsent01_rcider_tsent05_a04_showtell152',\n",
       " 'fncnn6_reset_importance_qhamming_limited2_tsent03_rcider_tsent05_a04_topdown_v2',\n",
       " 'fncnn6_reset_importance_qhamming_pool2_tsent03_rbleu4_mode0_tsent07_a04_topdown',\n",
       " 'fncnn6_reset_importance_qhamming_pool1_tsent017_rbleu4_tsent05_a04_showtell152',\n",
       " 'fncnn6_reset_importance_qhamming_pool1_tsent017_rbleu4_mode0_tsent07_a04_showtell152',\n",
       " 'fncnn6_reset_importance_qhamming_pool0_tsent01_rbleu4_tsent05_a04_showtell152',\n",
       " 'fncnn6_reset_importance_qhamming_pool0_tsent01_rbleu4_mode3_tsent05_a04_showtell152',\n",
       " 'fncnn6_reset_importance_qhamming_pool1_tsent017_rbleu4_mode3_tsent05_a04_showtell152',\n",
       " 'fncnn6_reset_importance_qhamming_pool0_tsent01_rbleu4_tsent05_a04_topdown',\n",
       " 'fncnn6_reset_importance_qhamming_pool1_tsent017_rbleu4_mode0_tsent07_a04_topdown',\n",
       " 'fncnn6_reset_importance_qhamming_pool0_tsent01_rbleu4_mode0_tsent07_a04_topdown',\n",
       " 'fncnn6_reset_ml_penalize01_showtell152',\n",
       " 'fncnn6_reset_baseline_GloveW_coco_free_showtell152',\n",
       " 'fncnn6_reset_baseline_GloveW_coco_frozen_showtell152',\n",
       " 'fncnn6_reset_importance_lazy_qhamming_limited1_tsent017_rcider_tsent05_a04_showtell152',\n",
       " 'fncnn6_reset_importance_lazy_qhamming_limited1_tsent017_rcider_tsent05_a04_topdown',\n",
       " 'fncnn6_reset_importance_qhamming_limited1_tsent017_rcider_tsent05_a04_topdown',\n",
       " 'fncnn6_reset_importance_qhamming_limited1_tsent017_rcider_tsent05_a04_showtell152',\n",
       " 'fncnn6_reset_strat_lazy_rhamming_pool1_tsent017_a04_topdown',\n",
       " 'fncnn6_reset_strat_rhamming_pool1_tsent017_a04_showtell152',\n",
       " 'fncnn6_reset_strat_rhamming_pool1_tsent017_a04_topdown',\n",
       " 'fncnn6_reset_strat_rhamming_pool2_tsent03_a05_showtell152',\n",
       " 'fncnn6_reset_topdown_resnet152_msc',\n",
       " 'fncnn6_reset_word_coco_tword015_a07_showtell152',\n",
       " 'fncnn6_reset_word_coco_tword009_idf10_a07_showtell152',\n",
       " 'fncnn6_reset_word_coco_tword013_a03_topdown',\n",
       " 'fncnn6_reset_word_coco_tword013_a05_topdown',\n",
       " 'fncnn6_reset_importance_qhamming_limited2_tsent03_rcider_tsent05_a05_showtell152',\n",
       " 'fncnn6_reset_word_coco_tword009_idf10_a03_topdown',\n",
       " 'fncnn6_reset_strat_lazy_rhamming_pool1_tsent017_a04_showtell152',\n",
       " 'fncnn6_reset_strat_rhamming_pool2_tsent03_a04_topdown',\n",
       " 'fncnn6_reset_strat_lazy_rhamming_pool2_tsent03_a05_showtell152',\n",
       " 'fncnn6_reset_importance_lazy_qhamming_limited2_tsent03_rcider_tsent05_a05_topdown',\n",
       " 'fncnn6_reset_importance_lazy_qhamming_limited2_tsent03_rcider_tsent05_a05_showtell152',\n",
       " 'fncnn6_reset_strat_rhamming_pool0_tsent01_a04_showtell152',\n",
       " 'fncnn6_reset_importance_qhamming_limited2_tsent03_rcider_tsent05_a04_topdown',\n",
       " 'fncnn6_reset_strat_lazy_rhamming_pool2_tsent03_a04_topdown',\n",
       " 'fncnn6_reset_strat_lazy_rhamming_pool0_tsent01_a04_showtell152',\n",
       " 'fncnn6_reset_combine_importance_qhamming_limited1_tsent017_rcider_tsent05_a04_word_coco_tword009_idf10_a07_showtell152',\n",
       " 'fncnn6_reset_combine_importance_qhamming_limited2_tsent03_rcider_tsent05_a05_word_coco_tword009_idf10_a07_showtell152',\n",
       " 'fncnn6_reset_combine_strat_rhamming_pool2_tsent03_a05_word_coco_tword009_idf10_a07_showtell152',\n",
       " 'fncnn6_reset_combine_strat_rhamming_pool2_tsent03_a04_word_coco_tword009_idf10_a03_topdown',\n",
       " 'fncnn6_reset_strat_lazy_rhamming_pool0_tsent01_a04_topdown',\n",
       " 'fncnn6_reset_combine_importance_qhamming_limited2_tsent03_rcider_tsent05_a04_word_coco_tword009_idf10_a03_topdown',\n",
       " 'fncnn6_reset_strat_rhamming_pool0_tsent01_a04_topdown',\n",
       " 'fncnn6_reset_importance_lazy_qhamming_pool0_tsent01_rcider_tsent05_a04_showtell152',\n",
       " 'fncnn6_reset_importance_lazy_qhamming_pool0_tsent01_rcider_tsent05_a04_topdown',\n",
       " 'fncnn6_reset_importance_qhamming_pool0_tsent01_rcider_tsent05_a04_showtell152',\n",
       " 'fncnn6_reset_combine_strat_rhamming_pool1_tsent017_a04_word_coco_tword009_idf10_a03_topdown',\n",
       " 'fncnn6_reset_combine_strat_rhamming_pool1_tsent017_a04_word_coco_tword009_idf10_a07_showtell152',\n",
       " 'fncnn6_reset_combine_importance_qhamming_limited1_tsent017_rcider_tsent05_a04_word_coco_tword009_idf10_a03_topdown',\n",
       " 'fncnn6_reset_importance_qhamming_pool2_tsent03_rbleu4_tsent05_a05_showtell152',\n",
       " 'fncnn6_reset_importance_qhamming_pool0_tsent01_rcider_tsent05_a04_topdown',\n",
       " 'fncnn6_reset_importance_qhamming_pool2_tsent03_rcst_a05_showtell152']"
      ]
     },
     "execution_count": 42,
     "metadata": {},
     "output_type": "execute_result"
    }
   ],
   "source": [
    "list(CI)"
   ]
  },
  {
   "cell_type": "code",
   "execution_count": 6,
   "metadata": {},
   "outputs": [],
   "source": [
    "b = CI['fncnn6_reset_baseline_showtell152']\n",
    "cider = [ep['CIDEr'] for ep in b]"
   ]
  },
  {
   "cell_type": "code",
   "execution_count": 68,
   "metadata": {},
   "outputs": [
    {
     "name": "stdout",
     "output_type": "stream",
     "text": [
      "['fncnn6_reset_baseline_GloveW_coco_free_showtell152', 'fncnn6_reset_baseline_GloveW_coco_frozen_showtell152', 'fncnn6_reset_baseline_proj_embed_tied_Glove_coco_free_showtell152', 'fncnn6_reset_baseline_proj_Glove_coco_free_showtell152', 'fncnn6_reset_baseline_proj_Glove_coco_frozen_showtell152', 'fncnn6_reset_baseline_showtell152', 'fncnn6_reset_combine_importance_qhamming_limited1_tsent017_rcider_tsent05_a04_word_coco_tword009_idf10_a03_topdown', 'fncnn6_reset_combine_importance_qhamming_limited1_tsent017_rcider_tsent05_a04_word_coco_tword009_idf10_a07_showtell152', 'fncnn6_reset_combine_importance_qhamming_limited2_tsent03_rcider_tsent05_a04_word_coco_tword009_idf10_a03_topdown', 'fncnn6_reset_combine_importance_qhamming_limited2_tsent03_rcider_tsent05_a05_word_coco_tword009_idf10_a07_showtell152', 'fncnn6_reset_combine_strat_rhamming_pool1_tsent017_a04_word_coco_tword009_idf10_a03_topdown', 'fncnn6_reset_combine_strat_rhamming_pool1_tsent017_a04_word_coco_tword009_idf10_a07_showtell152', 'fncnn6_reset_combine_strat_rhamming_pool2_tsent03_a04_word_coco_tword009_idf10_a03_topdown', 'fncnn6_reset_combine_strat_rhamming_pool2_tsent03_a05_word_coco_tword009_idf10_a07_showtell152', 'fncnn6_reset_importance_lazy_qhamming_limited1_tsent017_rcider_tsent05_a04_showtell1', 'fncnn6_reset_importance_lazy_qhamming_limited1_tsent017_rcider_tsent05_a04_showtell152', 'fncnn6_reset_importance_lazy_qhamming_limited1_tsent017_rcider_tsent05_a04_topdown', 'fncnn6_reset_importance_lazy_qhamming_limited2_tsent03_rcider_tsent05_a05_showtell152', 'fncnn6_reset_importance_lazy_qhamming_limited2_tsent03_rcider_tsent05_a05_topdown', 'fncnn6_reset_importance_lazy_qhamming_pool0_tsent01_rcider_tsent05_a04_showtell152', 'fncnn6_reset_importance_lazy_qhamming_pool0_tsent01_rcider_tsent05_a04_topdown', 'fncnn6_reset_importance_qhamming_limited1_tsent017_rcider_tsent05_a04_showtell152', 'fncnn6_reset_importance_qhamming_limited1_tsent017_rcider_tsent05_a04_topdown', 'fncnn6_reset_importance_qhamming_limited1_tsent017_rcider_tsent05_a04_topdown_v2', 'fncnn6_reset_importance_qhamming_limited2_tsent03_rcider_tsent05_a04_topdown', 'fncnn6_reset_importance_qhamming_limited2_tsent03_rcider_tsent05_a04_topdown_v2', 'fncnn6_reset_importance_qhamming_limited2_tsent03_rcider_tsent05_a05_showtell152', 'fncnn6_reset_importance_qhamming_pool0_tsent01_rbleu4_mode0_tsent07_a04_topdown', 'fncnn6_reset_importance_qhamming_pool0_tsent01_rbleu4_mode0_tsent07_a05_showtell152', 'fncnn6_reset_importance_qhamming_pool0_tsent01_rbleu4_mode3_tsent05_a04_showtell152', 'fncnn6_reset_importance_qhamming_pool0_tsent01_rbleu4_tsent05_a04_showtell152', 'fncnn6_reset_importance_qhamming_pool0_tsent01_rbleu4_tsent05_a04_topdown', 'fncnn6_reset_importance_qhamming_pool0_tsent01_rcider_tsent05_a04_showtell152', 'fncnn6_reset_importance_qhamming_pool0_tsent01_rcider_tsent05_a04_topdown', 'fncnn6_reset_importance_qhamming_pool1_tsent017_rbleu4_mode0_tsent07_a04_showtell152', 'fncnn6_reset_importance_qhamming_pool1_tsent017_rbleu4_mode0_tsent07_a04_topdown', 'fncnn6_reset_importance_qhamming_pool1_tsent017_rbleu4_mode3_tsent05_a04_showtell152', 'fncnn6_reset_importance_qhamming_pool1_tsent017_rbleu4_tsent05_a04_showtell152', 'fncnn6_reset_importance_qhamming_pool2_tsent03_rbleu4_mode0_tsent03_a05_showtell152', 'fncnn6_reset_importance_qhamming_pool2_tsent03_rbleu4_mode0_tsent07_a04_topdown', 'fncnn6_reset_importance_qhamming_pool2_tsent03_rbleu4_mode0_tsent07_a05_showtell152', 'fncnn6_reset_importance_qhamming_pool2_tsent03_rbleu4_mode2_tsent03_a05_showtell152', 'fncnn6_reset_importance_qhamming_pool2_tsent03_rbleu4_mode3_tsent05_a05_showtell152', 'fncnn6_reset_importance_qhamming_pool2_tsent03_rbleu4_tsent05_a05_showtell152', 'fncnn6_reset_importance_qhamming_pool2_tsent03_rcst_a05_showtell152', 'fncnn6_reset_importance_qhamming_sim_pool0_tsent01_rcider_tsent05_a04_showtell152', 'fncnn6_reset_ml_penalize01_showtell152', 'fncnn6_reset_strat_lazy_rhamming_pool0_tsent01_a04_showtell152', 'fncnn6_reset_strat_lazy_rhamming_pool0_tsent01_a04_topdown', 'fncnn6_reset_strat_lazy_rhamming_pool1_tsent017_a04_showtell152', 'fncnn6_reset_strat_lazy_rhamming_pool1_tsent017_a04_topdown', 'fncnn6_reset_strat_lazy_rhamming_pool2_tsent03_a04_topdown', 'fncnn6_reset_strat_lazy_rhamming_pool2_tsent03_a05_showtell152', 'fncnn6_reset_strat_rhamming_pool0_tsent01_a04_showtell152', 'fncnn6_reset_strat_rhamming_pool0_tsent01_a04_topdown', 'fncnn6_reset_strat_rhamming_pool1_tsent017_a04_showtell152', 'fncnn6_reset_strat_rhamming_pool1_tsent017_a04_topdown', 'fncnn6_reset_strat_rhamming_pool2_tsent03_a04_topdown', 'fncnn6_reset_strat_rhamming_pool2_tsent03_a05_showtell152', 'fncnn6_reset_strat_rhamming_sim_pool0_tsent01_a04_showtell152', 'fncnn6_reset_strat_rhamming_sim_pool0_tsent01_a04_topdown', 'fncnn6_reset_strat_rhamming_sim_pool1_tsent017_a04_showtell152', 'fncnn6_reset_topdown_resnet152_mc', 'fncnn6_reset_topdown_resnet152_msc', 'fncnn6_reset_word_coco_tword009_idf10_a03_topdown', 'fncnn6_reset_word_coco_tword009_idf10_a07_proj_embed_tied_init_free_showtell152', 'fncnn6_reset_word_coco_tword009_idf10_a07_showtell152', 'fncnn6_reset_word_coco_tword013_a03_topdown', 'fncnn6_reset_word_coco_tword013_a05_topdown', 'fncnn6_reset_word_coco_tword015_a07_showtell152']\n"
     ]
    }
   ],
   "source": [
    "with open(\"../LISTMODELS\", 'r') as f:\n",
    "    allmodels = [l.strip() for l in f.readlines()]\n",
    "print(allmodels)"
   ]
  },
  {
   "cell_type": "code",
   "execution_count": 71,
   "metadata": {
    "scrolled": true
   },
   "outputs": [
    {
     "name": "stdout",
     "output_type": "stream",
     "text": [
      "fncnn6_reset_importance_qhamming_pool0_tsent01_rbleu4_mode0_tsent07_a05_showtell152 ci width: 0.614025957108\n",
      "fncnn6_reset_importance_qhamming_pool0_tsent01_rbleu4_mode3_tsent05_a04_showtell152 ci width: 0.518217382617\n",
      "fncnn6_reset_importance_qhamming_pool0_tsent01_rbleu4_tsent05_a04_showtell152 ci width: 0.39075996309\n",
      "fncnn6_reset_importance_qhamming_pool1_tsent017_rbleu4_mode0_tsent07_a04_showtell152 ci width: 0.63392729022\n",
      "fncnn6_reset_importance_qhamming_pool1_tsent017_rbleu4_mode3_tsent05_a04_showtell152 ci width: 0.577358881031\n",
      "fncnn6_reset_importance_qhamming_pool1_tsent017_rbleu4_tsent05_a04_showtell152 ci width: 0.721752239523\n",
      "fncnn6_reset_importance_qhamming_pool2_tsent03_rbleu4_mode0_tsent03_a05_showtell152 ci width: 0.767706312329\n",
      "fncnn6_reset_importance_qhamming_pool2_tsent03_rbleu4_mode0_tsent07_a05_showtell152 ci width: 0.904567865845\n",
      "fncnn6_reset_importance_qhamming_pool2_tsent03_rbleu4_mode2_tsent03_a05_showtell152 ci width: 0.30402986565\n",
      "fncnn6_reset_importance_qhamming_pool2_tsent03_rbleu4_mode3_tsent05_a05_showtell152 ci width: 0.493681661794\n",
      "fncnn6_reset_importance_qhamming_pool2_tsent03_rbleu4_tsent05_a05_showtell152 ci width: 0.705707738991\n"
     ]
    }
   ],
   "source": [
    "def isrequired(m, fltrs, exc=[]):\n",
    "    for f in fltrs:\n",
    "        if f not in m:\n",
    "            return False\n",
    "    for c in exc:\n",
    "        if c in m:\n",
    "            return False\n",
    "    return True\n",
    "\n",
    "models = [m for m in allmodels if isrequired(m, ['bleu', 'show'])]\n",
    "# models = ['baseline_showtell152',\n",
    "#           'topdown_resnet152_msc',\n",
    "#           \"word_coco_tword009_idf10_a07_showtell152\",\n",
    "#           'combine_strat_rhamming_pool2_tsent03_a05_word_coco_tword009_idf10_a07_showtell152']\n",
    "# labels = ['Baseline Show\\&Tell', \"Baseline TopDown\", \"Tok Show\\&Tell\", 'Combine Show\\&Tell']\n",
    "sns.set()\n",
    "sns.set_style('whitegrid', rc={\"axes.edgecolor\": 'darkgray'})\n",
    "sns.set_context('paper', font_scale=2.3, rc={\"lines.linewidth\": 2,\n",
    "                                             \"lines.markersize\": 8})\n",
    "# fig, axes = plt.subplots(1, len(models), figsize=(2*len(models), 3), sharey=True)\n",
    "for e, model in enumerate(models):\n",
    "    cid = [100 * ep['CIDEr'] for ep in CI[model]][-8:]\n",
    "    ci = st.t.interval(0.95, len(cid)-1, loc=np.mean(cid), scale=st.sem(cid))\n",
    "    print(models[e], \"ci width:\", ci[1]-ci[0])\n",
    "#     axes[e].boxplot(cid, notch=0, sym='+')\n",
    "#     axes[e].set_xticklabels([labels[e]], fontsize=10)\n",
    "# axes[0].set_yticks(np.linspace(90, 110, 6))\n",
    "# axes[0].set_yticklabels(np.linspace(90, 110, 6), fontsize=10)"
   ]
  },
  {
   "cell_type": "code",
   "execution_count": null,
   "metadata": {
    "collapsed": true
   },
   "outputs": [],
   "source": [
    "\n"
   ]
  }
 ],
 "metadata": {
  "kernelspec": {
   "display_name": "Python 3",
   "language": "python",
   "name": "python3"
  },
  "language_info": {
   "codemirror_mode": {
    "name": "ipython",
    "version": 3
   },
   "file_extension": ".py",
   "mimetype": "text/x-python",
   "name": "python",
   "nbconvert_exporter": "python",
   "pygments_lexer": "ipython3",
   "version": "3.6.2"
  }
 },
 "nbformat": 4,
 "nbformat_minor": 2
}
