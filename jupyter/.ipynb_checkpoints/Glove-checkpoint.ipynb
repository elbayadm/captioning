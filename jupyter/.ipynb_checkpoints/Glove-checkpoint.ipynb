{
 "cells": [
  {
   "cell_type": "code",
   "execution_count": 3,
   "metadata": {
    "collapsed": true
   },
   "outputs": [],
   "source": [
    "from six.moves import cPickle as pickle\n",
    "import numpy as np\n",
    "import json\n",
    "from sklearn.neighbors import KDTree\n",
    "from collections import OrderedDict\n",
    "from sklearn.metrics.pairwise import cosine_similarity, cosine_distances\n",
    "import scipy\n",
    "import matplotlib.pyplot as plt\n",
    "from nltk.tokenize.moses import MosesTokenizer\n",
    "tokenizer = MosesTokenizer()\n"
   ]
  },
  {
   "cell_type": "code",
   "execution_count": 4,
   "metadata": {
    "collapsed": true
   },
   "outputs": [],
   "source": [
    "\n",
    "def get_pairwise_distances(G):\n",
    "    # G = pickle.load(open('data/Glove/cocotalk_glove_v2.pkl', 'r'))\n",
    "    eps = 1e-6\n",
    "    print(\"G shape:\", G.shape, len(G))\n",
    "    #  G[-1] = np.mean(G)\n",
    "    for i in range(len(G)):\n",
    "        if not np.sum(G[i] ** 2):\n",
    "            print('%d) norm(g) = 0' % i)\n",
    "            G[i] = eps + G[i]\n",
    "    Ds = scipy.spatial.distance.pdist(G, metric='cosine')\n",
    "    Ds = scipy.spatial.distance.squareform(Ds)\n",
    "    As = np.diag(Ds)\n",
    "    print(\"(scipy) sum:\", np.sum(As), \"min:\", np.min(Ds), np.min(As), \"max:\", np.max(Ds), np.max(As))\n",
    "    Ds = 1 - Ds / 2# map to [0,1]\n",
    "    print(\"Shapes:\", Ds.shape, np.min(Ds), np.max(Ds), np.diag(Ds))\n",
    "    return Ds\n",
    "\n",
    "\n",
    "def prepare_glove(ixtow, source):\n",
    "    \"\"\"\n",
    "    inputs:\n",
    "        ixtow : index to word dictionnary of the vocab\n",
    "        source: dict of the glove vectors\n",
    "    \"\"\"\n",
    "    missing = []\n",
    "    G = np.zeros((len(ixtow), 300), dtype=\"float32\") # 300 in case of using glove\n",
    "    for i in range(len(ixtow)):\n",
    "        word = ixtow[i]\n",
    "        #  print \"word:\", word\n",
    "        if word in source:\n",
    "            G[i] = source[word]\n",
    "            if not np.sum(G[i] ** 2):\n",
    "                raise ValueError(\"Norm of glove embedding null token %d| word %s\" % (i, word) )\n",
    "        else:\n",
    "            missing.append(word)\n",
    "        \n",
    "    # pickle.dump(G, open('data/Glove/%s' % output, 'wb'), protocol=pickle.HIGHEST_PROTOCOL)\n",
    "    return G, missing  "
   ]
  },
  {
   "cell_type": "code",
   "execution_count": 3,
   "metadata": {
    "collapsed": true
   },
   "outputs": [],
   "source": [
    "# pickle.dump(Glove, open('data/Glove/glove_dict.pkl', 'w'), protocol=pickle.HIGHEST_PROTOCOL)\n",
    "# Glove = pickle.load(open('data/Glove/glove_dict_fr.pkl', 'rb'))\n",
    "# Glove = pickle.load(open('data/embeddings/full_image.pkl', 'rb'), encoding='iso-8859-1')"
   ]
  },
  {
   "cell_type": "code",
   "execution_count": 4,
   "metadata": {},
   "outputs": [
    {
     "data": {
      "text/plain": [
       "['de', ',', '.', 'la', 'et', 'le', 'à', 'en', '\"', \"l'\"]"
      ]
     },
     "execution_count": 4,
     "metadata": {},
     "output_type": "execute_result"
    }
   ],
   "source": [
    "list(Glove)[:10]"
   ]
  },
  {
   "cell_type": "code",
   "execution_count": 5,
   "metadata": {},
   "outputs": [
    {
     "name": "stdout",
     "output_type": "stream",
     "text": [
      "Vocabulary size: 29996\n",
      "Special tokens: <PAD> <EOS> <BOS> <UNK>\n"
     ]
    }
   ],
   "source": [
    "data = pickle.load(open('../seq2seq/data/WMT14/fr_trg.pkl', \"rb\"))\n",
    "ixtow = data['itow']\n",
    "print('Vocabulary size:', len(ixtow))\n",
    "print('Special tokens:', ixtow[0], ixtow[1],  ixtow[2],  ixtow[3])"
   ]
  },
  {
   "cell_type": "code",
   "execution_count": 13,
   "metadata": {},
   "outputs": [
    {
     "name": "stdout",
     "output_type": "stream",
     "text": [
      "Preparing Glove embeddings matrix\n",
      "Preparing similarities matrix\n",
      "missing words:  ['<PAD>', '<EOS>', '<BOS>', '<UNK>']\n"
     ]
    }
   ],
   "source": [
    "\n",
    "print(\"Preparing Glove embeddings matrix\")\n",
    "gloves, mis = prepare_glove(ixtow, Glove)\n",
    "print(\"Preparing similarities matrix\")\n",
    "print('missing words: ', mis)\n",
    "# Sim = get_pairwise_distances(gloves)\n",
    "# pickle.dump(Sim, open('data/fr_similarities.pkl', 'wb'))"
   ]
  },
  {
   "cell_type": "code",
   "execution_count": 6,
   "metadata": {
    "collapsed": true
   },
   "outputs": [],
   "source": [
    "gloves = pickle.load(open('data/Glove/glove_dict_fr.pkl', 'rb'))"
   ]
  },
  {
   "cell_type": "code",
   "execution_count": 7,
   "metadata": {},
   "outputs": [
    {
     "data": {
      "text/plain": [
       "29996"
      ]
     },
     "execution_count": 7,
     "metadata": {},
     "output_type": "execute_result"
    }
   ],
   "source": [
    "len(gloves)"
   ]
  },
  {
   "cell_type": "code",
   "execution_count": 8,
   "metadata": {},
   "outputs": [
    {
     "name": "stdout",
     "output_type": "stream",
     "text": [
      "G shape: (29996, 300) 29996\n",
      "0) norm(g) = 0\n",
      "1) norm(g) = 0\n",
      "2) norm(g) = 0\n",
      "3) norm(g) = 0\n",
      "(scipy) sum: 0.0 min: 0.0 0.0 max: 1.37624118893 0.0\n",
      "Shapes: (29996, 29996) 0.311879405534 1.0 [ 1.  1.  1. ...,  1.  1.  1.]\n"
     ]
    }
   ],
   "source": [
    "Sim = get_pairwise_distances(gloves)"
   ]
  },
  {
   "cell_type": "code",
   "execution_count": 10,
   "metadata": {},
   "outputs": [
    {
     "name": "stdout",
     "output_type": "stream",
     "text": [
      "sim: (29996, 29996)\n"
     ]
    }
   ],
   "source": [
    "print('sim:', Sim.shape)"
   ]
  },
  {
   "cell_type": "code",
   "execution_count": 5,
   "metadata": {
    "collapsed": true
   },
   "outputs": [],
   "source": [
    "Glove = {}\n",
    "with open('Glove_fr/vectors.txt', 'r') as f:\n",
    "    for l in f.readlines():\n",
    "        l = l.strip().split()\n",
    "        word = l[0]\n",
    "        code = np.array(l[1:])\n",
    "        Glove[word] = code"
   ]
  },
  {
   "cell_type": "code",
   "execution_count": 6,
   "metadata": {},
   "outputs": [
    {
     "data": {
      "text/plain": [
       "1336085"
      ]
     },
     "execution_count": 6,
     "metadata": {},
     "output_type": "execute_result"
    }
   ],
   "source": [
    "len(Glove)"
   ]
  },
  {
   "cell_type": "code",
   "execution_count": 12,
   "metadata": {
    "collapsed": true
   },
   "outputs": [],
   "source": [
    "pickle.dump(gloves, open('data/Glove/glove_dict_fr.pkl', 'wb'), protocol=4)"
   ]
  },
  {
   "cell_type": "code",
   "execution_count": 17,
   "metadata": {
    "collapsed": true
   },
   "outputs": [],
   "source": [
    "SS = np.float32(Sim)"
   ]
  },
  {
   "cell_type": "code",
   "execution_count": 18,
   "metadata": {},
   "outputs": [
    {
     "ename": "NameError",
     "evalue": "name 'size' is not defined",
     "output_type": "error",
     "traceback": [
      "\u001b[0;31m---------------------------------------------------------------------------\u001b[0m",
      "\u001b[0;31mNameError\u001b[0m                                 Traceback (most recent call last)",
      "\u001b[0;32m<ipython-input-18-d064681b7b0a>\u001b[0m in \u001b[0;36m<module>\u001b[0;34m()\u001b[0m\n\u001b[0;32m----> 1\u001b[0;31m \u001b[0msize\u001b[0m\u001b[0;34m(\u001b[0m\u001b[0mSS\u001b[0m\u001b[0;34m)\u001b[0m\u001b[0;34m\u001b[0m\u001b[0m\n\u001b[0m",
      "\u001b[0;31mNameError\u001b[0m: name 'size' is not defined"
     ]
    }
   ],
   "source": []
  },
  {
   "cell_type": "code",
   "execution_count": 19,
   "metadata": {
    "collapsed": true
   },
   "outputs": [],
   "source": [
    "pickle.dump(SS, open('../seq2seq/data/WMT14/fr_similarities.pkl', 'wb'), protocol=4)"
   ]
  },
  {
   "cell_type": "code",
   "execution_count": null,
   "metadata": {
    "collapsed": true
   },
   "outputs": [],
   "source": [
    "data.keys()"
   ]
  },
  {
   "cell_type": "code",
   "execution_count": null,
   "metadata": {
    "collapsed": true
   },
   "outputs": [],
   "source": []
  }
 ],
 "metadata": {
  "kernelspec": {
   "display_name": "Python 3",
   "language": "python",
   "name": "python3"
  },
  "language_info": {
   "codemirror_mode": {
    "name": "ipython",
    "version": 3
   },
   "file_extension": ".py",
   "mimetype": "text/x-python",
   "name": "python",
   "nbconvert_exporter": "python",
   "pygments_lexer": "ipython3",
   "version": "3.6.2"
  }
 },
 "nbformat": 4,
 "nbformat_minor": 2
}
