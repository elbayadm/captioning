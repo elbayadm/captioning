{
 "cells": [
  {
   "cell_type": "code",
   "execution_count": null,
   "metadata": {
    "collapsed": true
   },
   "outputs": [],
   "source": [
    "from six.moves import cPickle as pickle\n",
    "import numpy as np\n",
    "import json\n",
    "from sklearn.neighbors import KDTree\n",
    "from collections import OrderedDict\n",
    "from sklearn.metrics.pairwise import cosine_similarity, cosine_distances\n",
    "import scipy\n",
    "import matplotlib.pyplot as plt\n",
    "from nltk.tokenize.moses import MosesTokenizer\n",
    "tokenizer = MosesTokenizer()\n"
   ]
  },
  {
   "cell_type": "code",
   "execution_count": null,
   "metadata": {
    "collapsed": true
   },
   "outputs": [],
   "source": [
    "def get_pairwise_distances(G):\n",
    "    # G = pickle.load(open('data/Glove/cocotalk_glove_v2.pkl', 'r'))\n",
    "    eps = 1e-6\n",
    "    print(\"G shape:\", G.shape, len(G))\n",
    "    #  G[-1] = np.mean(G)\n",
    "    for i in range(len(G)):\n",
    "        if not np.sum(G[i] ** 2):\n",
    "            print('%d) norm(g) = 0' % i)\n",
    "            G[i] = eps + G[i]\n",
    "    Ds = scipy.spatial.distance.pdist(G, metric='cosine')\n",
    "    Ds = scipy.spatial.distance.squareform(Ds)\n",
    "    As = np.diag(Ds)\n",
    "    print(\"(scipy) sum:\", np.sum(As), \"min:\", np.min(Ds), np.min(As), \"max:\", np.max(Ds), np.max(As))\n",
    "    Ds = 1 - Ds / 2# map to [0,1]\n",
    "    print(\"Shapes:\", Ds.shape, np.min(Ds), np.max(Ds), np.diag(Ds))\n",
    "    return Ds\n",
    "\n",
    "\n",
    "def prepare_glove(ixtow, source, dim=300):\n",
    "    \"\"\"\n",
    "    inputs:\n",
    "        ixtow : index to word dictionnary of the vocab\n",
    "        source: dict of the glove vectors\n",
    "    \"\"\"\n",
    "    missing = []\n",
    "    G = np.zeros((len(ixtow), dim), dtype=\"float32\") # 300 in case of using glove\n",
    "    for i in range(len(ixtow)):\n",
    "        word = ixtow[i]\n",
    "        #  print \"word:\", word\n",
    "        if word in source:\n",
    "            G[i] = source[word]\n",
    "            if not np.sum(G[i] ** 2):\n",
    "                raise ValueError(\"Norm of glove embedding null token %d| word %s\" % (i, word) )\n",
    "        else:\n",
    "            missing.append(word)\n",
    "        \n",
    "    # pickle.dump(G, open('data/Glove/%s' % output, 'wb'), protocol=pickle.HIGHEST_PROTOCOL)\n",
    "    return G, missing  "
   ]
  },
  {
   "cell_type": "code",
   "execution_count": null,
   "metadata": {
    "collapsed": true
   },
   "outputs": [],
   "source": [
    "# pickle.dump(Glove, open('data/Glove/glove_dict.pkl', 'w'), protocol=pickle.HIGHEST_PROTOCOL)\n",
    "# Glove = pickle.load(open('data/Glove/glove_dict_fr.pkl', 'rb'))\n",
    "# Glove = pickle.load(open('data/embeddings/full_image.pkl', 'rb'), encoding='iso-8859-1')"
   ]
  },
  {
   "cell_type": "code",
   "execution_count": null,
   "metadata": {},
   "outputs": [],
   "source": [
    "#Load vocab\n",
    "# data = pickle.load(open('../seq2seq/data/WMT14/fr_trg.pkl', \"rb\"))\n",
    "itow = json.load(open('../data/coco/cocotalk.json', 'r'))['ix_to_word']\n",
    "print('Vocabulary size:', len(itow))"
   ]
  },
  {
   "cell_type": "code",
   "execution_count": null,
   "metadata": {
    "collapsed": true
   },
   "outputs": [],
   "source": [
    "REF = \"glove_coco_d512_w15\" \n",
    "glove_dict = {}\n",
    "with open('../data/Glove/vectors.txt', 'r') as f:\n",
    "    for l in f.readlines():\n",
    "        l = l.strip().split()\n",
    "        word = l[0]\n",
    "        code = np.array(l[1:])\n",
    "        glove_dict[word] = code\n",
    "pickle.dump(glove_dict, open('../data/Glove/%s_dict.pkl' % REF, 'wb'))"
   ]
  },
  {
   "cell_type": "code",
   "execution_count": null,
   "metadata": {},
   "outputs": [],
   "source": [
    "print(\"Preparing Glove embeddings matrix\")\n",
    "glove_matrix, mis = prepare_glove(itow, glove_dict)\n",
    "print('missing words: ', mis)\n",
    "Sim = get_pairwise_distances(gloves)\n",
    "Sim = np.float32(Sim)\n",
    "pickle.dump(Sim, open('../data/Glove/%s_similarities.pkl' % REF, 'wb'))"
   ]
  }
 ],
 "metadata": {
  "kernelspec": {
   "display_name": "Python 3",
   "language": "python",
   "name": "python3"
  },
  "language_info": {
   "codemirror_mode": {
    "name": "ipython",
    "version": 3
   },
   "file_extension": ".py",
   "mimetype": "text/x-python",
   "name": "python",
   "nbconvert_exporter": "python",
   "pygments_lexer": "ipython3",
   "version": "3.6.2"
  }
 },
 "nbformat": 4,
 "nbformat_minor": 2
}
