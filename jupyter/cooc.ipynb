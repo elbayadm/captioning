{
 "cells": [
  {
   "cell_type": "code",
   "execution_count": 29,
   "metadata": {
    "collapsed": true
   },
   "outputs": [],
   "source": [
    "import numpy as np\n",
    "import pickle\n",
    "import json\n",
    "import matplotlib.pyplot as plt\n",
    "from matplotlib.patches import Circle\n",
    "import seaborn as sns\n",
    "# sns.set_context(\"paper\")\n",
    "sns.set_context('talk')\n",
    "sns.set()\n",
    "%matplotlib inline"
   ]
  },
  {
   "cell_type": "code",
   "execution_count": 6,
   "metadata": {
    "collapsed": true
   },
   "outputs": [],
   "source": [
    "# Constants\n",
    "itow = json.load(open('../data/coco/cocotalk.json', 'r'))['ix_to_word']\n",
    "WORDS = {int(k): v for k, v in itow.items()}\n",
    "if 0 not in WORDS:\n",
    "    WORDS[0] = 'EOS'\n",
    "MATCH = {v: k for k,v in WORDS.items()}\n",
    "del itow"
   ]
  },
  {
   "cell_type": "code",
   "execution_count": 7,
   "metadata": {
    "collapsed": true
   },
   "outputs": [],
   "source": [
    "vocab = {}\n",
    "with open('../data/Glove/CooC/vocab', 'r') as f:\n",
    "    e = 1\n",
    "    for line in f.readlines():\n",
    "        vocab[e] = line.split()[0]\n",
    "        e += 1"
   ]
  },
  {
   "cell_type": "code",
   "execution_count": 8,
   "metadata": {
    "collapsed": true
   },
   "outputs": [],
   "source": [
    "gmatch = {}\n",
    "for i, gw in vocab.items():\n",
    "    if gw in MATCH:\n",
    "        # word in coco\n",
    "        gmatch[i] = MATCH[gw]"
   ]
  },
  {
   "cell_type": "code",
   "execution_count": 67,
   "metadata": {},
   "outputs": [
    {
     "name": "stdout",
     "output_type": "stream",
     "text": [
      "Cooc matrix of size (9488, 9488)\n"
     ]
    }
   ],
   "source": [
    "CooC10 = np.zeros((len(WORDS), len(WORDS)))\n",
    "print('Cooc matrix of size', CooC10.shape)\n",
    "with open('../data/Glove/CooC/cooccurences.10.txt', 'r') as f:\n",
    "    for line in f.readlines():\n",
    "        w1, w2, c = line.split(',')\n",
    "        w1 = int(w1)\n",
    "        w2 = int(w2)\n",
    "        if w1 in gmatch and w2 in gmatch:\n",
    "            c = float(c)\n",
    "            CooC10[gmatch[w1], gmatch[w2]] = c\n",
    "pickle.dump(np.float32(CooC10), open(\"../data/coco/clean_coocurrencs10_coco.pkl\", 'wb'))"
   ]
  },
  {
   "cell_type": "code",
   "execution_count": 55,
   "metadata": {
    "collapsed": true
   },
   "outputs": [],
   "source": [
    "CooC10[:,0] = 1\n",
    "CooC10[:,-1] = 1\n",
    "CooC10[0] = 1\n",
    "CooC10[-1] = 1"
   ]
  },
  {
   "cell_type": "code",
   "execution_count": 56,
   "metadata": {},
   "outputs": [],
   "source": [
    "# Divise by row sum to get Pij\n",
    "CooC10 = CooC10/CooC10.sum(axis=1, keepdims=True)"
   ]
  },
  {
   "cell_type": "code",
   "execution_count": 57,
   "metadata": {
    "collapsed": true
   },
   "outputs": [],
   "source": [
    "CooC10 = np.clip(CooC10, 1e-40, 1)"
   ]
  },
  {
   "cell_type": "code",
   "execution_count": 60,
   "metadata": {
    "collapsed": true
   },
   "outputs": [],
   "source": [
    "CooC10 = np.log(CooC10)"
   ]
  },
  {
   "cell_type": "code",
   "execution_count": 63,
   "metadata": {},
   "outputs": [
    {
     "name": "stdout",
     "output_type": "stream",
     "text": [
      "max: 0.0 min: -92.1034037198\n"
     ]
    }
   ],
   "source": [
    "print('max:', np.max(CooC10), \"min:\", np.min(CooC10))"
   ]
  },
  {
   "cell_type": "code",
   "execution_count": 59,
   "metadata": {},
   "outputs": [
    {
     "name": "stdout",
     "output_type": "stream",
     "text": [
      "Diag min: 1e-40  max: 0.583834523549\n"
     ]
    }
   ],
   "source": [
    "print('Diag min:', np.min(np.diag(CooC10)),' max:', np.max(np.diag(CooC10)))"
   ]
  },
  {
   "cell_type": "code",
   "execution_count": 61,
   "metadata": {},
   "outputs": [],
   "source": [
    "for i in range(len(CooC10)):\n",
    "    CooC10[i,i] = 0 "
   ]
  },
  {
   "cell_type": "code",
   "execution_count": 62,
   "metadata": {},
   "outputs": [
    {
     "data": {
      "text/plain": [
       "array([-9.15778312, -9.15778312, -9.15778312, ..., -9.15778312,\n",
       "       -9.15778312,  0.        ])"
      ]
     },
     "execution_count": 62,
     "metadata": {},
     "output_type": "execute_result"
    }
   ],
   "source": [
    "CooC10[-1]"
   ]
  },
  {
   "cell_type": "code",
   "execution_count": 65,
   "metadata": {},
   "outputs": [
    {
     "data": {
      "text/plain": [
       "<matplotlib.axes._subplots.AxesSubplot at 0x7fd55def6b70>"
      ]
     },
     "execution_count": 65,
     "metadata": {},
     "output_type": "execute_result"
    },
    {
     "data": {
      "image/png": "[encoded data removed]",
      "text/plain": [
       "<matplotlib.figure.Figure at 0x7fd55dfc1f28>"
      ]
     },
     "metadata": {},
     "output_type": "display_data"
    }
   ],
   "source": [
    "sns.set()\n",
    "sns.heatmap(CooC10[:300, :300], vmax=0)\n"
   ]
  },
  {
   "cell_type": "code",
   "execution_count": 66,
   "metadata": {
    "collapsed": true
   },
   "outputs": [],
   "source": [
    "pickle.dump(np.float32(CooC10), open(\"../data/coco/coocurrencs10_coco.pkl\", 'wb'))"
   ]
  },
  {
   "cell_type": "code",
   "execution_count": null,
   "metadata": {
    "collapsed": true
   },
   "outputs": [],
   "source": []
  }
 ],
 "metadata": {
  "kernelspec": {
   "display_name": "Python 3",
   "language": "python",
   "name": "python3"
  },
  "language_info": {
   "codemirror_mode": {
    "name": "ipython",
    "version": 3
   },
   "file_extension": ".py",
   "mimetype": "text/x-python",
   "name": "python",
   "nbconvert_exporter": "python",
   "pygments_lexer": "ipython3",
   "version": "3.6.2"
  }
 },
 "nbformat": 4,
 "nbformat_minor": 2
}
